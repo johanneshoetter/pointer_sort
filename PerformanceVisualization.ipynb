{
 "cells": [
  {
   "cell_type": "markdown",
   "metadata": {},
   "source": [
    "Note: read without environment activated, as the environment for pointer sort has no matplotlib"
   ]
  },
  {
   "cell_type": "markdown",
   "metadata": {},
   "source": [
    "from matplotlib import rc\n",
    "rc('font',**{'family':'sans-serif','sans-serif':['Helvetica']})\n",
    "rc('text', usetex=True)"
   ]
  },
  {
   "cell_type": "code",
   "execution_count": 1,
   "metadata": {},
   "outputs": [],
   "source": [
    "import seaborn as sns\n",
    "import numpy as np\n",
    "import scipy.stats\n",
    "import matplotlib.pyplot as plt\n",
    "import pandas as pd\n",
    "\n",
    "sns.set_style({'font.family': ['computer modern roman']})\n",
    "sns.set_context(\"paper\")"
   ]
  },
  {
   "cell_type": "code",
   "execution_count": 2,
   "metadata": {},
   "outputs": [],
   "source": [
    "def fbeta_score(precision, recall, beta=1):\n",
    "    upper_part = precision * recall\n",
    "    lower_part = (beta**2 * precision) + recall\n",
    "    factor = (1.0 + beta**2)\n",
    "    return factor * (upper_part / lower_part)\n",
    "\n",
    "\n",
    "def mean_confidence_interval(data, confidence=0.95):\n",
    "    a = 1.0 * np.array(data)\n",
    "    n = len(a)\n",
    "    m, se = np.mean(a), scipy.stats.sem(a)\n",
    "    h = se * scipy.stats.t.ppf((1 + confidence) / 2., n-1)\n",
    "    return m, h"
   ]
  },
  {
   "cell_type": "code",
   "execution_count": 3,
   "metadata": {},
   "outputs": [],
   "source": [
    "colors = {\n",
    "    'accuracy': '#148F77',\n",
    "    'recall': '#FF5733',\n",
    "    'precision': '#FFC300',\n",
    "    'fbeta': '#4167DF'\n",
    "}\n",
    "names = {\n",
    "    'accuracy': r'$accuracy$',\n",
    "    'recall': r'$recall$',\n",
    "    'precision': r'$precision$',\n",
    "    'fbeta': r'$F_{\\beta}, \\beta = 1$'\n",
    "}\n",
    "positions = {\n",
    "    'accuracy': '0,0',\n",
    "    'recall': '0,1',\n",
    "    'precision': '1,0',\n",
    "    'fbeta': '1,1'\n",
    "}"
   ]
  },
  {
   "cell_type": "markdown",
   "metadata": {},
   "source": [
    "# Net-specific analysis"
   ]
  },
  {
   "cell_type": "code",
   "execution_count": 4,
   "metadata": {},
   "outputs": [
    {
     "data": {
      "text/html": [
       "<div>\n",
       "<style scoped>\n",
       "    .dataframe tbody tr th:only-of-type {\n",
       "        vertical-align: middle;\n",
       "    }\n",
       "\n",
       "    .dataframe tbody tr th {\n",
       "        vertical-align: top;\n",
       "    }\n",
       "\n",
       "    .dataframe thead th {\n",
       "        text-align: right;\n",
       "    }\n",
       "</style>\n",
       "<table border=\"1\" class=\"dataframe\">\n",
       "  <thead>\n",
       "    <tr style=\"text-align: right;\">\n",
       "      <th></th>\n",
       "      <th>epoch</th>\n",
       "      <th>train_accuracy</th>\n",
       "      <th>test_accuracy</th>\n",
       "      <th>train_recall</th>\n",
       "      <th>test_recall</th>\n",
       "      <th>train_precision</th>\n",
       "      <th>test_precision</th>\n",
       "    </tr>\n",
       "  </thead>\n",
       "  <tbody>\n",
       "    <tr>\n",
       "      <td>0</td>\n",
       "      <td>1</td>\n",
       "      <td>0.405664</td>\n",
       "      <td>0.416801</td>\n",
       "      <td>0.411464</td>\n",
       "      <td>0.417389</td>\n",
       "      <td>0.408243</td>\n",
       "      <td>0.417389</td>\n",
       "    </tr>\n",
       "    <tr>\n",
       "      <td>1</td>\n",
       "      <td>2</td>\n",
       "      <td>0.410927</td>\n",
       "      <td>0.427656</td>\n",
       "      <td>0.416677</td>\n",
       "      <td>0.466504</td>\n",
       "      <td>0.419352</td>\n",
       "      <td>0.466504</td>\n",
       "    </tr>\n",
       "    <tr>\n",
       "      <td>2</td>\n",
       "      <td>3</td>\n",
       "      <td>0.440870</td>\n",
       "      <td>0.504523</td>\n",
       "      <td>0.475573</td>\n",
       "      <td>0.569486</td>\n",
       "      <td>0.535265</td>\n",
       "      <td>0.569486</td>\n",
       "    </tr>\n",
       "    <tr>\n",
       "      <td>3</td>\n",
       "      <td>4</td>\n",
       "      <td>0.517374</td>\n",
       "      <td>0.562806</td>\n",
       "      <td>0.568234</td>\n",
       "      <td>0.615182</td>\n",
       "      <td>0.645593</td>\n",
       "      <td>0.615182</td>\n",
       "    </tr>\n",
       "    <tr>\n",
       "      <td>4</td>\n",
       "      <td>5</td>\n",
       "      <td>0.535840</td>\n",
       "      <td>0.568764</td>\n",
       "      <td>0.590102</td>\n",
       "      <td>0.622536</td>\n",
       "      <td>0.673458</td>\n",
       "      <td>0.622536</td>\n",
       "    </tr>\n",
       "  </tbody>\n",
       "</table>\n",
       "</div>"
      ],
      "text/plain": [
       "   epoch  train_accuracy  test_accuracy  train_recall  test_recall  \\\n",
       "0      1        0.405664       0.416801      0.411464     0.417389   \n",
       "1      2        0.410927       0.427656      0.416677     0.466504   \n",
       "2      3        0.440870       0.504523      0.475573     0.569486   \n",
       "3      4        0.517374       0.562806      0.568234     0.615182   \n",
       "4      5        0.535840       0.568764      0.590102     0.622536   \n",
       "\n",
       "   train_precision  test_precision  \n",
       "0         0.408243        0.417389  \n",
       "1         0.419352        0.466504  \n",
       "2         0.535265        0.569486  \n",
       "3         0.645593        0.615182  \n",
       "4         0.673458        0.622536  "
      ]
     },
     "execution_count": 4,
     "metadata": {},
     "output_type": "execute_result"
    }
   ],
   "source": [
    "version = 'np'\n",
    "log_df = pd.read_csv('logging/schema_pointer_{}.txt'.format(version))\n",
    "log_df.head()"
   ]
  },
  {
   "cell_type": "code",
   "execution_count": 5,
   "metadata": {},
   "outputs": [
    {
     "data": {
      "text/html": [
       "<div>\n",
       "<style scoped>\n",
       "    .dataframe tbody tr th:only-of-type {\n",
       "        vertical-align: middle;\n",
       "    }\n",
       "\n",
       "    .dataframe tbody tr th {\n",
       "        vertical-align: top;\n",
       "    }\n",
       "\n",
       "    .dataframe thead th {\n",
       "        text-align: right;\n",
       "    }\n",
       "</style>\n",
       "<table border=\"1\" class=\"dataframe\">\n",
       "  <thead>\n",
       "    <tr style=\"text-align: right;\">\n",
       "      <th></th>\n",
       "      <th>epoch</th>\n",
       "      <th>train_accuracy</th>\n",
       "      <th>test_accuracy</th>\n",
       "      <th>train_recall</th>\n",
       "      <th>test_recall</th>\n",
       "      <th>train_precision</th>\n",
       "      <th>test_precision</th>\n",
       "      <th>train_fbeta</th>\n",
       "      <th>test_fbeta</th>\n",
       "    </tr>\n",
       "  </thead>\n",
       "  <tbody>\n",
       "    <tr>\n",
       "      <td>0</td>\n",
       "      <td>1</td>\n",
       "      <td>0.405664</td>\n",
       "      <td>0.416801</td>\n",
       "      <td>0.411464</td>\n",
       "      <td>0.417389</td>\n",
       "      <td>0.408243</td>\n",
       "      <td>0.417389</td>\n",
       "      <td>0.409847</td>\n",
       "      <td>0.417389</td>\n",
       "    </tr>\n",
       "    <tr>\n",
       "      <td>1</td>\n",
       "      <td>2</td>\n",
       "      <td>0.410927</td>\n",
       "      <td>0.427656</td>\n",
       "      <td>0.416677</td>\n",
       "      <td>0.466504</td>\n",
       "      <td>0.419352</td>\n",
       "      <td>0.466504</td>\n",
       "      <td>0.41801</td>\n",
       "      <td>0.466504</td>\n",
       "    </tr>\n",
       "    <tr>\n",
       "      <td>2</td>\n",
       "      <td>3</td>\n",
       "      <td>0.440870</td>\n",
       "      <td>0.504523</td>\n",
       "      <td>0.475573</td>\n",
       "      <td>0.569486</td>\n",
       "      <td>0.535265</td>\n",
       "      <td>0.569486</td>\n",
       "      <td>0.503657</td>\n",
       "      <td>0.569486</td>\n",
       "    </tr>\n",
       "    <tr>\n",
       "      <td>3</td>\n",
       "      <td>4</td>\n",
       "      <td>0.517374</td>\n",
       "      <td>0.562806</td>\n",
       "      <td>0.568234</td>\n",
       "      <td>0.615182</td>\n",
       "      <td>0.645593</td>\n",
       "      <td>0.615182</td>\n",
       "      <td>0.604448</td>\n",
       "      <td>0.615182</td>\n",
       "    </tr>\n",
       "    <tr>\n",
       "      <td>4</td>\n",
       "      <td>5</td>\n",
       "      <td>0.535840</td>\n",
       "      <td>0.568764</td>\n",
       "      <td>0.590102</td>\n",
       "      <td>0.622536</td>\n",
       "      <td>0.673458</td>\n",
       "      <td>0.622536</td>\n",
       "      <td>0.629031</td>\n",
       "      <td>0.622536</td>\n",
       "    </tr>\n",
       "  </tbody>\n",
       "</table>\n",
       "</div>"
      ],
      "text/plain": [
       "   epoch  train_accuracy  test_accuracy  train_recall  test_recall  \\\n",
       "0      1        0.405664       0.416801      0.411464     0.417389   \n",
       "1      2        0.410927       0.427656      0.416677     0.466504   \n",
       "2      3        0.440870       0.504523      0.475573     0.569486   \n",
       "3      4        0.517374       0.562806      0.568234     0.615182   \n",
       "4      5        0.535840       0.568764      0.590102     0.622536   \n",
       "\n",
       "   train_precision  test_precision train_fbeta test_fbeta  \n",
       "0         0.408243        0.417389    0.409847   0.417389  \n",
       "1         0.419352        0.466504     0.41801   0.466504  \n",
       "2         0.535265        0.569486    0.503657   0.569486  \n",
       "3         0.645593        0.615182    0.604448   0.615182  \n",
       "4         0.673458        0.622536    0.629031   0.622536  "
      ]
     },
     "execution_count": 5,
     "metadata": {},
     "output_type": "execute_result"
    }
   ],
   "source": [
    "log_df['train_fbeta'] = ''\n",
    "log_df['test_fbeta'] = ''\n",
    "for idx, row in log_df.iterrows():\n",
    "    train_precision, train_recall = row[['train_precision', 'train_recall']]\n",
    "    test_precision, test_recall = row[['test_precision', 'test_recall']]\n",
    "    row['train_fbeta'] = fbeta_score(train_precision, train_recall)\n",
    "    row['test_fbeta'] = fbeta_score(test_precision, test_recall)\n",
    "    log_df.loc[idx] = row\n",
    "log_df.head()"
   ]
  },
  {
   "cell_type": "markdown",
   "metadata": {},
   "source": [
    "---"
   ]
  },
  {
   "cell_type": "code",
   "execution_count": 6,
   "metadata": {},
   "outputs": [
    {
     "name": "stderr",
     "output_type": "stream",
     "text": [
      "findfont: Font family ['computer modern roman'] not found. Falling back to DejaVu Sans.\n",
      "findfont: Font family ['computer modern roman'] not found. Falling back to DejaVu Sans.\n"
     ]
    },
    {
     "data": {
      "image/png": "[encoded data removed]",
      "text/plain": [
       "<Figure size 360x360 with 4 Axes>"
      ]
     },
     "metadata": {
      "needs_background": "light"
     },
     "output_type": "display_data"
    }
   ],
   "source": [
    "fig, axs = plt.subplots(2,2, figsize=(5, 5))\n",
    "plt.subplots_adjust(wspace=0.4, hspace=0.4)\n",
    "for metric in colors.keys():\n",
    "    x = log_df['epoch'].values\n",
    "    y = log_df['train_{}'.format(metric)].values\n",
    "    position = [int(p) for p in positions[metric].split(',')]\n",
    "    ax = axs[position[0], position[1]]\n",
    "    ax.plot(x,y, label='train', color=colors[metric])\n",
    "    \n",
    "    y = log_df['test_{}'.format(metric)].values\n",
    "    ax.plot(x,y, label='test', linestyle='--', color=colors[metric])\n",
    "    ax.set_ylabel('{}'.format(names[metric]))\n",
    "    ax.set_xlabel('Epoch')\n",
    "    ax.legend()\n",
    "plt.savefig('figures/{}/training.jpg'.format(version), bbox_inches = 'tight')\n",
    "plt.show();"
   ]
  },
  {
   "cell_type": "markdown",
   "metadata": {},
   "source": [
    "# Side-by-Side Comparison"
   ]
  },
  {
   "cell_type": "code",
   "execution_count": 16,
   "metadata": {},
   "outputs": [],
   "source": [
    "version = 'sp'\n",
    "df_all = pd.read_csv('logging/combined_bootstrap_analysis_batchsize256_{}.txt'.format(version))\n",
    "df_o2n = pd.read_csv('logging/o2n_bootstrap_analysis_batchsize256_{}.txt'.format(version))\n",
    "df_o2o = pd.read_csv('logging/o2o_bootstrap_analysis_batchsize256_{}.txt'.format(version))\n",
    "df_o2z = pd.read_csv('logging/o2z_bootstrap_analysis_batchsize256_{}.txt'.format(version))\n",
    "dfs = {\n",
    "    'all': df_all,\n",
    "    'o2n': df_o2n,\n",
    "    'o2o': df_o2o,\n",
    "    'o2z': df_o2z,\n",
    "}\n",
    "for df in dfs.values():\n",
    "    df['fbeta'] = ''\n",
    "    for idx, row in df.iterrows():\n",
    "        _, recall, precision, _ = row\n",
    "        row['fbeta'] = fbeta_score(precision, recall)\n",
    "        df.loc[idx] = row"
   ]
  },
  {
   "cell_type": "code",
   "execution_count": 17,
   "metadata": {},
   "outputs": [
    {
     "data": {
      "text/html": [
       "<div>\n",
       "<style scoped>\n",
       "    .dataframe tbody tr th:only-of-type {\n",
       "        vertical-align: middle;\n",
       "    }\n",
       "\n",
       "    .dataframe tbody tr th {\n",
       "        vertical-align: top;\n",
       "    }\n",
       "\n",
       "    .dataframe thead th {\n",
       "        text-align: right;\n",
       "    }\n",
       "</style>\n",
       "<table border=\"1\" class=\"dataframe\">\n",
       "  <thead>\n",
       "    <tr style=\"text-align: right;\">\n",
       "      <th></th>\n",
       "      <th>accuracy</th>\n",
       "      <th>recall</th>\n",
       "      <th>precision</th>\n",
       "      <th>fbeta</th>\n",
       "    </tr>\n",
       "  </thead>\n",
       "  <tbody>\n",
       "    <tr>\n",
       "      <td>0</td>\n",
       "      <td>0.971429</td>\n",
       "      <td>0.971429</td>\n",
       "      <td>0.971429</td>\n",
       "      <td>0.971429</td>\n",
       "    </tr>\n",
       "    <tr>\n",
       "      <td>1</td>\n",
       "      <td>0.985507</td>\n",
       "      <td>0.985507</td>\n",
       "      <td>0.985507</td>\n",
       "      <td>0.985507</td>\n",
       "    </tr>\n",
       "    <tr>\n",
       "      <td>2</td>\n",
       "      <td>1.000000</td>\n",
       "      <td>1.000000</td>\n",
       "      <td>1.000000</td>\n",
       "      <td>1</td>\n",
       "    </tr>\n",
       "    <tr>\n",
       "      <td>3</td>\n",
       "      <td>0.982143</td>\n",
       "      <td>0.982143</td>\n",
       "      <td>0.982143</td>\n",
       "      <td>0.982143</td>\n",
       "    </tr>\n",
       "    <tr>\n",
       "      <td>4</td>\n",
       "      <td>0.971429</td>\n",
       "      <td>0.971429</td>\n",
       "      <td>0.971429</td>\n",
       "      <td>0.971429</td>\n",
       "    </tr>\n",
       "  </tbody>\n",
       "</table>\n",
       "</div>"
      ],
      "text/plain": [
       "   accuracy    recall  precision     fbeta\n",
       "0  0.971429  0.971429   0.971429  0.971429\n",
       "1  0.985507  0.985507   0.985507  0.985507\n",
       "2  1.000000  1.000000   1.000000         1\n",
       "3  0.982143  0.982143   0.982143  0.982143\n",
       "4  0.971429  0.971429   0.971429  0.971429"
      ]
     },
     "execution_count": 17,
     "metadata": {},
     "output_type": "execute_result"
    }
   ],
   "source": [
    "df_o2z.head()"
   ]
  },
  {
   "cell_type": "code",
   "execution_count": 18,
   "metadata": {},
   "outputs": [],
   "source": [
    "metrics = {\n",
    "    'mean': {},\n",
    "    'recall': {},\n",
    "    'precision': {},\n",
    "    'fbeta': {}\n",
    "}\n",
    "for key, df in dfs.items():\n",
    "    accuracies = list(df['accuracy'].values)\n",
    "    metrics['mean'][key] = mean_confidence_interval(accuracies)\n",
    "    \n",
    "    recalls = list(df['recall'].values)\n",
    "    metrics['recall'][key] = mean_confidence_interval(recalls)\n",
    "    \n",
    "    precisions = list(df['precision'].values)\n",
    "    metrics['precision'][key] = mean_confidence_interval(precisions)\n",
    "    \n",
    "    fbetas = list(df['fbeta'].values)\n",
    "    metrics['fbeta'][key] = mean_confidence_interval(fbetas)"
   ]
  },
  {
   "cell_type": "code",
   "execution_count": 19,
   "metadata": {},
   "outputs": [
    {
     "data": {
      "text/plain": [
       "{'mean': {'all': (0.6081715029761904, 0.016393329101407714),\n",
       "  'o2n': (0.23442041122068297, 0.02099557209168035),\n",
       "  'o2o': (0.6163462974226646, 0.024108805590521358),\n",
       "  'o2z': (0.9862341600846436, 0.007706694419852395)},\n",
       " 'recall': {'all': (0.6257543855883699, 0.015008515731840788),\n",
       "  'o2n': (0.29853808381261787, 0.01490569298290299),\n",
       "  'o2o': (0.6163462974226646, 0.024108805590521358),\n",
       "  'o2z': (0.9862341600846436, 0.007706694419852395)},\n",
       " 'precision': {'all': (0.743359375, 0.018349886209326278),\n",
       "  'o2n': (0.7357036611807932, 0.047771891904966605),\n",
       "  'o2o': (0.6163462974226646, 0.024108805590521358),\n",
       "  'o2z': (0.9862341600846436, 0.007706694419852395)},\n",
       " 'fbeta': {'all': (0.6794668238977466, 0.016080676271376167),\n",
       "  'o2n': (0.42451029358885767, 0.02216477570956323),\n",
       "  'o2o': (0.6163462974226646, 0.024108805590521358),\n",
       "  'o2z': (0.9862341600846436, 0.007706694419852395)}}"
      ]
     },
     "execution_count": 19,
     "metadata": {},
     "output_type": "execute_result"
    }
   ],
   "source": [
    "metrics"
   ]
  },
  {
   "cell_type": "code",
   "execution_count": 20,
   "metadata": {},
   "outputs": [
    {
     "data": {
      "text/html": [
       "<div>\n",
       "<style scoped>\n",
       "    .dataframe tbody tr th:only-of-type {\n",
       "        vertical-align: middle;\n",
       "    }\n",
       "\n",
       "    .dataframe tbody tr th {\n",
       "        vertical-align: top;\n",
       "    }\n",
       "\n",
       "    .dataframe thead th {\n",
       "        text-align: right;\n",
       "    }\n",
       "</style>\n",
       "<table border=\"1\" class=\"dataframe\">\n",
       "  <thead>\n",
       "    <tr style=\"text-align: right;\">\n",
       "      <th></th>\n",
       "      <th>accuracy</th>\n",
       "      <th>recall</th>\n",
       "      <th>precision</th>\n",
       "      <th>fbeta</th>\n",
       "    </tr>\n",
       "  </thead>\n",
       "  <tbody>\n",
       "    <tr>\n",
       "      <td>0</td>\n",
       "      <td>0.971429</td>\n",
       "      <td>0.971429</td>\n",
       "      <td>0.971429</td>\n",
       "      <td>0.971429</td>\n",
       "    </tr>\n",
       "    <tr>\n",
       "      <td>1</td>\n",
       "      <td>0.985507</td>\n",
       "      <td>0.985507</td>\n",
       "      <td>0.985507</td>\n",
       "      <td>0.985507</td>\n",
       "    </tr>\n",
       "    <tr>\n",
       "      <td>2</td>\n",
       "      <td>1.000000</td>\n",
       "      <td>1.000000</td>\n",
       "      <td>1.000000</td>\n",
       "      <td>1</td>\n",
       "    </tr>\n",
       "    <tr>\n",
       "      <td>3</td>\n",
       "      <td>0.982143</td>\n",
       "      <td>0.982143</td>\n",
       "      <td>0.982143</td>\n",
       "      <td>0.982143</td>\n",
       "    </tr>\n",
       "    <tr>\n",
       "      <td>4</td>\n",
       "      <td>0.971429</td>\n",
       "      <td>0.971429</td>\n",
       "      <td>0.971429</td>\n",
       "      <td>0.971429</td>\n",
       "    </tr>\n",
       "  </tbody>\n",
       "</table>\n",
       "</div>"
      ],
      "text/plain": [
       "   accuracy    recall  precision     fbeta\n",
       "0  0.971429  0.971429   0.971429  0.971429\n",
       "1  0.985507  0.985507   0.985507  0.985507\n",
       "2  1.000000  1.000000   1.000000         1\n",
       "3  0.982143  0.982143   0.982143  0.982143\n",
       "4  0.971429  0.971429   0.971429  0.971429"
      ]
     },
     "execution_count": 20,
     "metadata": {},
     "output_type": "execute_result"
    }
   ],
   "source": [
    "df_o2z.head()"
   ]
  },
  {
   "cell_type": "code",
   "execution_count": 23,
   "metadata": {},
   "outputs": [],
   "source": [
    "for key, df in dfs.items():\n",
    "    fig, axs = plt.subplots(2,2, figsize=(5, 5))\n",
    "    plt.subplots_adjust(wspace=0.4, hspace=0.4)\n",
    "    for metric in colors.keys():\n",
    "        data = list(df[metric].values)\n",
    "        position = [int(p) for p in positions[metric].split(',')]\n",
    "        ax = axs[position[0], position[1]]\n",
    "        sns.distplot(data, color=colors[metric],bins=np.linspace(0.75, 1, 100), ax=ax);\n",
    "        ax.set_xlabel(names[metric], fontsize=12)\n",
    "        ax.set_xlim((0, 1))\n",
    "        for tick in ax.xaxis.get_major_ticks():\n",
    "            tick.label.set_fontsize(10)\n",
    "        for tick in ax.yaxis.get_major_ticks():\n",
    "            tick.label.set_fontsize(10)\n",
    "    plt.savefig('figures/{}/{}_dist.jpg'.format(version, key), bbox_inches = 'tight')\n",
    "    plt.close()"
   ]
  }
 ],
 "metadata": {
  "kernelspec": {
   "display_name": "Python 3",
   "language": "python",
   "name": "python3"
  },
  "language_info": {
   "codemirror_mode": {
    "name": "ipython",
    "version": 3
   },
   "file_extension": ".py",
   "mimetype": "text/x-python",
   "name": "python",
   "nbconvert_exporter": "python",
   "pygments_lexer": "ipython3",
   "version": "3.7.4"
  }
 },
 "nbformat": 4,
 "nbformat_minor": 2
}

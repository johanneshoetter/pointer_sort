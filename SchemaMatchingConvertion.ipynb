{
 "cells": [
  {
   "cell_type": "code",
   "execution_count": 1,
   "metadata": {},
   "outputs": [],
   "source": [
    "from utils.preprocessing import WordEmbedding, load_word_emb\n",
    "import os\n",
    "import pandas as pd\n",
    "import numpy as np\n",
    "import torch\n",
    "from torch.utils.data import Dataset\n",
    "from tqdm import tqdm"
   ]
  },
  {
   "cell_type": "code",
   "execution_count": 2,
   "metadata": {},
   "outputs": [],
   "source": [
    "from utils.datasets import SchemaMatchingDataset"
   ]
  },
  {
   "cell_type": "code",
   "execution_count": 3,
   "metadata": {},
   "outputs": [],
   "source": [
    "schema_matches = pd.read_csv('data/training/schema_matching_raw.txt')\n",
    "schema_matches['input_cols'] = schema_matches['input_cols'].apply(lambda x: x.split('<|>'))"
   ]
  },
  {
   "cell_type": "code",
   "execution_count": 4,
   "metadata": {},
   "outputs": [
    {
     "name": "stderr",
     "output_type": "stream",
     "text": [
      " 22%|█████████████████▌                                                            | 1325/5889 [13:45<50:29,  1.51it/s]C:\\Users\\johan\\AppData\\Local\\Continuum\\anaconda3\\envs\\pointer_sort\\lib\\site-packages\\numpy\\core\\fromnumeric.py:3257: RuntimeWarning: Mean of empty slice.\n",
      "  out=out, **kwargs)\n",
      "C:\\Users\\johan\\AppData\\Local\\Continuum\\anaconda3\\envs\\pointer_sort\\lib\\site-packages\\numpy\\core\\_methods.py:161: RuntimeWarning: invalid value encountered in double_scalars\n",
      "  ret = ret.dtype.type(ret / rcount)\n",
      "100%|████████████████████████████████████████████████████████████████████████████| 5889/5889 [1:02:09<00:00,  1.58it/s]\n"
     ]
    }
   ],
   "source": [
    "dataset = SchemaMatchingDataset(schema_matches)"
   ]
  },
  {
   "cell_type": "code",
   "execution_count": 5,
   "metadata": {},
   "outputs": [
    {
     "data": {
      "text/plain": [
       "(tensor([[ 0.1521,  0.1791, -0.1091,  ..., -0.3998, -0.0078, -0.0433],\n",
       "         [ 0.0500,  0.4525, -0.0449,  ..., -0.1621,  0.4667, -0.1478],\n",
       "         [ 0.1521,  0.1791, -0.1091,  ..., -0.3998, -0.0078, -0.0433],\n",
       "         ...,\n",
       "         [-0.0191,  0.1349, -0.0058,  ..., -0.0420,  0.5054, -0.1339],\n",
       "         [ 0.1746,  0.2778,  0.0914,  ..., -0.0695,  0.3795, -0.4678],\n",
       "         [ 0.1521,  0.1791, -0.1091,  ..., -0.3998, -0.0078, -0.0433]]),\n",
       " tensor([ 4, 12, 12, 12, 12, 12, 12, 12, 12, 12, 12, 12, 12]),\n",
       " '<BEG>;start time;<SEQ>;date;time;acc team;big ten team;location;television;attendance;winner;challenge leader;<END>')"
      ]
     },
     "execution_count": 5,
     "metadata": {},
     "output_type": "execute_result"
    }
   ],
   "source": [
    "dataset[0]"
   ]
  },
  {
   "cell_type": "code",
   "execution_count": 6,
   "metadata": {},
   "outputs": [],
   "source": [
    "dataset.save('data/training')"
   ]
  }
 ],
 "metadata": {
  "kernelspec": {
   "display_name": "Python 3",
   "language": "python",
   "name": "python3"
  },
  "language_info": {
   "codemirror_mode": {
    "name": "ipython",
    "version": 3
   },
   "file_extension": ".py",
   "mimetype": "text/x-python",
   "name": "python",
   "nbconvert_exporter": "python",
   "pygments_lexer": "ipython3",
   "version": "3.7.5"
  }
 },
 "nbformat": 4,
 "nbformat_minor": 2
}

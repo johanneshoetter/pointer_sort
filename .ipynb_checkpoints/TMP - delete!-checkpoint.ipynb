{
 "cells": [
  {
   "cell_type": "markdown",
   "metadata": {},
   "source": [
    "benutzt, um Verhältnis von Datenmenge gleichmäßig zu verteilen!"
   ]
  },
  {
   "cell_type": "code",
   "execution_count": 1,
   "metadata": {},
   "outputs": [
    {
     "data": {
      "text/html": [
       "<div>\n",
       "<style scoped>\n",
       "    .dataframe tbody tr th:only-of-type {\n",
       "        vertical-align: middle;\n",
       "    }\n",
       "\n",
       "    .dataframe tbody tr th {\n",
       "        vertical-align: top;\n",
       "    }\n",
       "\n",
       "    .dataframe thead th {\n",
       "        text-align: right;\n",
       "    }\n",
       "</style>\n",
       "<table border=\"1\" class=\"dataframe\">\n",
       "  <thead>\n",
       "    <tr style=\"text-align: right;\">\n",
       "      <th></th>\n",
       "      <th>source_col</th>\n",
       "      <th>input_cols</th>\n",
       "      <th>target_cols</th>\n",
       "      <th>category</th>\n",
       "    </tr>\n",
       "  </thead>\n",
       "  <tbody>\n",
       "    <tr>\n",
       "      <th>0</th>\n",
       "      <td>Year End</td>\n",
       "      <td>Year&lt;|&gt;Manufacturer&lt;|&gt;Start&lt;|&gt;Finish&lt;|&gt;Team</td>\n",
       "      <td>Year</td>\n",
       "      <td></td>\n",
       "    </tr>\n",
       "    <tr>\n",
       "      <th>1</th>\n",
       "      <td>% Won</td>\n",
       "      <td>Tournament&lt;|&gt;2000&lt;|&gt;2001&lt;|&gt;2002&lt;|&gt;2005&lt;|&gt;2006&lt;...</td>\n",
       "      <td>Win %</td>\n",
       "      <td></td>\n",
       "    </tr>\n",
       "    <tr>\n",
       "      <th>2</th>\n",
       "      <td>CITY   TOWN</td>\n",
       "      <td>Years&lt;|&gt;Building&lt;|&gt;City&lt;|&gt;Height&lt;|&gt;Storeys</td>\n",
       "      <td>City</td>\n",
       "      <td></td>\n",
       "    </tr>\n",
       "    <tr>\n",
       "      <th>3</th>\n",
       "      <td>Dialcode</td>\n",
       "      <td>Auckland&lt;|&gt;Gold Coast&lt;|&gt;Sydney&lt;|&gt;Melbourne&lt;|&gt;A...</td>\n",
       "      <td>&lt;NONE&gt;</td>\n",
       "      <td></td>\n",
       "    </tr>\n",
       "    <tr>\n",
       "      <th>4</th>\n",
       "      <td>Max. height (ft)</td>\n",
       "      <td>Rank&lt;|&gt;Building [A ]&lt;|&gt;City&lt;|&gt;Country&lt;|&gt;Height...</td>\n",
       "      <td>Height (m)</td>\n",
       "      <td></td>\n",
       "    </tr>\n",
       "  </tbody>\n",
       "</table>\n",
       "</div>"
      ],
      "text/plain": [
       "         source_col                                         input_cols  \\\n",
       "0          Year End        Year<|>Manufacturer<|>Start<|>Finish<|>Team   \n",
       "1             % Won  Tournament<|>2000<|>2001<|>2002<|>2005<|>2006<...   \n",
       "2       CITY   TOWN         Years<|>Building<|>City<|>Height<|>Storeys   \n",
       "3          Dialcode  Auckland<|>Gold Coast<|>Sydney<|>Melbourne<|>A...   \n",
       "4  Max. height (ft)  Rank<|>Building [A ]<|>City<|>Country<|>Height...   \n",
       "\n",
       "  target_cols category  \n",
       "0        Year           \n",
       "1       Win %           \n",
       "2        City           \n",
       "3      <NONE>           \n",
       "4  Height (m)           "
      ]
     },
     "execution_count": 1,
     "metadata": {},
     "output_type": "execute_result"
    }
   ],
   "source": [
    "import pandas as pd\n",
    "table_schemata = pd.read_csv(r'C:\\Users\\johan\\Development\\VLDB\\pointer_sort\\data\\training\\schema_matching_raw_1toN.txt')\n",
    "table_schemata['category'] = ''\n",
    "table_schemata.head()"
   ]
  },
  {
   "cell_type": "code",
   "execution_count": 2,
   "metadata": {},
   "outputs": [
    {
     "data": {
      "text/plain": [
       "22414"
      ]
     },
     "execution_count": 2,
     "metadata": {},
     "output_type": "execute_result"
    }
   ],
   "source": [
    "len(table_schemata)"
   ]
  },
  {
   "cell_type": "code",
   "execution_count": 3,
   "metadata": {},
   "outputs": [],
   "source": [
    "table_schemata['category'].loc[table_schemata['target_cols'].str.contains('<NONE>')] = '1to0'\n",
    "for idx, row in table_schemata.iterrows():\n",
    "    target_cols, category = row[['target_cols', 'category']]\n",
    "    if not category:\n",
    "        if len(target_cols.split('<|>')) > 1:\n",
    "            row['category'] = '1toN'\n",
    "        else:\n",
    "            row['category'] = '1to1'\n",
    "    table_schemata.loc[idx] = row"
   ]
  },
  {
   "cell_type": "code",
   "execution_count": 4,
   "metadata": {},
   "outputs": [
    {
     "data": {
      "text/plain": [
       "(12287, 7471, 2656)"
      ]
     },
     "execution_count": 4,
     "metadata": {},
     "output_type": "execute_result"
    }
   ],
   "source": [
    "len_1to1 = len(table_schemata.loc[table_schemata['category'] == '1to1'])\n",
    "len_1to0 = len(table_schemata.loc[table_schemata['category'] == '1to0'])\n",
    "len_1toN = len(table_schemata.loc[table_schemata['category'] == '1toN'])\n",
    "len_1to1, len_1to0, len_1toN"
   ]
  },
  {
   "cell_type": "code",
   "execution_count": 5,
   "metadata": {},
   "outputs": [
    {
     "data": {
      "text/html": [
       "<div>\n",
       "<style scoped>\n",
       "    .dataframe tbody tr th:only-of-type {\n",
       "        vertical-align: middle;\n",
       "    }\n",
       "\n",
       "    .dataframe tbody tr th {\n",
       "        vertical-align: top;\n",
       "    }\n",
       "\n",
       "    .dataframe thead th {\n",
       "        text-align: right;\n",
       "    }\n",
       "</style>\n",
       "<table border=\"1\" class=\"dataframe\">\n",
       "  <thead>\n",
       "    <tr style=\"text-align: right;\">\n",
       "      <th></th>\n",
       "      <th>source_col</th>\n",
       "      <th>input_cols</th>\n",
       "      <th>target_cols</th>\n",
       "      <th>category</th>\n",
       "    </tr>\n",
       "  </thead>\n",
       "  <tbody>\n",
       "    <tr>\n",
       "      <th>5</th>\n",
       "      <td>C (nF km)</td>\n",
       "      <td>Frequency (Hz)&lt;|&gt;R (Ω/km)&lt;|&gt;L (mH/km)&lt;|&gt;G (μS/...</td>\n",
       "      <td>C (nF/km)&lt;|&gt;G (μS/km)&lt;|&gt;Frequency (Hz)&lt;|&gt;L (mH...</td>\n",
       "      <td>1toN</td>\n",
       "    </tr>\n",
       "    <tr>\n",
       "      <th>11</th>\n",
       "      <td>1931</td>\n",
       "      <td>1935&lt;|&gt;1936&lt;|&gt;1937&lt;|&gt;1938&lt;|&gt;1939&lt;|&gt;1940&lt;|&gt;1941...</td>\n",
       "      <td>1935&lt;|&gt;1936&lt;|&gt;1937&lt;|&gt;1953&lt;|&gt;1938&lt;|&gt;1939&lt;|&gt;1945...</td>\n",
       "      <td>1toN</td>\n",
       "    </tr>\n",
       "    <tr>\n",
       "      <th>13</th>\n",
       "      <td>Series Ep #</td>\n",
       "      <td>Series #&lt;|&gt;Season #&lt;|&gt;Title&lt;|&gt;Directed by&lt;|&gt;Wr...</td>\n",
       "      <td>Series #&lt;|&gt;Prod. code</td>\n",
       "      <td>1toN</td>\n",
       "    </tr>\n",
       "    <tr>\n",
       "      <th>17</th>\n",
       "      <td>Date of Death</td>\n",
       "      <td>Date&lt;|&gt;Player&lt;|&gt;Injury&lt;|&gt;Date of injury&lt;|&gt;Numb...</td>\n",
       "      <td>Date of injury&lt;|&gt;Source</td>\n",
       "      <td>1toN</td>\n",
       "    </tr>\n",
       "    <tr>\n",
       "      <th>18</th>\n",
       "      <td>Series Ep #</td>\n",
       "      <td>Season #&lt;|&gt;Series #&lt;|&gt;Episode title&lt;|&gt;Original...</td>\n",
       "      <td>Series #&lt;|&gt;Nick prod. #&lt;|&gt;Original air date&lt;|&gt;...</td>\n",
       "      <td>1toN</td>\n",
       "    </tr>\n",
       "    <tr>\n",
       "      <th>...</th>\n",
       "      <td>...</td>\n",
       "      <td>...</td>\n",
       "      <td>...</td>\n",
       "      <td>...</td>\n",
       "    </tr>\n",
       "    <tr>\n",
       "      <th>22343</th>\n",
       "      <td>Year End</td>\n",
       "      <td>Year&lt;|&gt;January&lt;|&gt;February&lt;|&gt;March&lt;|&gt;April&lt;|&gt;Ju...</td>\n",
       "      <td>Year&lt;|&gt;January&lt;|&gt;November&lt;|&gt;September&lt;|&gt;Octobe...</td>\n",
       "      <td>1toN</td>\n",
       "    </tr>\n",
       "    <tr>\n",
       "      <th>22365</th>\n",
       "      <td>U.S. (2013)</td>\n",
       "      <td>No. in series&lt;|&gt;No. in season&lt;|&gt;Title&lt;|&gt;Direct...</td>\n",
       "      <td>U.S. Viewers (millions)&lt;|&gt;No. in series</td>\n",
       "      <td>1toN</td>\n",
       "    </tr>\n",
       "    <tr>\n",
       "      <th>22378</th>\n",
       "      <td>Season episode</td>\n",
       "      <td>Episode&lt;|&gt;First broadcast&lt;|&gt;Andrew and Georgie...</td>\n",
       "      <td>Episode&lt;|&gt;First broadcast</td>\n",
       "      <td>1toN</td>\n",
       "    </tr>\n",
       "    <tr>\n",
       "      <th>22384</th>\n",
       "      <td>15–19 years</td>\n",
       "      <td>Year (Ceremony)&lt;|&gt;Original title&lt;|&gt;English tit...</td>\n",
       "      <td>Year (Ceremony)&lt;|&gt;Original title</td>\n",
       "      <td>1toN</td>\n",
       "    </tr>\n",
       "    <tr>\n",
       "      <th>22406</th>\n",
       "      <td>Reader's Vote</td>\n",
       "      <td>Name (English)&lt;|&gt;Name (German)&lt;|&gt;Abbr.&lt;|&gt;Ideol...</td>\n",
       "      <td>Votes (2011)&lt;|&gt;Name (English)&lt;|&gt;Name (German)&lt;...</td>\n",
       "      <td>1toN</td>\n",
       "    </tr>\n",
       "  </tbody>\n",
       "</table>\n",
       "<p>2656 rows × 4 columns</p>\n",
       "</div>"
      ],
      "text/plain": [
       "           source_col                                         input_cols  \\\n",
       "5           C (nF km)  Frequency (Hz)<|>R (Ω/km)<|>L (mH/km)<|>G (μS/...   \n",
       "11               1931  1935<|>1936<|>1937<|>1938<|>1939<|>1940<|>1941...   \n",
       "13        Series Ep #  Series #<|>Season #<|>Title<|>Directed by<|>Wr...   \n",
       "17      Date of Death  Date<|>Player<|>Injury<|>Date of injury<|>Numb...   \n",
       "18        Series Ep #  Season #<|>Series #<|>Episode title<|>Original...   \n",
       "...               ...                                                ...   \n",
       "22343        Year End  Year<|>January<|>February<|>March<|>April<|>Ju...   \n",
       "22365     U.S. (2013)  No. in series<|>No. in season<|>Title<|>Direct...   \n",
       "22378  Season episode  Episode<|>First broadcast<|>Andrew and Georgie...   \n",
       "22384     15–19 years  Year (Ceremony)<|>Original title<|>English tit...   \n",
       "22406   Reader's Vote  Name (English)<|>Name (German)<|>Abbr.<|>Ideol...   \n",
       "\n",
       "                                             target_cols category  \n",
       "5      C (nF/km)<|>G (μS/km)<|>Frequency (Hz)<|>L (mH...     1toN  \n",
       "11     1935<|>1936<|>1937<|>1953<|>1938<|>1939<|>1945...     1toN  \n",
       "13                                 Series #<|>Prod. code     1toN  \n",
       "17                               Date of injury<|>Source     1toN  \n",
       "18     Series #<|>Nick prod. #<|>Original air date<|>...     1toN  \n",
       "...                                                  ...      ...  \n",
       "22343  Year<|>January<|>November<|>September<|>Octobe...     1toN  \n",
       "22365            U.S. Viewers (millions)<|>No. in series     1toN  \n",
       "22378                          Episode<|>First broadcast     1toN  \n",
       "22384                   Year (Ceremony)<|>Original title     1toN  \n",
       "22406  Votes (2011)<|>Name (English)<|>Name (German)<...     1toN  \n",
       "\n",
       "[2656 rows x 4 columns]"
      ]
     },
     "execution_count": 5,
     "metadata": {},
     "output_type": "execute_result"
    }
   ],
   "source": [
    "table_schemata.loc[table_schemata['category'] == '1toN']"
   ]
  },
  {
   "cell_type": "code",
   "execution_count": 6,
   "metadata": {},
   "outputs": [],
   "source": [
    "reduced_df = pd.concat([table_schemata.loc[table_schemata['category'] == '1to1'][:3000],\n",
    "                       table_schemata.loc[table_schemata['category'] == '1to0'][:4000],\n",
    "                       table_schemata.loc[table_schemata['category'] == '1toN']])\n",
    "reduced_df = reduced_df[['source_col', 'input_cols', 'target_cols']]\n",
    "reduced_df = reduced_df.sample(frac=1).reset_index(drop=True)\n",
    "reduced_df.to_csv(r'C:\\Users\\johan\\Development\\VLDB\\pointer_sort\\data\\training\\schema_matching_raw_1toN_pruned.txt', index=False)"
   ]
  }
 ],
 "metadata": {
  "kernelspec": {
   "display_name": "Python 3",
   "language": "python",
   "name": "python3"
  },
  "language_info": {
   "codemirror_mode": {
    "name": "ipython",
    "version": 3
   },
   "file_extension": ".py",
   "mimetype": "text/x-python",
   "name": "python",
   "nbconvert_exporter": "python",
   "pygments_lexer": "ipython3",
   "version": "3.7.5"
  }
 },
 "nbformat": 4,
 "nbformat_minor": 2
}

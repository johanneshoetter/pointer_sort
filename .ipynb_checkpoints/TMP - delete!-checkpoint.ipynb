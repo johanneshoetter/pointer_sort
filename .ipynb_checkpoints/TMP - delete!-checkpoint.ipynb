{
 "cells": [
  {
   "cell_type": "code",
   "execution_count": 1,
   "metadata": {},
   "outputs": [
    {
     "data": {
      "text/html": [
       "<div>\n",
       "<style scoped>\n",
       "    .dataframe tbody tr th:only-of-type {\n",
       "        vertical-align: middle;\n",
       "    }\n",
       "\n",
       "    .dataframe tbody tr th {\n",
       "        vertical-align: top;\n",
       "    }\n",
       "\n",
       "    .dataframe thead th {\n",
       "        text-align: right;\n",
       "    }\n",
       "</style>\n",
       "<table border=\"1\" class=\"dataframe\">\n",
       "  <thead>\n",
       "    <tr style=\"text-align: right;\">\n",
       "      <th></th>\n",
       "      <th>Unnamed: 0</th>\n",
       "      <th>source_col</th>\n",
       "      <th>input_cols</th>\n",
       "      <th>target_cols</th>\n",
       "      <th>category</th>\n",
       "    </tr>\n",
       "  </thead>\n",
       "  <tbody>\n",
       "    <tr>\n",
       "      <th>0</th>\n",
       "      <td>0</td>\n",
       "      <td>Year Ended</td>\n",
       "      <td>Year&lt;|&gt;Champion&lt;|&gt;Score&lt;|&gt;Runner-up&lt;|&gt;Coach</td>\n",
       "      <td>Year</td>\n",
       "      <td></td>\n",
       "    </tr>\n",
       "    <tr>\n",
       "      <th>1</th>\n",
       "      <td>1</td>\n",
       "      <td>% Of the population (Censo 2010)</td>\n",
       "      <td>Contestant&lt;|&gt;Starting Weight (kg)&lt;|&gt;Final Weig...</td>\n",
       "      <td>Position (out of Eliminated Contestants)</td>\n",
       "      <td></td>\n",
       "    </tr>\n",
       "    <tr>\n",
       "      <th>2</th>\n",
       "      <td>3</td>\n",
       "      <td>Example name</td>\n",
       "      <td>Name&lt;|&gt;Country&lt;|&gt;Status&lt;|&gt;Transfer window&lt;|&gt;Tr...</td>\n",
       "      <td>Name</td>\n",
       "      <td></td>\n",
       "    </tr>\n",
       "    <tr>\n",
       "      <th>3</th>\n",
       "      <td>6</td>\n",
       "      <td>Area (km 2 .)</td>\n",
       "      <td>Rank&lt;|&gt;Islands Name&lt;|&gt;Area (sqmi)&lt;|&gt;Area (km 2...</td>\n",
       "      <td>Area (sqmi)</td>\n",
       "      <td></td>\n",
       "    </tr>\n",
       "    <tr>\n",
       "      <th>4</th>\n",
       "      <td>7</td>\n",
       "      <td>Year Ended</td>\n",
       "      <td>Year&lt;|&gt;Event&lt;|&gt;Venue&lt;|&gt;Driver&lt;|&gt;Result</td>\n",
       "      <td>Year</td>\n",
       "      <td></td>\n",
       "    </tr>\n",
       "  </tbody>\n",
       "</table>\n",
       "</div>"
      ],
      "text/plain": [
       "   Unnamed: 0                        source_col  \\\n",
       "0           0                        Year Ended   \n",
       "1           1  % Of the population (Censo 2010)   \n",
       "2           3                      Example name   \n",
       "3           6                     Area (km 2 .)   \n",
       "4           7                        Year Ended   \n",
       "\n",
       "                                          input_cols  \\\n",
       "0        Year<|>Champion<|>Score<|>Runner-up<|>Coach   \n",
       "1  Contestant<|>Starting Weight (kg)<|>Final Weig...   \n",
       "2  Name<|>Country<|>Status<|>Transfer window<|>Tr...   \n",
       "3  Rank<|>Islands Name<|>Area (sqmi)<|>Area (km 2...   \n",
       "4             Year<|>Event<|>Venue<|>Driver<|>Result   \n",
       "\n",
       "                                target_cols category  \n",
       "0                                      Year           \n",
       "1  Position (out of Eliminated Contestants)           \n",
       "2                                      Name           \n",
       "3                               Area (sqmi)           \n",
       "4                                      Year           "
      ]
     },
     "execution_count": 1,
     "metadata": {},
     "output_type": "execute_result"
    }
   ],
   "source": [
    "import pandas as pd\n",
    "table_schemata = pd.read_csv(r'C:\\Users\\johan\\Development\\VLDB\\pointer_sort\\data\\training\\schema_matching_raw_1toN.txt')\n",
    "table_schemata['category'] = ''\n",
    "table_schemata.head()"
   ]
  },
  {
   "cell_type": "code",
   "execution_count": 2,
   "metadata": {},
   "outputs": [
    {
     "name": "stderr",
     "output_type": "stream",
     "text": [
      "C:\\Users\\johan\\AppData\\Local\\Continuum\\anaconda3\\envs\\pointer_sort\\lib\\site-packages\\pandas\\core\\indexing.py:205: SettingWithCopyWarning: \n",
      "A value is trying to be set on a copy of a slice from a DataFrame\n",
      "\n",
      "See the caveats in the documentation: http://pandas.pydata.org/pandas-docs/stable/user_guide/indexing.html#returning-a-view-versus-a-copy\n",
      "  self._setitem_with_indexer(indexer, value)\n"
     ]
    }
   ],
   "source": [
    "table_schemata['category'].loc[table_schemata['target_cols'].str.contains('<NONE>')] = '1to0'\n",
    "for idx, row in table_schemata.iterrows():\n",
    "    target_cols, category = row[['target_cols', 'category']]\n",
    "    if not category:\n",
    "        if len(target_cols.split('<|>')) > 1:\n",
    "            row['category'] = '1toN'\n",
    "        else:\n",
    "            row['category'] = '1to1'\n",
    "    table_schemata.loc[idx] = row"
   ]
  },
  {
   "cell_type": "code",
   "execution_count": 3,
   "metadata": {},
   "outputs": [
    {
     "data": {
      "text/plain": [
       "(2000, 1574, 1157)"
      ]
     },
     "execution_count": 3,
     "metadata": {},
     "output_type": "execute_result"
    }
   ],
   "source": [
    "len_1to1 = len(table_schemata.loc[table_schemata['category'] == '1to1'])\n",
    "len_1to0 = len(table_schemata.loc[table_schemata['category'] == '1to0'])\n",
    "len_1toN = len(table_schemata.loc[table_schemata['category'] == '1toN'])\n",
    "len_1to1, len_1to0, len_1toN"
   ]
  },
  {
   "cell_type": "code",
   "execution_count": null,
   "metadata": {},
   "outputs": [],
   "source": []
  },
  {
   "cell_type": "code",
   "execution_count": 5,
   "metadata": {},
   "outputs": [],
   "source": [
    "reduced_df = pd.concat([table_schemata.loc[table_schemata['category'] == '1to1'][:2000],\n",
    "                       table_schemata.loc[table_schemata['category'] == '1to0'],\n",
    "                       table_schemata.loc[table_schemata['category'] == '1toN']])\n",
    "reduced_df = reduced_df[['source_col', 'input_cols', 'target_cols']]\n",
    "reduced_df.to_csv(r'C:\\Users\\johan\\Development\\VLDB\\pointer_sort\\data\\training\\schema_matching_raw_1toN.txt', index=False)"
   ]
  },
  {
   "cell_type": "code",
   "execution_count": null,
   "metadata": {},
   "outputs": [],
   "source": []
  }
 ],
 "metadata": {
  "kernelspec": {
   "display_name": "Python 3",
   "language": "python",
   "name": "python3"
  },
  "language_info": {
   "codemirror_mode": {
    "name": "ipython",
    "version": 3
   },
   "file_extension": ".py",
   "mimetype": "text/x-python",
   "name": "python",
   "nbconvert_exporter": "python",
   "pygments_lexer": "ipython3",
   "version": "3.7.5"
  }
 },
 "nbformat": 4,
 "nbformat_minor": 2
}

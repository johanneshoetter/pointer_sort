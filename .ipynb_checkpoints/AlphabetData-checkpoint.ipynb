{
 "cells": [
  {
   "cell_type": "code",
   "execution_count": 1,
   "metadata": {},
   "outputs": [],
   "source": [
    "from utils.datasets import AlphabetSortingDataset\n",
    "import timeit"
   ]
  },
  {
   "cell_type": "code",
   "execution_count": 5,
   "metadata": {},
   "outputs": [
    {
     "name": "stdout",
     "output_type": "stream",
     "text": [
      "Finished calculating\n",
      "Finished saving\n",
      "92.55134499999997\n",
      "98.80866609999998\n"
     ]
    }
   ],
   "source": [
    "LEN = 25\n",
    "start = timeit.default_timer()\n",
    "dataset = AlphabetSortingDataset(200_000, max_len=LEN, min_len=LEN)\n",
    "stop1 = timeit.default_timer()\n",
    "print(\"Finished calculating\")\n",
    "dataset.save('data/training')\n",
    "stop2 = timeit.default_timer()\n",
    "print(\"Finished saving\")\n",
    "print(stop1-start)\n",
    "print(stop2-start)"
   ]
  },
  {
   "cell_type": "markdown",
   "metadata": {},
   "source": [
    "1_000:\n",
    "- 1.053984899999989\n",
    "- 1.1095357999999749\n",
    "10_000:\n",
    "- 9.6847621\n",
    "- 10.127603999999991"
   ]
  },
  {
   "cell_type": "code",
   "execution_count": 3,
   "metadata": {},
   "outputs": [
    {
     "data": {
      "text/plain": [
       "25"
      ]
     },
     "execution_count": 3,
     "metadata": {},
     "output_type": "execute_result"
    }
   ],
   "source": [
    "dataset.max_len"
   ]
  },
  {
   "cell_type": "code",
   "execution_count": 4,
   "metadata": {},
   "outputs": [
    {
     "data": {
      "text/plain": [
       "25"
      ]
     },
     "execution_count": 4,
     "metadata": {},
     "output_type": "execute_result"
    }
   ],
   "source": [
    "dataset.min_len"
   ]
  }
 ],
 "metadata": {
  "kernelspec": {
   "display_name": "Python 3",
   "language": "python",
   "name": "python3"
  },
  "language_info": {
   "codemirror_mode": {
    "name": "ipython",
    "version": 3
   },
   "file_extension": ".py",
   "mimetype": "text/x-python",
   "name": "python",
   "nbconvert_exporter": "python",
   "pygments_lexer": "ipython3",
   "version": "3.7.5"
  }
 },
 "nbformat": 4,
 "nbformat_minor": 2
}

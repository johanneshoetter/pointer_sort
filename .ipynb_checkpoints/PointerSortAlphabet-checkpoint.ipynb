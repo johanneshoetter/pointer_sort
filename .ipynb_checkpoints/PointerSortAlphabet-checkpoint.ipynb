{
 "cells": [
  {
   "cell_type": "code",
   "execution_count": 1,
   "metadata": {},
   "outputs": [],
   "source": [
    "import torch\n",
    "import torch.optim as optim\n",
    "import torch.backends.cudnn as cudnn\n",
    "from torch.autograd import Variable\n",
    "from torch.utils.data import DataLoader\n",
    "import numpy as np\n",
    "\n",
    "import warnings\n",
    "warnings.filterwarnings(\"ignore\")\n",
    "\n",
    "from utils.datasets import AlphabetSortingDataset, ExtendedWikiSQL\n",
    "from models.pointer_net import PointerNet\n",
    "from torch.utils.data import DataLoader"
   ]
  },
  {
   "cell_type": "code",
   "execution_count": 2,
   "metadata": {},
   "outputs": [],
   "source": [
    "params = {\n",
    "    # Data\n",
    "    'magnitude': 3,\n",
    "    'batch_size': 128,\n",
    "    'shuffle': True,\n",
    "    'nof_workers': 0, # must stay at 0\n",
    "    #Train\n",
    "    'nof_epoch': 3,\n",
    "    'lr': 0.001,\n",
    "    # GPU\n",
    "    'gpu': True,\n",
    "    # Network\n",
    "    'input_size': 300,\n",
    "    'embedding_size': 300,\n",
    "    'hiddens': 256,\n",
    "    'nof_lstms': 2,\n",
    "    'dropout': 0,\n",
    "    'bidir': True\n",
    "}"
   ]
  },
  {
   "cell_type": "code",
   "execution_count": 3,
   "metadata": {},
   "outputs": [],
   "source": [
    "LEN = 3\n",
    "dataset = AlphabetSortingDataset(10**params['magnitude'], min_len=LEN, max_len=LEN)\n",
    "dataloader = DataLoader(dataset,\n",
    "                        batch_size=params['batch_size'],\n",
    "                        shuffle=params['shuffle'])"
   ]
  },
  {
   "cell_type": "code",
   "execution_count": 4,
   "metadata": {},
   "outputs": [],
   "source": [
    "model = PointerNet(params['input_size'],\n",
    "                   params['embedding_size'],\n",
    "                   params['hiddens'],\n",
    "                   params['nof_lstms'],\n",
    "                   params['dropout'],\n",
    "                   params['bidir'])\n",
    "\n",
    "if params['gpu'] and torch.cuda.is_available():\n",
    "    model.cuda()\n",
    "    net = torch.nn.DataParallel(model, device_ids=range(torch.cuda.device_count()))\n",
    "    cudnn.benchmark = True\n",
    "\n",
    "CCE = torch.nn.CrossEntropyLoss()\n",
    "model_optim = optim.Adam(filter(lambda p: p.requires_grad,\n",
    "                                model.parameters()),\n",
    "                                 lr=params['lr'])"
   ]
  },
  {
   "cell_type": "code",
   "execution_count": 5,
   "metadata": {},
   "outputs": [
    {
     "name": "stderr",
     "output_type": "stream",
     "text": [
      "Epoch 1/3: 100%|█████████████████████████████████████████████| 8/8 [00:00<00:00,  9.61Batch/s, loss=0.6172170639038086]\n",
      "Epoch 2/3: 100%|█████████████████████████████████████████████| 8/8 [00:00<00:00, 17.82Batch/s, loss=0.5516911149024963]\n",
      "Epoch 3/3: 100%|█████████████████████████████████████████████| 8/8 [00:00<00:00, 18.01Batch/s, loss=0.5523827075958252]\n"
     ]
    }
   ],
   "source": [
    "from tqdm import tqdm\n",
    "losses = []\n",
    "\n",
    "model.train()\n",
    "for i_epoch, epoch in enumerate(range(params['nof_epoch'])):\n",
    "    batch_loss = []\n",
    "    iterator = tqdm(dataloader, unit='Batch')\n",
    "    \n",
    "    for i_batch, sample_batched in enumerate(iterator):\n",
    "        iterator.set_description('Epoch %i/%i' % (epoch+1, params['nof_epoch']))\n",
    "\n",
    "        x, y, chars = sample_batched\n",
    "        train_batch = Variable(x)\n",
    "        target_batch = Variable(y)\n",
    "\n",
    "        if torch.cuda.is_available():\n",
    "            train_batch = train_batch.cuda()\n",
    "            target_batch = target_batch.cuda()\n",
    "\n",
    "        o, p = model(train_batch)\n",
    "        o = o.contiguous().view(-1, o.size()[-1])\n",
    "        target_batch = target_batch.view(-1)\n",
    "        \n",
    "        loss = CCE(o, target_batch) #/ target_batch.shape[1] # need to take the length of the table into account\n",
    "        #acc = get_accuracy(p, target_batch)\n",
    "        \n",
    "        losses.append(loss.data)\n",
    "        batch_loss.append(loss.data)\n",
    "\n",
    "        model_optim.zero_grad()\n",
    "        loss.backward()\n",
    "        model_optim.step()\n",
    "        \n",
    "        iterator.set_postfix(loss='{}'.format(loss.data))\n",
    "        \n",
    "    # each epoch, reduce the learning rate\n",
    "    for param in model_optim.param_groups:\n",
    "            param['lr'] *= 0.95\n",
    "            \n",
    "    batch_loss = torch.Tensor(batch_loss)\n",
    "    iterator.set_postfix(loss=np.average(batch_loss))"
   ]
  },
  {
   "cell_type": "code",
   "execution_count": 6,
   "metadata": {
    "scrolled": false
   },
   "outputs": [
    {
     "name": "stdout",
     "output_type": "stream",
     "text": [
      "0.666\n"
     ]
    }
   ],
   "source": [
    "model.eval()\n",
    "\n",
    "x, y, z = dataset[:1000]\n",
    "x = x.cuda()\n",
    "y = y.cuda()\n",
    "\n",
    "o, p = model(x)\n",
    "\n",
    "sorting = list(zip(z, p.data.cpu().tolist()))\n",
    "correct = 0\n",
    "for pair in sorting:\n",
    "    sequence, pointers = pair\n",
    "    tmp = {}\n",
    "    for seq, p in zip(sequence, pointers):\n",
    "        tmp[seq] = p\n",
    "    y_hat =  [k for k, v in sorted(tmp.items(), key=lambda item: item[1])]\n",
    "    y_pred = sorted(sequence)\n",
    "    #print(y_hat, y_pred)\n",
    "    correct += y_hat == y_pred\n",
    "acc = correct / len(x)\n",
    "print(acc)"
   ]
  },
  {
   "cell_type": "code",
   "execution_count": 7,
   "metadata": {},
   "outputs": [
    {
     "name": "stdout",
     "output_type": "stream",
     "text": [
      "['6', '9', '2'] tensor([2, 0, 1], device='cuda:0')\n",
      "['7', '6', '5'] tensor([2, 1, 0], device='cuda:0')\n",
      "['4', '8', '0'] tensor([2, 0, 1], device='cuda:0')\n",
      "['4', '9', '3'] tensor([2, 0, 1], device='cuda:0')\n",
      "['9', '0', '5'] tensor([1, 2, 0], device='cuda:0')\n",
      "['6', '5', '2'] tensor([2, 1, 0], device='cuda:0')\n",
      "['6', '3', '5'] tensor([1, 2, 0], device='cuda:0')\n",
      "['5', '1', '8'] tensor([1, 0, 2], device='cuda:0')\n",
      "['6', '4', '7'] tensor([1, 0, 2], device='cuda:0')\n",
      "['1', '4', '5'] tensor([0, 1, 2], device='cuda:0')\n",
      "['7', '3', '4'] tensor([1, 2, 0], device='cuda:0')\n"
     ]
    }
   ],
   "source": [
    "for idx, (z_val, y_val) in enumerate(zip(z,y)):\n",
    "    print(z_val, y_val)\n",
    "    if idx == 10:\n",
    "        break"
   ]
  },
  {
   "cell_type": "code",
   "execution_count": 8,
   "metadata": {},
   "outputs": [
    {
     "data": {
      "text/plain": [
       "tensor([[2, 0, 1],\n",
       "        [2, 1, 0],\n",
       "        [2, 0, 1],\n",
       "        ...,\n",
       "        [0, 2, 1],\n",
       "        [2, 0, 1],\n",
       "        [0, 2, 1]], device='cuda:0')"
      ]
     },
     "execution_count": 8,
     "metadata": {},
     "output_type": "execute_result"
    }
   ],
   "source": [
    "y"
   ]
  },
  {
   "cell_type": "code",
   "execution_count": 9,
   "metadata": {},
   "outputs": [],
   "source": [
    "model.serialize('serialized/pointer_net.pt')"
   ]
  },
  {
   "cell_type": "markdown",
   "metadata": {},
   "source": [
    "---"
   ]
  },
  {
   "cell_type": "markdown",
   "metadata": {},
   "source": [
    "# Column Reducing"
   ]
  },
  {
   "cell_type": "code",
   "execution_count": 10,
   "metadata": {},
   "outputs": [
    {
     "ename": "SyntaxError",
     "evalue": "invalid syntax (<ipython-input-10-aebe5cf9495f>, line 1)",
     "output_type": "error",
     "traceback": [
      "\u001b[1;36m  File \u001b[1;32m\"<ipython-input-10-aebe5cf9495f>\"\u001b[1;36m, line \u001b[1;32m1\u001b[0m\n\u001b[1;33m    <marker>\u001b[0m\n\u001b[1;37m    ^\u001b[0m\n\u001b[1;31mSyntaxError\u001b[0m\u001b[1;31m:\u001b[0m invalid syntax\n"
     ]
    }
   ],
   "source": [
    "<marker>"
   ]
  },
  {
   "cell_type": "code",
   "execution_count": null,
   "metadata": {},
   "outputs": [],
   "source": [
    "def generate_batch(batch):\n",
    "    \n",
    "    def pad_inputs(inputs, targets, max_len, emb_size=300):\n",
    "        inputs_padded = []\n",
    "        targets_padded = []\n",
    "        first_target = True\n",
    "        for i, t in zip(inputs, targets):\n",
    "            # TEST!  1-Klasse Klassifizierung\n",
    "            for idx, indic in enumerate(t):\n",
    "                if indic == 1 and first_target:\n",
    "                    first_target = False\n",
    "                elif indic == 1:\n",
    "                    t[idx] = 0\n",
    "            #print(t)\n",
    "            i_padding = np.zeros((max_len - len(i), emb_size))\n",
    "            t_padding = np.zeros(max_len - len(i))\n",
    "            i_padded = np.concatenate((i, i_padding), 0)\n",
    "            t_padded = np.concatenate((t, t_padding), 0)\n",
    "            inputs_padded.append(i_padded), targets_padded.append(t_padded)\n",
    "        return np.array(inputs_padded), np.array(targets_padded)\n",
    "\n",
    "    inputs = [entry['input'] for entry in batch]\n",
    "    targets = [entry['target'] for entry in batch]\n",
    "    max_len = len(max(inputs, key=len))\n",
    "    inputs, targets = pad_inputs(inputs, targets, max_len)\n",
    "    inputs = torch.from_numpy(inputs)\n",
    "    targets = torch.from_numpy(targets)\n",
    "    return {'input': inputs.float(), 'target': targets.long()}"
   ]
  },
  {
   "cell_type": "code",
   "execution_count": null,
   "metadata": {},
   "outputs": [],
   "source": [
    "params['batch_size'] = 1\n",
    "dataset = ExtendedWikiSQL()\n",
    "dataset.load_from_torch('data/training/ewikisql')\n",
    "dataloader = DataLoader(dataset,\n",
    "                        batch_size=params['batch_size'],\n",
    "                        shuffle=params['shuffle'],\n",
    "                        collate_fn=generate_batch)\n",
    "\n",
    "model_optim = optim.Adam(filter(lambda p: p.requires_grad,\n",
    "                                model.parameters()),\n",
    "                                 lr=params['lr'])"
   ]
  },
  {
   "cell_type": "code",
   "execution_count": null,
   "metadata": {},
   "outputs": [],
   "source": [
    "losses = []\n",
    "\n",
    "for i_epoch, epoch in enumerate(range(params['nof_epoch'])):\n",
    "    batch_loss = []\n",
    "    iterator = tqdm(dataloader, unit='Batch')\n",
    "    \n",
    "    for i_batch, sample_batched in enumerate(iterator):\n",
    "        iterator.set_description('Epoch %i/%i' % (epoch+1, params['nof_epoch']))\n",
    "\n",
    "        x, y = sample_batched['input'], sample_batched['target']\n",
    "        train_batch = Variable(x)\n",
    "        target_batch = Variable(y)\n",
    "\n",
    "        if USE_CUDA:\n",
    "            train_batch = train_batch.cuda()\n",
    "            target_batch = target_batch.cuda()\n",
    "\n",
    "        o, p = model(train_batch)\n",
    "        o = o.contiguous().view(-1, o.size()[-1])\n",
    "        target_batch = target_batch.view(-1)\n",
    "        \n",
    "        loss = CCE(o, target_batch) #/ target_batch.shape[1] # need to take the length of the table into account\n",
    "        #acc = get_accuracy(p, target_batch)\n",
    "        \n",
    "        losses.append(loss.data)\n",
    "        batch_loss.append(loss.data)\n",
    "\n",
    "        model_optim.zero_grad()\n",
    "        loss.backward()\n",
    "        model_optim.step()\n",
    "        \n",
    "        iterator.set_postfix(loss='{}'.format(loss.data))\n",
    "        \n",
    "    # each epoch, reduce the learning rate\n",
    "    for param in model_optim.param_groups:\n",
    "            param['lr'] *= 0.95\n",
    "            \n",
    "    batch_loss = torch.Tensor(batch_loss)\n",
    "    iterator.set_postfix(loss=np.average(batch_loss))"
   ]
  },
  {
   "cell_type": "markdown",
   "metadata": {},
   "source": [
    "---"
   ]
  },
  {
   "cell_type": "markdown",
   "metadata": {},
   "source": [
    "# BackUp"
   ]
  },
  {
   "cell_type": "code",
   "execution_count": null,
   "metadata": {},
   "outputs": [],
   "source": [
    "<marker>"
   ]
  },
  {
   "cell_type": "code",
   "execution_count": null,
   "metadata": {},
   "outputs": [],
   "source": [
    "model.eval()\n",
    "\n",
    "x, y, z = dataset[:100]\n",
    "x = x.cuda()\n",
    "y = y.cuda()\n",
    "\n",
    "o, p = model(x)\n",
    "\n",
    "sorting = list(zip(z, p.data.cpu().tolist()))\n",
    "\n",
    "for pair in sorting:\n",
    "    sequence, pointers = pair\n",
    "    tmp = {}\n",
    "    for seq, p in zip(sequence, pointers):\n",
    "        tmp[seq] = p\n",
    "    tmp =  [k for k, v in sorted(tmp.items(), key=lambda item: item[1])]\n",
    "    print(\"PRED:\" , tmp, \" \\nTRUE: \", sorted(sequence))\n",
    "    print()"
   ]
  }
 ],
 "metadata": {
  "kernelspec": {
   "display_name": "Python 3",
   "language": "python",
   "name": "python3"
  },
  "language_info": {
   "codemirror_mode": {
    "name": "ipython",
    "version": 3
   },
   "file_extension": ".py",
   "mimetype": "text/x-python",
   "name": "python",
   "nbconvert_exporter": "python",
   "pygments_lexer": "ipython3",
   "version": "3.7.5"
  }
 },
 "nbformat": 4,
 "nbformat_minor": 2
}

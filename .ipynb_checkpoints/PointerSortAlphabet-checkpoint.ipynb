{
 "cells": [
  {
   "cell_type": "code",
   "execution_count": 1,
   "metadata": {},
   "outputs": [],
   "source": [
    "from utils.datasets import AlphabetSortingDataset, ExtendedWikiSQL\n",
    "from models.pointer_net import PointerNet\n",
    "from torch.utils.data import DataLoader"
   ]
  },
  {
   "cell_type": "code",
   "execution_count": 2,
   "metadata": {},
   "outputs": [],
   "source": [
    "import torch\n",
    "import torch.optim as optim\n",
    "import torch.backends.cudnn as cudnn\n",
    "from torch.autograd import Variable\n",
    "from torch.utils.data import DataLoader\n",
    "import numpy as np"
   ]
  },
  {
   "cell_type": "code",
   "execution_count": 3,
   "metadata": {},
   "outputs": [],
   "source": [
    "import warnings\n",
    "warnings.filterwarnings(\"ignore\")\n",
    "\n",
    "params = {\n",
    "    # Data\n",
    "    'batch_size': 1024,\n",
    "    'shuffle': True,\n",
    "    'nof_workers': 0, # must stay at 0\n",
    "    #Train\n",
    "    'nof_epoch': 100,\n",
    "    'lr': 0.0001,\n",
    "    # GPU\n",
    "    'gpu': True,\n",
    "    # Network\n",
    "    'embedding_size': 300,\n",
    "    'hiddens': 512,\n",
    "    'nof_lstms': 8,\n",
    "    'dropout': 0.3,\n",
    "    'bidir': True # True not working right now\n",
    "}\n",
    "\n",
    "dataset = AlphabetSortingDataset(100000, min_len=20, max_len=25)\n",
    "dataloader = DataLoader(dataset,\n",
    "                        batch_size=params['batch_size'],\n",
    "                        shuffle=params['shuffle'])"
   ]
  },
  {
   "cell_type": "code",
   "execution_count": 4,
   "metadata": {},
   "outputs": [
    {
     "name": "stdout",
     "output_type": "stream",
     "text": [
      "Using GPU, 1 devices.\n"
     ]
    }
   ],
   "source": [
    "if params['gpu'] and torch.cuda.is_available():\n",
    "    USE_CUDA = True\n",
    "    print('Using GPU, %i devices.' % torch.cuda.device_count())\n",
    "else:\n",
    "    USE_CUDA = False"
   ]
  },
  {
   "cell_type": "code",
   "execution_count": 5,
   "metadata": {},
   "outputs": [],
   "source": [
    "model = PointerNet(params['embedding_size'],\n",
    "                   params['hiddens'],\n",
    "                   params['nof_lstms'],\n",
    "                   params['dropout'],\n",
    "                   params['bidir'])\n",
    "\n",
    "if USE_CUDA:\n",
    "    model.cuda()\n",
    "    net = torch.nn.DataParallel(model, device_ids=range(torch.cuda.device_count()))\n",
    "    cudnn.benchmark = True\n",
    "\n",
    "CCE = torch.nn.CrossEntropyLoss()\n",
    "model_optim = optim.Adam(filter(lambda p: p.requires_grad,\n",
    "                                model.parameters()),\n",
    "                                 lr=params['lr'])\n"
   ]
  },
  {
   "cell_type": "code",
   "execution_count": 6,
   "metadata": {},
   "outputs": [
    {
     "name": "stderr",
     "output_type": "stream",
     "text": [
      "Epoch 1/100: 100%|██████████████████████████████████████████| 98/98 [01:17<00:00,  1.26Batch/s, loss=2.953413248062134]\n",
      "Epoch 2/100: 100%|██████████████████████████████████████████| 98/98 [01:16<00:00,  1.27Batch/s, loss=2.666102170944214]\n",
      "Epoch 3/100: 100%|██████████████████████████████████████████| 98/98 [01:16<00:00,  1.28Batch/s, loss=2.661240816116333]\n",
      "Epoch 4/100: 100%|█████████████████████████████████████████| 98/98 [01:16<00:00,  1.27Batch/s, loss=2.6642749309539795]\n",
      "Epoch 5/100: 100%|██████████████████████████████████████████| 98/98 [01:16<00:00,  1.28Batch/s, loss=2.682713031768799]\n",
      "Epoch 6/100: 100%|█████████████████████████████████████████| 98/98 [01:17<00:00,  1.27Batch/s, loss=2.6597344875335693]\n",
      "Epoch 7/100: 100%|██████████████████████████████████████████| 98/98 [01:17<00:00,  1.27Batch/s, loss=2.660395622253418]\n",
      "Epoch 8/100: 100%|█████████████████████████████████████████| 98/98 [01:17<00:00,  1.27Batch/s, loss=2.6849074363708496]\n",
      "Epoch 9/100: 100%|█████████████████████████████████████████| 98/98 [01:16<00:00,  1.27Batch/s, loss=2.6568353176116943]\n",
      "Epoch 10/100: 100%|████████████████████████████████████████| 98/98 [01:17<00:00,  1.27Batch/s, loss=2.6710362434387207]\n",
      "Epoch 11/100: 100%|████████████████████████████████████████| 98/98 [01:17<00:00,  1.27Batch/s, loss=2.6602327823638916]\n",
      "Epoch 12/100: 100%|████████████████████████████████████████| 98/98 [01:17<00:00,  1.27Batch/s, loss=2.6537559032440186]\n",
      "Epoch 13/100: 100%|█████████████████████████████████████████| 98/98 [01:16<00:00,  1.27Batch/s, loss=2.667609214782715]\n",
      "Epoch 14/100: 100%|████████████████████████████████████████| 98/98 [01:16<00:00,  1.27Batch/s, loss=2.6782093048095703]\n",
      "Epoch 15/100: 100%|████████████████████████████████████████| 98/98 [01:17<00:00,  1.27Batch/s, loss=2.6602940559387207]\n",
      "Epoch 16/100: 100%|████████████████████████████████████████| 98/98 [01:16<00:00,  1.27Batch/s, loss=2.6738970279693604]\n",
      "Epoch 17/100: 100%|█████████████████████████████████████████| 98/98 [01:16<00:00,  1.27Batch/s, loss=2.658991813659668]\n",
      "Epoch 18/100: 100%|█████████████████████████████████████████| 98/98 [01:17<00:00,  1.27Batch/s, loss=2.666080951690674]\n",
      "Epoch 19/100: 100%|█████████████████████████████████████████| 98/98 [01:17<00:00,  1.27Batch/s, loss=2.637883186340332]\n",
      "Epoch 20/100: 100%|████████████████████████████████████████| 98/98 [01:16<00:00,  1.28Batch/s, loss=2.6721293926239014]\n",
      "Epoch 21/100: 100%|████████████████████████████████████████| 98/98 [01:16<00:00,  1.28Batch/s, loss=2.6665029525756836]\n",
      "Epoch 22/100: 100%|█████████████████████████████████████████| 98/98 [01:17<00:00,  1.27Batch/s, loss=2.677198648452759]\n",
      "Epoch 23/100: 100%|████████████████████████████████████████| 98/98 [01:16<00:00,  1.28Batch/s, loss=2.6715195178985596]\n",
      "Epoch 24/100: 100%|█████████████████████████████████████████| 98/98 [01:16<00:00,  1.27Batch/s, loss=2.684051275253296]\n",
      "Epoch 25/100: 100%|████████████████████████████████████████| 98/98 [01:17<00:00,  1.27Batch/s, loss=2.6549603939056396]\n",
      "Epoch 26/100: 100%|████████████████████████████████████████| 98/98 [01:17<00:00,  1.27Batch/s, loss=2.6605637073516846]\n",
      "Epoch 27/100: 100%|█████████████████████████████████████████| 98/98 [01:17<00:00,  1.27Batch/s, loss=2.647757053375244]\n",
      "Epoch 28/100: 100%|████████████████████████████████████████| 98/98 [01:17<00:00,  1.27Batch/s, loss=2.6682465076446533]\n",
      "Epoch 29/100: 100%|████████████████████████████████████████| 98/98 [01:17<00:00,  1.27Batch/s, loss=2.6795101165771484]\n",
      "Epoch 30/100: 100%|█████████████████████████████████████████| 98/98 [01:17<00:00,  1.26Batch/s, loss=2.676924467086792]\n",
      "Epoch 31/100: 100%|█████████████████████████████████████████| 98/98 [01:17<00:00,  1.27Batch/s, loss=2.670304536819458]\n",
      "Epoch 32/100: 100%|████████████████████████████████████████| 98/98 [01:17<00:00,  1.27Batch/s, loss=2.6664493083953857]\n",
      "Epoch 33/100: 100%|██████████████████████████████████████████| 98/98 [01:17<00:00,  1.27Batch/s, loss=2.66426157951355]\n",
      "Epoch 34/100: 100%|████████████████████████████████████████| 98/98 [01:17<00:00,  1.27Batch/s, loss=2.6498284339904785]\n",
      "Epoch 35/100: 100%|█████████████████████████████████████████| 98/98 [01:17<00:00,  1.27Batch/s, loss=2.673344850540161]\n",
      "Epoch 36/100: 100%|█████████████████████████████████████████| 98/98 [01:17<00:00,  1.27Batch/s, loss=2.656395435333252]\n",
      "Epoch 37/100: 100%|████████████████████████████████████████| 98/98 [01:16<00:00,  1.28Batch/s, loss=2.6600911617279053]\n",
      "Epoch 38/100: 100%|████████████████████████████████████████| 98/98 [01:16<00:00,  1.28Batch/s, loss=2.6686654090881348]\n",
      "Epoch 39/100: 100%|████████████████████████████████████████| 98/98 [01:17<00:00,  1.26Batch/s, loss=2.6733884811401367]\n",
      "Epoch 40/100: 100%|█████████████████████████████████████████| 98/98 [01:16<00:00,  1.28Batch/s, loss=2.672745943069458]\n",
      "Epoch 41/100: 100%|█████████████████████████████████████████| 98/98 [01:16<00:00,  1.27Batch/s, loss=2.667532205581665]\n",
      "Epoch 42/100: 100%|█████████████████████████████████████████| 98/98 [01:16<00:00,  1.27Batch/s, loss=2.666825294494629]\n",
      "Epoch 43/100: 100%|█████████████████████████████████████████| 98/98 [01:16<00:00,  1.28Batch/s, loss=2.674607276916504]\n",
      "Epoch 44/100: 100%|████████████████████████████████████████| 98/98 [01:17<00:00,  1.27Batch/s, loss=2.6594083309173584]\n",
      "Epoch 45/100: 100%|████████████████████████████████████████| 98/98 [01:17<00:00,  1.27Batch/s, loss=2.6528337001800537]\n",
      "Epoch 46/100: 100%|██████████████████████████████████████████| 98/98 [01:16<00:00,  1.28Batch/s, loss=2.66377592086792]\n",
      "Epoch 47/100: 100%|████████████████████████████████████████| 98/98 [01:16<00:00,  1.27Batch/s, loss=2.6548550128936768]\n",
      "Epoch 48/100: 100%|█████████████████████████████████████████| 98/98 [01:17<00:00,  1.27Batch/s, loss=2.683107852935791]\n",
      "Epoch 49/100: 100%|████████████████████████████████████████| 98/98 [01:17<00:00,  1.27Batch/s, loss=2.6610898971557617]\n",
      "Epoch 50/100: 100%|████████████████████████████████████████| 98/98 [01:16<00:00,  1.28Batch/s, loss=2.6627209186553955]\n",
      "Epoch 51/100: 100%|█████████████████████████████████████████| 98/98 [01:17<00:00,  1.26Batch/s, loss=2.677917242050171]\n",
      "Epoch 52/100: 100%|████████████████████████████████████████| 98/98 [01:17<00:00,  1.26Batch/s, loss=2.6675760746002197]\n",
      "Epoch 53/100: 100%|█████████████████████████████████████████| 98/98 [01:17<00:00,  1.27Batch/s, loss=2.656423330307007]\n",
      "Epoch 54/100: 100%|████████████████████████████████████████| 98/98 [01:17<00:00,  1.27Batch/s, loss=2.6679487228393555]\n",
      "Epoch 55/100: 100%|█████████████████████████████████████████| 98/98 [01:16<00:00,  1.27Batch/s, loss=2.674295663833618]\n",
      "Epoch 56/100: 100%|█████████████████████████████████████████| 98/98 [01:17<00:00,  1.27Batch/s, loss=2.671638011932373]\n",
      "Epoch 57/100: 100%|█████████████████████████████████████████| 98/98 [01:17<00:00,  1.27Batch/s, loss=2.662553548812866]\n",
      "Epoch 58/100: 100%|████████████████████████████████████████| 98/98 [01:17<00:00,  1.27Batch/s, loss=2.6634762287139893]\n",
      "Epoch 59/100: 100%|█████████████████████████████████████████| 98/98 [01:17<00:00,  1.27Batch/s, loss=2.653696298599243]\n",
      "Epoch 60/100: 100%|█████████████████████████████████████████| 98/98 [01:16<00:00,  1.27Batch/s, loss=2.654132127761841]\n",
      "Epoch 61/100: 100%|████████████████████████████████████████| 98/98 [01:17<00:00,  1.27Batch/s, loss=2.6827497482299805]\n",
      "Epoch 62/100: 100%|████████████████████████████████████████| 98/98 [01:17<00:00,  1.26Batch/s, loss=2.6659798622131348]\n",
      "Epoch 63/100: 100%|████████████████████████████████████████| 98/98 [01:17<00:00,  1.27Batch/s, loss=2.6536004543304443]\n",
      "Epoch 64/100: 100%|█████████████████████████████████████████| 98/98 [01:17<00:00,  1.27Batch/s, loss=2.675867795944214]\n",
      "Epoch 65/100: 100%|████████████████████████████████████████| 98/98 [01:17<00:00,  1.27Batch/s, loss=2.6654396057128906]\n",
      "Epoch 66/100: 100%|████████████████████████████████████████| 98/98 [01:17<00:00,  1.27Batch/s, loss=2.6659414768218994]\n",
      "Epoch 67/100: 100%|█████████████████████████████████████████| 98/98 [01:17<00:00,  1.27Batch/s, loss=2.640596866607666]\n",
      "Epoch 68/100: 100%|████████████████████████████████████████| 98/98 [01:17<00:00,  1.27Batch/s, loss=2.6568191051483154]\n"
     ]
    },
    {
     "name": "stderr",
     "output_type": "stream",
     "text": [
      "Epoch 69/100: 100%|████████████████████████████████████████| 98/98 [01:16<00:00,  1.27Batch/s, loss=2.6649012565612793]\n",
      "Epoch 70/100: 100%|████████████████████████████████████████| 98/98 [01:17<00:00,  1.27Batch/s, loss=2.6567351818084717]\n",
      "Epoch 71/100: 100%|████████████████████████████████████████| 98/98 [01:17<00:00,  1.27Batch/s, loss=2.6583878993988037]\n",
      "Epoch 72/100: 100%|█████████████████████████████████████████| 98/98 [01:16<00:00,  1.27Batch/s, loss=2.676305055618286]\n",
      "Epoch 73/100: 100%|████████████████████████████████████████| 98/98 [01:16<00:00,  1.27Batch/s, loss=2.6590566635131836]\n",
      "Epoch 74/100: 100%|█████████████████████████████████████████| 98/98 [01:16<00:00,  1.27Batch/s, loss=2.663459062576294]\n",
      "Epoch 75/100: 100%|████████████████████████████████████████| 98/98 [01:17<00:00,  1.27Batch/s, loss=2.6716256141662598]\n",
      "Epoch 76/100: 100%|████████████████████████████████████████| 98/98 [01:17<00:00,  1.27Batch/s, loss=2.6678709983825684]\n",
      "Epoch 77/100: 100%|████████████████████████████████████████| 98/98 [01:16<00:00,  1.27Batch/s, loss=2.6626839637756348]\n",
      "Epoch 78/100: 100%|████████████████████████████████████████| 98/98 [01:16<00:00,  1.28Batch/s, loss=2.6548938751220703]\n",
      "Epoch 79/100: 100%|████████████████████████████████████████| 98/98 [01:16<00:00,  1.27Batch/s, loss=2.6671924591064453]\n",
      "Epoch 80/100: 100%|█████████████████████████████████████████| 98/98 [01:16<00:00,  1.27Batch/s, loss=2.667785406112671]\n",
      "Epoch 81/100: 100%|████████████████████████████████████████| 98/98 [01:17<00:00,  1.27Batch/s, loss=2.6755635738372803]\n",
      "Epoch 82/100: 100%|█████████████████████████████████████████| 98/98 [01:16<00:00,  1.28Batch/s, loss=2.651435136795044]\n",
      "Epoch 83/100: 100%|█████████████████████████████████████████| 98/98 [01:16<00:00,  1.28Batch/s, loss=2.659454822540283]\n",
      "Epoch 84/100: 100%|█████████████████████████████████████████| 98/98 [01:17<00:00,  1.27Batch/s, loss=2.662454605102539]\n",
      "Epoch 85/100: 100%|████████████████████████████████████████| 98/98 [01:16<00:00,  1.27Batch/s, loss=2.6742053031921387]\n",
      "Epoch 86/100: 100%|███████████████████████████████████████████| 98/98 [01:17<00:00,  1.27Batch/s, loss=2.6472327709198]\n",
      "Epoch 87/100: 100%|████████████████████████████████████████| 98/98 [01:17<00:00,  1.27Batch/s, loss=2.6680359840393066]\n",
      "Epoch 88/100: 100%|████████████████████████████████████████| 98/98 [01:17<00:00,  1.27Batch/s, loss=2.6777830123901367]\n",
      "Epoch 89/100: 100%|████████████████████████████████████████| 98/98 [01:17<00:00,  1.27Batch/s, loss=2.6650002002716064]\n",
      "Epoch 90/100: 100%|█████████████████████████████████████████| 98/98 [01:17<00:00,  1.27Batch/s, loss=2.670011043548584]\n",
      "Epoch 91/100: 100%|█████████████████████████████████████████| 98/98 [01:16<00:00,  1.28Batch/s, loss=2.648423433303833]\n",
      "Epoch 92/100: 100%|█████████████████████████████████████████| 98/98 [01:17<00:00,  1.27Batch/s, loss=2.663548707962036]\n",
      "Epoch 93/100: 100%|████████████████████████████████████████| 98/98 [01:17<00:00,  1.27Batch/s, loss=2.6684751510620117]\n",
      "Epoch 94/100: 100%|████████████████████████████████████████| 98/98 [01:17<00:00,  1.27Batch/s, loss=2.6585378646850586]\n",
      "Epoch 95/100: 100%|█████████████████████████████████████████| 98/98 [01:16<00:00,  1.28Batch/s, loss=2.660813570022583]\n",
      "Epoch 96/100: 100%|████████████████████████████████████████| 98/98 [01:16<00:00,  1.27Batch/s, loss=2.6500892639160156]\n",
      "Epoch 97/100: 100%|█████████████████████████████████████████| 98/98 [01:17<00:00,  1.26Batch/s, loss=2.652482271194458]\n",
      "Epoch 98/100: 100%|██████████████████████████████████████████| 98/98 [01:17<00:00,  1.27Batch/s, loss=2.65053129196167]\n",
      "Epoch 99/100: 100%|█████████████████████████████████████████| 98/98 [01:17<00:00,  1.27Batch/s, loss=2.664262533187866]\n",
      "Epoch 100/100: 100%|███████████████████████████████████████| 98/98 [01:17<00:00,  1.27Batch/s, loss=2.6543405055999756]\n"
     ]
    }
   ],
   "source": [
    "from tqdm import tqdm\n",
    "losses = []\n",
    "\n",
    "for i_epoch, epoch in enumerate(range(params['nof_epoch'])):\n",
    "    batch_loss = []\n",
    "    iterator = tqdm(dataloader, unit='Batch')\n",
    "    \n",
    "    for i_batch, sample_batched in enumerate(iterator):\n",
    "        iterator.set_description('Epoch %i/%i' % (epoch+1, params['nof_epoch']))\n",
    "\n",
    "        x, y, chars = sample_batched\n",
    "        train_batch = Variable(x)\n",
    "        target_batch = Variable(y)\n",
    "\n",
    "        if USE_CUDA:\n",
    "            train_batch = train_batch.cuda()\n",
    "            target_batch = target_batch.cuda()\n",
    "\n",
    "        o, p = model(train_batch)\n",
    "        o = o.contiguous().view(-1, o.size()[-1])\n",
    "        target_batch = target_batch.view(-1)\n",
    "        \n",
    "        loss = CCE(o, target_batch) #/ target_batch.shape[1] # need to take the length of the table into account\n",
    "        #acc = get_accuracy(p, target_batch)\n",
    "        \n",
    "        losses.append(loss.data)\n",
    "        batch_loss.append(loss.data)\n",
    "\n",
    "        model_optim.zero_grad()\n",
    "        loss.backward()\n",
    "        model_optim.step()\n",
    "        \n",
    "        iterator.set_postfix(loss='{}'.format(loss.data))\n",
    "        \n",
    "    # each epoch, reduce the learning rate\n",
    "    for param in model_optim.param_groups:\n",
    "            param['lr'] *= 0.95\n",
    "            \n",
    "    batch_loss = torch.Tensor(batch_loss)\n",
    "    iterator.set_postfix(loss=np.average(batch_loss))"
   ]
  },
  {
   "cell_type": "code",
   "execution_count": 7,
   "metadata": {},
   "outputs": [],
   "source": [
    "def generate_batch(batch):\n",
    "    \n",
    "    def pad_inputs(inputs, targets, max_len, emb_size=300):\n",
    "        inputs_padded = []\n",
    "        targets_padded = []\n",
    "        first_target = True\n",
    "        for i, t in zip(inputs, targets):\n",
    "            # TEST!  1-Klasse Klassifizierung\n",
    "            for idx, indic in enumerate(t):\n",
    "                if indic == 1 and first_target:\n",
    "                    first_target = False\n",
    "                elif indic == 1:\n",
    "                    t[idx] = 0\n",
    "            #print(t)\n",
    "            i_padding = np.zeros((max_len - len(i), emb_size))\n",
    "            t_padding = np.zeros(max_len - len(i))\n",
    "            i_padded = np.concatenate((i, i_padding), 0)\n",
    "            t_padded = np.concatenate((t, t_padding), 0)\n",
    "            inputs_padded.append(i_padded), targets_padded.append(t_padded)\n",
    "        return np.array(inputs_padded), np.array(targets_padded)\n",
    "\n",
    "    inputs = [entry['input'] for entry in batch]\n",
    "    targets = [entry['target'] for entry in batch]\n",
    "    max_len = len(max(inputs, key=len))\n",
    "    inputs, targets = pad_inputs(inputs, targets, max_len)\n",
    "    inputs = torch.from_numpy(inputs)\n",
    "    targets = torch.from_numpy(targets)\n",
    "    return {'input': inputs.float(), 'target': targets.long()}"
   ]
  },
  {
   "cell_type": "code",
   "execution_count": 8,
   "metadata": {},
   "outputs": [],
   "source": [
    "params['batch_size'] = 1\n",
    "dataset = ExtendedWikiSQL()\n",
    "dataset.load_from_torch('data/training/ewikisql')\n",
    "dataloader = DataLoader(dataset,\n",
    "                        batch_size=params['batch_size'],\n",
    "                        shuffle=params['shuffle'],\n",
    "                        collate_fn=generate_batch)\n",
    "\n",
    "model_optim = optim.Adam(filter(lambda p: p.requires_grad,\n",
    "                                model.parameters()),\n",
    "                                 lr=params['lr'])"
   ]
  },
  {
   "cell_type": "code",
   "execution_count": 9,
   "metadata": {},
   "outputs": [
    {
     "name": "stderr",
     "output_type": "stream",
     "text": [
      "Epoch 1/100: 100%|██████████████████████████████████████| 1000/1000 [19:22<00:00,  1.16s/Batch, loss=4.464739799499512]\n",
      "Epoch 2/100: 100%|██████████████████████████████████████| 1000/1000 [19:29<00:00,  1.17s/Batch, loss=5.038456439971924]\n",
      "Epoch 3/100: 100%|██████████████████████████████████████| 1000/1000 [19:29<00:00,  1.17s/Batch, loss=4.065598964691162]\n",
      "Epoch 4/100: 100%|██████████████████████████████████████| 1000/1000 [19:26<00:00,  1.17s/Batch, loss=4.334690093994141]\n",
      "Epoch 5/100: 100%|██████████████████████████████████████| 1000/1000 [19:19<00:00,  1.16s/Batch, loss=4.636309623718262]\n",
      "Epoch 6/100: 100%|██████████████████████████████████████| 1000/1000 [19:24<00:00,  1.16s/Batch, loss=4.319794178009033]\n",
      "Epoch 7/100: 100%|██████████████████████████████████████| 1000/1000 [19:13<00:00,  1.15s/Batch, loss=4.997878551483154]\n",
      "Epoch 8/100: 100%|██████████████████████████████████████| 1000/1000 [18:59<00:00,  1.14s/Batch, loss=4.780004024505615]\n",
      "Epoch 9/100: 100%|█████████████████████████████████████| 1000/1000 [18:59<00:00,  1.14s/Batch, loss=4.4203901290893555]\n",
      "Epoch 10/100: 100%|█████████████████████████████████████| 1000/1000 [19:01<00:00,  1.14s/Batch, loss=4.710464000701904]\n",
      "Epoch 11/100: 100%|█████████████████████████████████████| 1000/1000 [18:59<00:00,  1.14s/Batch, loss=4.565410614013672]\n",
      "Epoch 12/100: 100%|█████████████████████████████████████| 1000/1000 [19:02<00:00,  1.14s/Batch, loss=4.868255615234375]\n",
      "Epoch 13/100: 100%|██████████████████████████████████████| 1000/1000 [19:01<00:00,  1.14s/Batch, loss=4.33203649520874]\n",
      "Epoch 14/100: 100%|████████████████████████████████████| 1000/1000 [19:03<00:00,  1.14s/Batch, loss=3.9347739219665527]\n",
      "Epoch 15/100: 100%|█████████████████████████████████████| 1000/1000 [19:18<00:00,  1.16s/Batch, loss=4.883275508880615]\n",
      "Epoch 16/100: 100%|█████████████████████████████████████| 1000/1000 [19:27<00:00,  1.17s/Batch, loss=4.408266544342041]\n",
      "Epoch 17/100: 100%|█████████████████████████████████████| 1000/1000 [19:27<00:00,  1.17s/Batch, loss=4.093287944793701]\n",
      "Epoch 18/100: 100%|█████████████████████████████████████| 1000/1000 [19:24<00:00,  1.16s/Batch, loss=4.420027256011963]\n",
      "Epoch 19/100: 100%|█████████████████████████████████████| 1000/1000 [19:26<00:00,  1.17s/Batch, loss=4.728280067443848]\n",
      "Epoch 20/100: 100%|█████████████████████████████████████| 1000/1000 [19:29<00:00,  1.17s/Batch, loss=4.585907936096191]\n",
      "Epoch 21/100: 100%|█████████████████████████████████████| 1000/1000 [19:27<00:00,  1.17s/Batch, loss=4.369861602783203]\n",
      "Epoch 22/100: 100%|████████████████████████████████████| 1000/1000 [19:18<00:00,  1.16s/Batch, loss=4.5444416999816895]\n",
      "Epoch 23/100: 100%|████████████████████████████████████| 1000/1000 [19:05<00:00,  1.15s/Batch, loss=4.5548906326293945]\n",
      "Epoch 24/100: 100%|████████████████████████████████████| 1000/1000 [19:03<00:00,  1.14s/Batch, loss=4.6259284019470215]\n",
      "Epoch 25/100: 100%|█████████████████████████████████████| 1000/1000 [19:02<00:00,  1.14s/Batch, loss=4.635408401489258]\n",
      "Epoch 26/100: 100%|█████████████████████████████████████| 1000/1000 [19:01<00:00,  1.14s/Batch, loss=4.512065410614014]\n",
      "Epoch 27/100: 100%|█████████████████████████████████████| 1000/1000 [19:00<00:00,  1.14s/Batch, loss=4.478475093841553]\n",
      "Epoch 28/100: 100%|█████████████████████████████████████| 1000/1000 [19:02<00:00,  1.14s/Batch, loss=4.278304576873779]\n",
      "Epoch 29/100: 100%|████████████████████████████████████| 1000/1000 [19:04<00:00,  1.14s/Batch, loss=4.0962090492248535]\n",
      "Epoch 30/100: 100%|█████████████████████████████████████| 1000/1000 [19:02<00:00,  1.14s/Batch, loss=4.860349178314209]\n",
      "Epoch 31/100: 100%|█████████████████████████████████████| 1000/1000 [19:03<00:00,  1.14s/Batch, loss=4.235559463500977]\n",
      "Epoch 32/100: 100%|█████████████████████████████████████| 1000/1000 [19:04<00:00,  1.14s/Batch, loss=4.692008018493652]\n",
      "Epoch 33/100: 100%|████████████████████████████████████| 1000/1000 [19:05<00:00,  1.15s/Batch, loss=4.2920074462890625]\n",
      "Epoch 34/100: 100%|█████████████████████████████████████| 1000/1000 [19:05<00:00,  1.15s/Batch, loss=4.501150131225586]\n",
      "Epoch 35/100:  65%|████████████████████████▋             | 651/1000 [12:29<07:01,  1.21s/Batch, loss=4.754228591918945]"
     ]
    },
    {
     "ename": "KeyboardInterrupt",
     "evalue": "",
     "output_type": "error",
     "traceback": [
      "\u001b[1;31m---------------------------------------------------------------------------\u001b[0m",
      "\u001b[1;31mKeyboardInterrupt\u001b[0m                         Traceback (most recent call last)",
      "\u001b[1;32m<ipython-input-9-653f628327c7>\u001b[0m in \u001b[0;36m<module>\u001b[1;34m\u001b[0m\n\u001b[0;32m     16\u001b[0m             \u001b[0mtarget_batch\u001b[0m \u001b[1;33m=\u001b[0m \u001b[0mtarget_batch\u001b[0m\u001b[1;33m.\u001b[0m\u001b[0mcuda\u001b[0m\u001b[1;33m(\u001b[0m\u001b[1;33m)\u001b[0m\u001b[1;33m\u001b[0m\u001b[1;33m\u001b[0m\u001b[0m\n\u001b[0;32m     17\u001b[0m \u001b[1;33m\u001b[0m\u001b[0m\n\u001b[1;32m---> 18\u001b[1;33m         \u001b[0mo\u001b[0m\u001b[1;33m,\u001b[0m \u001b[0mp\u001b[0m \u001b[1;33m=\u001b[0m \u001b[0mmodel\u001b[0m\u001b[1;33m(\u001b[0m\u001b[0mtrain_batch\u001b[0m\u001b[1;33m)\u001b[0m\u001b[1;33m\u001b[0m\u001b[1;33m\u001b[0m\u001b[0m\n\u001b[0m\u001b[0;32m     19\u001b[0m         \u001b[0mo\u001b[0m \u001b[1;33m=\u001b[0m \u001b[0mo\u001b[0m\u001b[1;33m.\u001b[0m\u001b[0mcontiguous\u001b[0m\u001b[1;33m(\u001b[0m\u001b[1;33m)\u001b[0m\u001b[1;33m.\u001b[0m\u001b[0mview\u001b[0m\u001b[1;33m(\u001b[0m\u001b[1;33m-\u001b[0m\u001b[1;36m1\u001b[0m\u001b[1;33m,\u001b[0m \u001b[0mo\u001b[0m\u001b[1;33m.\u001b[0m\u001b[0msize\u001b[0m\u001b[1;33m(\u001b[0m\u001b[1;33m)\u001b[0m\u001b[1;33m[\u001b[0m\u001b[1;33m-\u001b[0m\u001b[1;36m1\u001b[0m\u001b[1;33m]\u001b[0m\u001b[1;33m)\u001b[0m\u001b[1;33m\u001b[0m\u001b[1;33m\u001b[0m\u001b[0m\n\u001b[0;32m     20\u001b[0m         \u001b[0mtarget_batch\u001b[0m \u001b[1;33m=\u001b[0m \u001b[0mtarget_batch\u001b[0m\u001b[1;33m.\u001b[0m\u001b[0mview\u001b[0m\u001b[1;33m(\u001b[0m\u001b[1;33m-\u001b[0m\u001b[1;36m1\u001b[0m\u001b[1;33m)\u001b[0m\u001b[1;33m\u001b[0m\u001b[1;33m\u001b[0m\u001b[0m\n",
      "\u001b[1;32m~\\AppData\\Local\\Continuum\\anaconda3\\envs\\ca\\lib\\site-packages\\torch\\nn\\modules\\module.py\u001b[0m in \u001b[0;36m__call__\u001b[1;34m(self, *input, **kwargs)\u001b[0m\n\u001b[0;32m    539\u001b[0m             \u001b[0mresult\u001b[0m \u001b[1;33m=\u001b[0m \u001b[0mself\u001b[0m\u001b[1;33m.\u001b[0m\u001b[0m_slow_forward\u001b[0m\u001b[1;33m(\u001b[0m\u001b[1;33m*\u001b[0m\u001b[0minput\u001b[0m\u001b[1;33m,\u001b[0m \u001b[1;33m**\u001b[0m\u001b[0mkwargs\u001b[0m\u001b[1;33m)\u001b[0m\u001b[1;33m\u001b[0m\u001b[1;33m\u001b[0m\u001b[0m\n\u001b[0;32m    540\u001b[0m         \u001b[1;32melse\u001b[0m\u001b[1;33m:\u001b[0m\u001b[1;33m\u001b[0m\u001b[1;33m\u001b[0m\u001b[0m\n\u001b[1;32m--> 541\u001b[1;33m             \u001b[0mresult\u001b[0m \u001b[1;33m=\u001b[0m \u001b[0mself\u001b[0m\u001b[1;33m.\u001b[0m\u001b[0mforward\u001b[0m\u001b[1;33m(\u001b[0m\u001b[1;33m*\u001b[0m\u001b[0minput\u001b[0m\u001b[1;33m,\u001b[0m \u001b[1;33m**\u001b[0m\u001b[0mkwargs\u001b[0m\u001b[1;33m)\u001b[0m\u001b[1;33m\u001b[0m\u001b[1;33m\u001b[0m\u001b[0m\n\u001b[0m\u001b[0;32m    542\u001b[0m         \u001b[1;32mfor\u001b[0m \u001b[0mhook\u001b[0m \u001b[1;32min\u001b[0m \u001b[0mself\u001b[0m\u001b[1;33m.\u001b[0m\u001b[0m_forward_hooks\u001b[0m\u001b[1;33m.\u001b[0m\u001b[0mvalues\u001b[0m\u001b[1;33m(\u001b[0m\u001b[1;33m)\u001b[0m\u001b[1;33m:\u001b[0m\u001b[1;33m\u001b[0m\u001b[1;33m\u001b[0m\u001b[0m\n\u001b[0;32m    543\u001b[0m             \u001b[0mhook_result\u001b[0m \u001b[1;33m=\u001b[0m \u001b[0mhook\u001b[0m\u001b[1;33m(\u001b[0m\u001b[0mself\u001b[0m\u001b[1;33m,\u001b[0m \u001b[0minput\u001b[0m\u001b[1;33m,\u001b[0m \u001b[0mresult\u001b[0m\u001b[1;33m)\u001b[0m\u001b[1;33m\u001b[0m\u001b[1;33m\u001b[0m\u001b[0m\n",
      "\u001b[1;32m~\\Development\\VLDB\\pointer_sort\\models\\pointer_net.py\u001b[0m in \u001b[0;36mforward\u001b[1;34m(self, inputs)\u001b[0m\n\u001b[0;32m    308\u001b[0m                                                            \u001b[0mdecoder_input0\u001b[0m\u001b[1;33m,\u001b[0m\u001b[1;33m\u001b[0m\u001b[1;33m\u001b[0m\u001b[0m\n\u001b[0;32m    309\u001b[0m                                                            \u001b[0mdecoder_hidden0\u001b[0m\u001b[1;33m,\u001b[0m\u001b[1;33m\u001b[0m\u001b[1;33m\u001b[0m\u001b[0m\n\u001b[1;32m--> 310\u001b[1;33m                                                            encoder_outputs)\n\u001b[0m\u001b[0;32m    311\u001b[0m \u001b[1;33m\u001b[0m\u001b[0m\n\u001b[0;32m    312\u001b[0m         \u001b[1;32mreturn\u001b[0m  \u001b[0moutputs\u001b[0m\u001b[1;33m,\u001b[0m \u001b[0mpointers\u001b[0m\u001b[1;33m\u001b[0m\u001b[1;33m\u001b[0m\u001b[0m\n",
      "\u001b[1;32m~\\AppData\\Local\\Continuum\\anaconda3\\envs\\ca\\lib\\site-packages\\torch\\nn\\modules\\module.py\u001b[0m in \u001b[0;36m__call__\u001b[1;34m(self, *input, **kwargs)\u001b[0m\n\u001b[0;32m    539\u001b[0m             \u001b[0mresult\u001b[0m \u001b[1;33m=\u001b[0m \u001b[0mself\u001b[0m\u001b[1;33m.\u001b[0m\u001b[0m_slow_forward\u001b[0m\u001b[1;33m(\u001b[0m\u001b[1;33m*\u001b[0m\u001b[0minput\u001b[0m\u001b[1;33m,\u001b[0m \u001b[1;33m**\u001b[0m\u001b[0mkwargs\u001b[0m\u001b[1;33m)\u001b[0m\u001b[1;33m\u001b[0m\u001b[1;33m\u001b[0m\u001b[0m\n\u001b[0;32m    540\u001b[0m         \u001b[1;32melse\u001b[0m\u001b[1;33m:\u001b[0m\u001b[1;33m\u001b[0m\u001b[1;33m\u001b[0m\u001b[0m\n\u001b[1;32m--> 541\u001b[1;33m             \u001b[0mresult\u001b[0m \u001b[1;33m=\u001b[0m \u001b[0mself\u001b[0m\u001b[1;33m.\u001b[0m\u001b[0mforward\u001b[0m\u001b[1;33m(\u001b[0m\u001b[1;33m*\u001b[0m\u001b[0minput\u001b[0m\u001b[1;33m,\u001b[0m \u001b[1;33m**\u001b[0m\u001b[0mkwargs\u001b[0m\u001b[1;33m)\u001b[0m\u001b[1;33m\u001b[0m\u001b[1;33m\u001b[0m\u001b[0m\n\u001b[0m\u001b[0;32m    542\u001b[0m         \u001b[1;32mfor\u001b[0m \u001b[0mhook\u001b[0m \u001b[1;32min\u001b[0m \u001b[0mself\u001b[0m\u001b[1;33m.\u001b[0m\u001b[0m_forward_hooks\u001b[0m\u001b[1;33m.\u001b[0m\u001b[0mvalues\u001b[0m\u001b[1;33m(\u001b[0m\u001b[1;33m)\u001b[0m\u001b[1;33m:\u001b[0m\u001b[1;33m\u001b[0m\u001b[1;33m\u001b[0m\u001b[0m\n\u001b[0;32m    543\u001b[0m             \u001b[0mhook_result\u001b[0m \u001b[1;33m=\u001b[0m \u001b[0mhook\u001b[0m\u001b[1;33m(\u001b[0m\u001b[0mself\u001b[0m\u001b[1;33m,\u001b[0m \u001b[0minput\u001b[0m\u001b[1;33m,\u001b[0m \u001b[0mresult\u001b[0m\u001b[1;33m)\u001b[0m\u001b[1;33m\u001b[0m\u001b[1;33m\u001b[0m\u001b[0m\n",
      "\u001b[1;32m~\\Development\\VLDB\\pointer_sort\\models\\pointer_net.py\u001b[0m in \u001b[0;36mforward\u001b[1;34m(self, embedded_inputs, decoder_input, hidden, context)\u001b[0m\n\u001b[0;32m    221\u001b[0m         \u001b[1;31m# Recurrence loop\u001b[0m\u001b[1;33m\u001b[0m\u001b[1;33m\u001b[0m\u001b[1;33m\u001b[0m\u001b[0m\n\u001b[0;32m    222\u001b[0m         \u001b[1;32mfor\u001b[0m \u001b[0m_\u001b[0m \u001b[1;32min\u001b[0m \u001b[0mrange\u001b[0m\u001b[1;33m(\u001b[0m\u001b[0minput_length\u001b[0m\u001b[1;33m)\u001b[0m\u001b[1;33m:\u001b[0m\u001b[1;33m\u001b[0m\u001b[1;33m\u001b[0m\u001b[0m\n\u001b[1;32m--> 223\u001b[1;33m             \u001b[0mh_t\u001b[0m\u001b[1;33m,\u001b[0m \u001b[0mc_t\u001b[0m\u001b[1;33m,\u001b[0m \u001b[0mouts\u001b[0m \u001b[1;33m=\u001b[0m \u001b[0mstep\u001b[0m\u001b[1;33m(\u001b[0m\u001b[0mdecoder_input\u001b[0m\u001b[1;33m,\u001b[0m \u001b[0mhidden\u001b[0m\u001b[1;33m)\u001b[0m\u001b[1;33m\u001b[0m\u001b[1;33m\u001b[0m\u001b[0m\n\u001b[0m\u001b[0;32m    224\u001b[0m             \u001b[0mhidden\u001b[0m \u001b[1;33m=\u001b[0m \u001b[1;33m(\u001b[0m\u001b[0mh_t\u001b[0m\u001b[1;33m,\u001b[0m \u001b[0mc_t\u001b[0m\u001b[1;33m)\u001b[0m\u001b[1;33m\u001b[0m\u001b[1;33m\u001b[0m\u001b[0m\n\u001b[0;32m    225\u001b[0m \u001b[1;33m\u001b[0m\u001b[0m\n",
      "\u001b[1;32m~\\Development\\VLDB\\pointer_sort\\models\\pointer_net.py\u001b[0m in \u001b[0;36mstep\u001b[1;34m(x, hidden)\u001b[0m\n\u001b[0;32m    214\u001b[0m \u001b[1;33m\u001b[0m\u001b[0m\n\u001b[0;32m    215\u001b[0m             \u001b[1;31m# Attention section\u001b[0m\u001b[1;33m\u001b[0m\u001b[1;33m\u001b[0m\u001b[1;33m\u001b[0m\u001b[0m\n\u001b[1;32m--> 216\u001b[1;33m             \u001b[0mhidden_t\u001b[0m\u001b[1;33m,\u001b[0m \u001b[0moutput\u001b[0m \u001b[1;33m=\u001b[0m \u001b[0mself\u001b[0m\u001b[1;33m.\u001b[0m\u001b[0matt\u001b[0m\u001b[1;33m(\u001b[0m\u001b[0mh_t\u001b[0m\u001b[1;33m,\u001b[0m \u001b[0mcontext\u001b[0m\u001b[1;33m,\u001b[0m \u001b[0mtorch\u001b[0m\u001b[1;33m.\u001b[0m\u001b[0meq\u001b[0m\u001b[1;33m(\u001b[0m\u001b[0mmask\u001b[0m\u001b[1;33m,\u001b[0m \u001b[1;36m0\u001b[0m\u001b[1;33m)\u001b[0m\u001b[1;33m)\u001b[0m\u001b[1;33m\u001b[0m\u001b[1;33m\u001b[0m\u001b[0m\n\u001b[0m\u001b[0;32m    217\u001b[0m             \u001b[0mhidden_t\u001b[0m \u001b[1;33m=\u001b[0m \u001b[0mF\u001b[0m\u001b[1;33m.\u001b[0m\u001b[0mtanh\u001b[0m\u001b[1;33m(\u001b[0m\u001b[0mself\u001b[0m\u001b[1;33m.\u001b[0m\u001b[0mhidden_out\u001b[0m\u001b[1;33m(\u001b[0m\u001b[0mtorch\u001b[0m\u001b[1;33m.\u001b[0m\u001b[0mcat\u001b[0m\u001b[1;33m(\u001b[0m\u001b[1;33m(\u001b[0m\u001b[0mhidden_t\u001b[0m\u001b[1;33m,\u001b[0m \u001b[0mh_t\u001b[0m\u001b[1;33m)\u001b[0m\u001b[1;33m,\u001b[0m \u001b[1;36m1\u001b[0m\u001b[1;33m)\u001b[0m\u001b[1;33m)\u001b[0m\u001b[1;33m)\u001b[0m\u001b[1;33m\u001b[0m\u001b[1;33m\u001b[0m\u001b[0m\n\u001b[0;32m    218\u001b[0m \u001b[1;33m\u001b[0m\u001b[0m\n",
      "\u001b[1;32m~\\AppData\\Local\\Continuum\\anaconda3\\envs\\ca\\lib\\site-packages\\torch\\nn\\modules\\module.py\u001b[0m in \u001b[0;36m__call__\u001b[1;34m(self, *input, **kwargs)\u001b[0m\n\u001b[0;32m    539\u001b[0m             \u001b[0mresult\u001b[0m \u001b[1;33m=\u001b[0m \u001b[0mself\u001b[0m\u001b[1;33m.\u001b[0m\u001b[0m_slow_forward\u001b[0m\u001b[1;33m(\u001b[0m\u001b[1;33m*\u001b[0m\u001b[0minput\u001b[0m\u001b[1;33m,\u001b[0m \u001b[1;33m**\u001b[0m\u001b[0mkwargs\u001b[0m\u001b[1;33m)\u001b[0m\u001b[1;33m\u001b[0m\u001b[1;33m\u001b[0m\u001b[0m\n\u001b[0;32m    540\u001b[0m         \u001b[1;32melse\u001b[0m\u001b[1;33m:\u001b[0m\u001b[1;33m\u001b[0m\u001b[1;33m\u001b[0m\u001b[0m\n\u001b[1;32m--> 541\u001b[1;33m             \u001b[0mresult\u001b[0m \u001b[1;33m=\u001b[0m \u001b[0mself\u001b[0m\u001b[1;33m.\u001b[0m\u001b[0mforward\u001b[0m\u001b[1;33m(\u001b[0m\u001b[1;33m*\u001b[0m\u001b[0minput\u001b[0m\u001b[1;33m,\u001b[0m \u001b[1;33m**\u001b[0m\u001b[0mkwargs\u001b[0m\u001b[1;33m)\u001b[0m\u001b[1;33m\u001b[0m\u001b[1;33m\u001b[0m\u001b[0m\n\u001b[0m\u001b[0;32m    542\u001b[0m         \u001b[1;32mfor\u001b[0m \u001b[0mhook\u001b[0m \u001b[1;32min\u001b[0m \u001b[0mself\u001b[0m\u001b[1;33m.\u001b[0m\u001b[0m_forward_hooks\u001b[0m\u001b[1;33m.\u001b[0m\u001b[0mvalues\u001b[0m\u001b[1;33m(\u001b[0m\u001b[1;33m)\u001b[0m\u001b[1;33m:\u001b[0m\u001b[1;33m\u001b[0m\u001b[1;33m\u001b[0m\u001b[0m\n\u001b[0;32m    543\u001b[0m             \u001b[0mhook_result\u001b[0m \u001b[1;33m=\u001b[0m \u001b[0mhook\u001b[0m\u001b[1;33m(\u001b[0m\u001b[0mself\u001b[0m\u001b[1;33m,\u001b[0m \u001b[0minput\u001b[0m\u001b[1;33m,\u001b[0m \u001b[0mresult\u001b[0m\u001b[1;33m)\u001b[0m\u001b[1;33m\u001b[0m\u001b[1;33m\u001b[0m\u001b[0m\n",
      "\u001b[1;32m~\\Development\\VLDB\\pointer_sort\\models\\pointer_net.py\u001b[0m in \u001b[0;36mforward\u001b[1;34m(self, input, context, mask)\u001b[0m\n\u001b[0;32m    117\u001b[0m         \u001b[1;31m# (batch, hidden_dim, seq_len)\u001b[0m\u001b[1;33m\u001b[0m\u001b[1;33m\u001b[0m\u001b[1;33m\u001b[0m\u001b[0m\n\u001b[0;32m    118\u001b[0m         \u001b[0mcontext\u001b[0m \u001b[1;33m=\u001b[0m \u001b[0mcontext\u001b[0m\u001b[1;33m.\u001b[0m\u001b[0mpermute\u001b[0m\u001b[1;33m(\u001b[0m\u001b[1;36m0\u001b[0m\u001b[1;33m,\u001b[0m \u001b[1;36m2\u001b[0m\u001b[1;33m,\u001b[0m \u001b[1;36m1\u001b[0m\u001b[1;33m)\u001b[0m\u001b[1;33m\u001b[0m\u001b[1;33m\u001b[0m\u001b[0m\n\u001b[1;32m--> 119\u001b[1;33m         \u001b[0mctx\u001b[0m \u001b[1;33m=\u001b[0m \u001b[0mself\u001b[0m\u001b[1;33m.\u001b[0m\u001b[0mcontext_linear\u001b[0m\u001b[1;33m(\u001b[0m\u001b[0mcontext\u001b[0m\u001b[1;33m)\u001b[0m\u001b[1;33m\u001b[0m\u001b[1;33m\u001b[0m\u001b[0m\n\u001b[0m\u001b[0;32m    120\u001b[0m \u001b[1;33m\u001b[0m\u001b[0m\n\u001b[0;32m    121\u001b[0m         \u001b[1;31m# (batch, 1, hidden_dim)\u001b[0m\u001b[1;33m\u001b[0m\u001b[1;33m\u001b[0m\u001b[1;33m\u001b[0m\u001b[0m\n",
      "\u001b[1;32m~\\AppData\\Local\\Continuum\\anaconda3\\envs\\ca\\lib\\site-packages\\torch\\nn\\modules\\module.py\u001b[0m in \u001b[0;36m__call__\u001b[1;34m(self, *input, **kwargs)\u001b[0m\n\u001b[0;32m    539\u001b[0m             \u001b[0mresult\u001b[0m \u001b[1;33m=\u001b[0m \u001b[0mself\u001b[0m\u001b[1;33m.\u001b[0m\u001b[0m_slow_forward\u001b[0m\u001b[1;33m(\u001b[0m\u001b[1;33m*\u001b[0m\u001b[0minput\u001b[0m\u001b[1;33m,\u001b[0m \u001b[1;33m**\u001b[0m\u001b[0mkwargs\u001b[0m\u001b[1;33m)\u001b[0m\u001b[1;33m\u001b[0m\u001b[1;33m\u001b[0m\u001b[0m\n\u001b[0;32m    540\u001b[0m         \u001b[1;32melse\u001b[0m\u001b[1;33m:\u001b[0m\u001b[1;33m\u001b[0m\u001b[1;33m\u001b[0m\u001b[0m\n\u001b[1;32m--> 541\u001b[1;33m             \u001b[0mresult\u001b[0m \u001b[1;33m=\u001b[0m \u001b[0mself\u001b[0m\u001b[1;33m.\u001b[0m\u001b[0mforward\u001b[0m\u001b[1;33m(\u001b[0m\u001b[1;33m*\u001b[0m\u001b[0minput\u001b[0m\u001b[1;33m,\u001b[0m \u001b[1;33m**\u001b[0m\u001b[0mkwargs\u001b[0m\u001b[1;33m)\u001b[0m\u001b[1;33m\u001b[0m\u001b[1;33m\u001b[0m\u001b[0m\n\u001b[0m\u001b[0;32m    542\u001b[0m         \u001b[1;32mfor\u001b[0m \u001b[0mhook\u001b[0m \u001b[1;32min\u001b[0m \u001b[0mself\u001b[0m\u001b[1;33m.\u001b[0m\u001b[0m_forward_hooks\u001b[0m\u001b[1;33m.\u001b[0m\u001b[0mvalues\u001b[0m\u001b[1;33m(\u001b[0m\u001b[1;33m)\u001b[0m\u001b[1;33m:\u001b[0m\u001b[1;33m\u001b[0m\u001b[1;33m\u001b[0m\u001b[0m\n\u001b[0;32m    543\u001b[0m             \u001b[0mhook_result\u001b[0m \u001b[1;33m=\u001b[0m \u001b[0mhook\u001b[0m\u001b[1;33m(\u001b[0m\u001b[0mself\u001b[0m\u001b[1;33m,\u001b[0m \u001b[0minput\u001b[0m\u001b[1;33m,\u001b[0m \u001b[0mresult\u001b[0m\u001b[1;33m)\u001b[0m\u001b[1;33m\u001b[0m\u001b[1;33m\u001b[0m\u001b[0m\n",
      "\u001b[1;32m~\\AppData\\Local\\Continuum\\anaconda3\\envs\\ca\\lib\\site-packages\\torch\\nn\\modules\\conv.py\u001b[0m in \u001b[0;36mforward\u001b[1;34m(self, input)\u001b[0m\n\u001b[0;32m    200\u001b[0m                             _single(0), self.dilation, self.groups)\n\u001b[0;32m    201\u001b[0m         return F.conv1d(input, self.weight, self.bias, self.stride,\n\u001b[1;32m--> 202\u001b[1;33m                         self.padding, self.dilation, self.groups)\n\u001b[0m\u001b[0;32m    203\u001b[0m \u001b[1;33m\u001b[0m\u001b[0m\n\u001b[0;32m    204\u001b[0m \u001b[1;33m\u001b[0m\u001b[0m\n",
      "\u001b[1;31mKeyboardInterrupt\u001b[0m: "
     ]
    }
   ],
   "source": [
    "losses = []\n",
    "\n",
    "for i_epoch, epoch in enumerate(range(params['nof_epoch'])):\n",
    "    batch_loss = []\n",
    "    iterator = tqdm(dataloader, unit='Batch')\n",
    "    \n",
    "    for i_batch, sample_batched in enumerate(iterator):\n",
    "        iterator.set_description('Epoch %i/%i' % (epoch+1, params['nof_epoch']))\n",
    "\n",
    "        x, y = sample_batched['input'], sample_batched['target']\n",
    "        train_batch = Variable(x)\n",
    "        target_batch = Variable(y)\n",
    "\n",
    "        if USE_CUDA:\n",
    "            train_batch = train_batch.cuda()\n",
    "            target_batch = target_batch.cuda()\n",
    "\n",
    "        o, p = model(train_batch)\n",
    "        o = o.contiguous().view(-1, o.size()[-1])\n",
    "        target_batch = target_batch.view(-1)\n",
    "        \n",
    "        loss = CCE(o, target_batch) #/ target_batch.shape[1] # need to take the length of the table into account\n",
    "        #acc = get_accuracy(p, target_batch)\n",
    "        \n",
    "        losses.append(loss.data)\n",
    "        batch_loss.append(loss.data)\n",
    "\n",
    "        model_optim.zero_grad()\n",
    "        loss.backward()\n",
    "        model_optim.step()\n",
    "        \n",
    "        iterator.set_postfix(loss='{}'.format(loss.data))\n",
    "        \n",
    "    # each epoch, reduce the learning rate\n",
    "    for param in model_optim.param_groups:\n",
    "            param['lr'] *= 0.95\n",
    "            \n",
    "    batch_loss = torch.Tensor(batch_loss)\n",
    "    iterator.set_postfix(loss=np.average(batch_loss))"
   ]
  },
  {
   "cell_type": "markdown",
   "metadata": {},
   "source": [
    "---"
   ]
  },
  {
   "cell_type": "markdown",
   "metadata": {},
   "source": [
    "# BackUp"
   ]
  },
  {
   "cell_type": "code",
   "execution_count": null,
   "metadata": {},
   "outputs": [],
   "source": [
    "<marker>"
   ]
  },
  {
   "cell_type": "code",
   "execution_count": null,
   "metadata": {},
   "outputs": [],
   "source": [
    "model.eval()"
   ]
  },
  {
   "cell_type": "code",
   "execution_count": null,
   "metadata": {},
   "outputs": [],
   "source": [
    "x, y, z = dataset[:100]\n",
    "x = x.cuda()\n",
    "y = y.cuda()"
   ]
  },
  {
   "cell_type": "code",
   "execution_count": null,
   "metadata": {},
   "outputs": [],
   "source": [
    "o, p = model(x)"
   ]
  },
  {
   "cell_type": "code",
   "execution_count": null,
   "metadata": {},
   "outputs": [],
   "source": [
    "sorting = list(zip(z, p.data.cpu().tolist()))"
   ]
  },
  {
   "cell_type": "code",
   "execution_count": null,
   "metadata": {},
   "outputs": [],
   "source": [
    "sorting"
   ]
  },
  {
   "cell_type": "code",
   "execution_count": null,
   "metadata": {
    "scrolled": true
   },
   "outputs": [],
   "source": [
    "for pair in sorting:\n",
    "    sequence, pointers = pair\n",
    "    tmp = {}\n",
    "    for seq, p in zip(sequence, pointers):\n",
    "        tmp[seq] = p\n",
    "    tmp =  [k for k, v in sorted(tmp.items(), key=lambda item: item[1])]\n",
    "    print(\"PRED:\" , tmp, \" \\nTRUE: \", sorted(sequence))\n",
    "    print()"
   ]
  }
 ],
 "metadata": {
  "kernelspec": {
   "display_name": "Python 3",
   "language": "python",
   "name": "python3"
  },
  "language_info": {
   "codemirror_mode": {
    "name": "ipython",
    "version": 3
   },
   "file_extension": ".py",
   "mimetype": "text/x-python",
   "name": "python",
   "nbconvert_exporter": "python",
   "pygments_lexer": "ipython3",
   "version": "3.7.5"
  }
 },
 "nbformat": 4,
 "nbformat_minor": 2
}

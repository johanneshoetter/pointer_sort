{
 "cells": [
  {
   "cell_type": "code",
   "execution_count": 1,
   "metadata": {},
   "outputs": [],
   "source": [
    "from utils.preprocessing import WordEmbedding, load_word_emb\n",
    "import os\n",
    "import pandas as pd\n",
    "import numpy as np\n",
    "import torch\n",
    "from torch.utils.data import Dataset\n",
    "from tqdm import tqdm\n",
    "\n",
    "import warnings\n",
    "warnings.filterwarnings(\"ignore\")\n",
    "\n",
    "from utils.datasets import SchemaMatchingDataset\n",
    "from sklearn.model_selection import train_test_split"
   ]
  },
  {
   "cell_type": "code",
   "execution_count": 2,
   "metadata": {},
   "outputs": [],
   "source": [
    "schema_matches = pd.read_csv('data/training/schema_matching_raw_1toN.txt')\n",
    "schema_matches = schema_matches.sample(frac=1).reset_index(drop=True)"
   ]
  },
  {
   "cell_type": "code",
   "execution_count": 3,
   "metadata": {},
   "outputs": [
    {
     "data": {
      "text/html": [
       "<div>\n",
       "<style scoped>\n",
       "    .dataframe tbody tr th:only-of-type {\n",
       "        vertical-align: middle;\n",
       "    }\n",
       "\n",
       "    .dataframe tbody tr th {\n",
       "        vertical-align: top;\n",
       "    }\n",
       "\n",
       "    .dataframe thead th {\n",
       "        text-align: right;\n",
       "    }\n",
       "</style>\n",
       "<table border=\"1\" class=\"dataframe\">\n",
       "  <thead>\n",
       "    <tr style=\"text-align: right;\">\n",
       "      <th></th>\n",
       "      <th>source_col</th>\n",
       "      <th>input_cols</th>\n",
       "      <th>target_cols</th>\n",
       "    </tr>\n",
       "  </thead>\n",
       "  <tbody>\n",
       "    <tr>\n",
       "      <th>0</th>\n",
       "      <td>Last year</td>\n",
       "      <td>Year&lt;|&gt;Class&lt;|&gt;Team&lt;|&gt;Bike&lt;|&gt;Races&lt;|&gt;Wins&lt;|&gt;Po...</td>\n",
       "      <td>Year</td>\n",
       "    </tr>\n",
       "    <tr>\n",
       "      <th>1</th>\n",
       "      <td>Co-singer</td>\n",
       "      <td>Name&lt;|&gt;No. Specimens&lt;|&gt;Abbr.&lt;|&gt;Country&lt;|&gt;City</td>\n",
       "      <td>&lt;NONE&gt;</td>\n",
       "    </tr>\n",
       "    <tr>\n",
       "      <th>2</th>\n",
       "      <td>Dec 2008</td>\n",
       "      <td>Geographic Unit&lt;|&gt;2006&lt;|&gt;2007&lt;|&gt;2008&lt;|&gt;2009&lt;|&gt;...</td>\n",
       "      <td>2008</td>\n",
       "    </tr>\n",
       "    <tr>\n",
       "      <th>3</th>\n",
       "      <td>Match Play</td>\n",
       "      <td>Team&lt;|&gt;Stadium&lt;|&gt;Match played&lt;|&gt;Highest&lt;|&gt;Lowe...</td>\n",
       "      <td>Match played</td>\n",
       "    </tr>\n",
       "    <tr>\n",
       "      <th>4</th>\n",
       "      <td>Tomina Municipality</td>\n",
       "      <td>Rank&lt;|&gt;Peak&lt;|&gt;Elevation (m)&lt;|&gt;Prominence (m)&lt;|...</td>\n",
       "      <td>Municipality</td>\n",
       "    </tr>\n",
       "  </tbody>\n",
       "</table>\n",
       "</div>"
      ],
      "text/plain": [
       "            source_col                                         input_cols  \\\n",
       "0            Last year  Year<|>Class<|>Team<|>Bike<|>Races<|>Wins<|>Po...   \n",
       "1            Co-singer      Name<|>No. Specimens<|>Abbr.<|>Country<|>City   \n",
       "2             Dec 2008  Geographic Unit<|>2006<|>2007<|>2008<|>2009<|>...   \n",
       "3           Match Play  Team<|>Stadium<|>Match played<|>Highest<|>Lowe...   \n",
       "4  Tomina Municipality  Rank<|>Peak<|>Elevation (m)<|>Prominence (m)<|...   \n",
       "\n",
       "    target_cols  \n",
       "0          Year  \n",
       "1        <NONE>  \n",
       "2          2008  \n",
       "3  Match played  \n",
       "4  Municipality  "
      ]
     },
     "execution_count": 3,
     "metadata": {},
     "output_type": "execute_result"
    }
   ],
   "source": [
    "schema_matches.head()"
   ]
  },
  {
   "cell_type": "code",
   "execution_count": 4,
   "metadata": {},
   "outputs": [
    {
     "data": {
      "text/plain": [
       "(15421, 3)"
      ]
     },
     "execution_count": 4,
     "metadata": {},
     "output_type": "execute_result"
    }
   ],
   "source": [
    "schema_matches.shape"
   ]
  },
  {
   "cell_type": "code",
   "execution_count": 5,
   "metadata": {},
   "outputs": [
    {
     "data": {
      "text/plain": [
       "7598"
      ]
     },
     "execution_count": 5,
     "metadata": {},
     "output_type": "execute_result"
    }
   ],
   "source": [
    "len(schema_matches['input_cols'].unique())"
   ]
  },
  {
   "cell_type": "code",
   "execution_count": 6,
   "metadata": {},
   "outputs": [
    {
     "data": {
      "text/plain": [
       "2365"
      ]
     },
     "execution_count": 6,
     "metadata": {},
     "output_type": "execute_result"
    }
   ],
   "source": [
    "len(schema_matches['source_col'].unique())"
   ]
  },
  {
   "cell_type": "code",
   "execution_count": 7,
   "metadata": {},
   "outputs": [],
   "source": [
    "schema_matches['input_cols'] = schema_matches['input_cols'].apply(lambda x: x.split('<|>'))\n",
    "schema_matches['target_cols'] = schema_matches['target_cols'].apply(lambda x: x.split('<|>'))"
   ]
  },
  {
   "cell_type": "code",
   "execution_count": 8,
   "metadata": {},
   "outputs": [],
   "source": [
    "train_matches, test_matches = train_test_split(schema_matches, test_size=0.2)"
   ]
  },
  {
   "cell_type": "code",
   "execution_count": 9,
   "metadata": {},
   "outputs": [
    {
     "name": "stderr",
     "output_type": "stream",
     "text": [
      "100%|██████████████████████████████████████████████████████████████████████████| 12336/12336 [2:18:56<00:00,  1.48it/s]\n",
      "100%|██████████████████████████████████████████████████████████████████████████████| 3085/3085 [34:16<00:00,  1.50it/s]\n"
     ]
    }
   ],
   "source": [
    "dataset_train = SchemaMatchingDataset(train_matches)\n",
    "dataset_test = SchemaMatchingDataset(test_matches)"
   ]
  },
  {
   "cell_type": "code",
   "execution_count": 10,
   "metadata": {},
   "outputs": [],
   "source": [
    "dataset_train.save('data/training', suffix='train')\n",
    "dataset_test.save('data/training', suffix='test')"
   ]
  }
 ],
 "metadata": {
  "kernelspec": {
   "display_name": "Python 3",
   "language": "python",
   "name": "python3"
  },
  "language_info": {
   "codemirror_mode": {
    "name": "ipython",
    "version": 3
   },
   "file_extension": ".py",
   "mimetype": "text/x-python",
   "name": "python",
   "nbconvert_exporter": "python",
   "pygments_lexer": "ipython3",
   "version": "3.7.5"
  }
 },
 "nbformat": 4,
 "nbformat_minor": 2
}

{
 "cells": [
  {
   "cell_type": "code",
   "execution_count": 1,
   "metadata": {},
   "outputs": [],
   "source": [
    "import torch\n",
    "import torch.optim as optim\n",
    "import torch.backends.cudnn as cudnn\n",
    "from torch.autograd import Variable\n",
    "from torch.utils.data import DataLoader\n",
    "import numpy as np\n",
    "\n",
    "import warnings\n",
    "warnings.filterwarnings(\"ignore\")\n",
    "\n",
    "from utils.datasets import AlphabetSortingDataset, NumberSortingDataset\n",
    "from models.pointer_net import PointerNet\n",
    "from torch.utils.data import DataLoader"
   ]
  },
  {
   "cell_type": "code",
   "execution_count": 2,
   "metadata": {},
   "outputs": [],
   "source": [
    "params = {\n",
    "    # Data\n",
    "    #'magnitude': 6,\n",
    "    'batch_size': 1024,\n",
    "    'shuffle': True,\n",
    "    'nof_workers': 0, # must stay at 0\n",
    "    #Train\n",
    "    'nof_epoch': 1000,\n",
    "    'lr': 0.001,\n",
    "    # GPU\n",
    "    'gpu': True,\n",
    "    # Network\n",
    "    'input_size': 300,\n",
    "    'embedding_size': 300,\n",
    "    'hiddens': 256,\n",
    "    'nof_lstms': 2,\n",
    "    'dropout': 0,\n",
    "    'bidir': True\n",
    "}"
   ]
  },
  {
   "cell_type": "code",
   "execution_count": 3,
   "metadata": {},
   "outputs": [],
   "source": [
    "#dataset = NumberSortingDataset(10**params['magnitude'], min_len=LEN, max_len=LEN)\n",
    "#dataset = AlphabetSortingDataset(10**params['magnitude'], min_len=LEN, max_len=LEN, alphabet='0123456789')\n",
    "dataset = AlphabetSortingDataset(0) # load from state\n",
    "max_len, min_len = dataset.load('data/training')\n",
    "dataloader = DataLoader(dataset,\n",
    "                        batch_size=params['batch_size'],\n",
    "                        shuffle=params['shuffle'])"
   ]
  },
  {
   "cell_type": "code",
   "execution_count": 4,
   "metadata": {},
   "outputs": [],
   "source": [
    "model = PointerNet(params['input_size'],\n",
    "                   params['embedding_size'],\n",
    "                   params['hiddens'],\n",
    "                   params['nof_lstms'],\n",
    "                   params['dropout'],\n",
    "                   params['bidir'])\n",
    "\n",
    "if params['gpu'] and torch.cuda.is_available():\n",
    "    model.cuda()\n",
    "    net = torch.nn.DataParallel(model, device_ids=range(torch.cuda.device_count()))\n",
    "    cudnn.benchmark = True\n",
    "\n",
    "CCE = torch.nn.CrossEntropyLoss()\n",
    "model_optim = optim.Adam(filter(lambda p: p.requires_grad,\n",
    "                                model.parameters()),\n",
    "                                 lr=params['lr'])"
   ]
  },
  {
   "cell_type": "code",
   "execution_count": 5,
   "metadata": {},
   "outputs": [
    {
     "name": "stderr",
     "output_type": "stream",
     "text": [
      "Epoch 1/1000: 100%|█████████████████████████████████████████████████| 196/196 [02:58<00:00,  1.10Batch/s, accuracy=0.0]\n",
      "Epoch 2/1000: 100%|█████████████████████████████████████████████████| 196/196 [02:58<00:00,  1.10Batch/s, accuracy=0.0]\n",
      "Epoch 3/1000: 100%|████████████████████████████████████████████████| 196/196 [02:59<00:00,  1.09Batch/s, accuracy=0.03]\n",
      "Epoch 4/1000: 100%|████████████████████████████████████████████████| 196/196 [02:59<00:00,  1.09Batch/s, accuracy=0.04]\n",
      "Epoch 5/1000: 100%|████████████████████████████████████████████████| 196/196 [02:56<00:00,  1.11Batch/s, accuracy=0.04]\n",
      "Epoch 6/1000: 100%|████████████████████████████████████████████████| 196/196 [02:57<00:00,  1.10Batch/s, accuracy=0.04]\n",
      "Epoch 7/1000: 100%|████████████████████████████████████████████████| 196/196 [02:58<00:00,  1.10Batch/s, accuracy=0.02]\n",
      "Epoch 8/1000: 100%|████████████████████████████████████████████████| 196/196 [02:57<00:00,  1.10Batch/s, accuracy=0.85]\n",
      "Epoch 9/1000: 100%|█████████████████████████████████████████████████| 196/196 [02:57<00:00,  1.11Batch/s, accuracy=1.0]\n",
      "Epoch 10/1000:   2%|▊                                                 | 3/196 [00:02<02:55,  1.10Batch/s, accuracy=1.0]"
     ]
    },
    {
     "ename": "KeyboardInterrupt",
     "evalue": "",
     "output_type": "error",
     "traceback": [
      "\u001b[1;31m---------------------------------------------------------------------------\u001b[0m",
      "\u001b[1;31mKeyboardInterrupt\u001b[0m                         Traceback (most recent call last)",
      "\u001b[1;32m<ipython-input-5-3773f426ec64>\u001b[0m in \u001b[0;36m<module>\u001b[1;34m\u001b[0m\n\u001b[0;32m     52\u001b[0m         \u001b[1;32mfor\u001b[0m \u001b[0mpointers\u001b[0m\u001b[1;33m,\u001b[0m \u001b[0mvalues\u001b[0m \u001b[1;32min\u001b[0m \u001b[0mzip\u001b[0m\u001b[1;33m(\u001b[0m\u001b[0my\u001b[0m\u001b[1;33m,\u001b[0m \u001b[0mz\u001b[0m\u001b[1;33m)\u001b[0m\u001b[1;33m:\u001b[0m\u001b[1;33m\u001b[0m\u001b[1;33m\u001b[0m\u001b[0m\n\u001b[0;32m     53\u001b[0m             \u001b[0mgoal\u001b[0m \u001b[1;33m=\u001b[0m \u001b[1;33m[\u001b[0m\u001b[1;33m]\u001b[0m\u001b[1;33m\u001b[0m\u001b[1;33m\u001b[0m\u001b[0m\n\u001b[1;32m---> 54\u001b[1;33m             \u001b[1;32mfor\u001b[0m \u001b[0mpoint\u001b[0m \u001b[1;32min\u001b[0m \u001b[0mpointers\u001b[0m\u001b[1;33m.\u001b[0m\u001b[0mcpu\u001b[0m\u001b[1;33m(\u001b[0m\u001b[1;33m)\u001b[0m\u001b[1;33m.\u001b[0m\u001b[0mnumpy\u001b[0m\u001b[1;33m(\u001b[0m\u001b[1;33m)\u001b[0m\u001b[1;33m:\u001b[0m\u001b[1;33m\u001b[0m\u001b[1;33m\u001b[0m\u001b[0m\n\u001b[0m\u001b[0;32m     55\u001b[0m                 \u001b[0mgoal\u001b[0m\u001b[1;33m.\u001b[0m\u001b[0mappend\u001b[0m\u001b[1;33m(\u001b[0m\u001b[0mvalues\u001b[0m\u001b[1;33m[\u001b[0m\u001b[0mpoint\u001b[0m\u001b[1;33m]\u001b[0m\u001b[1;33m)\u001b[0m\u001b[1;33m\u001b[0m\u001b[1;33m\u001b[0m\u001b[0m\n\u001b[0;32m     56\u001b[0m             \u001b[0my_true\u001b[0m\u001b[1;33m.\u001b[0m\u001b[0mappend\u001b[0m\u001b[1;33m(\u001b[0m\u001b[0mgoal\u001b[0m\u001b[1;33m)\u001b[0m\u001b[1;33m\u001b[0m\u001b[1;33m\u001b[0m\u001b[0m\n",
      "\u001b[1;31mKeyboardInterrupt\u001b[0m: "
     ]
    }
   ],
   "source": [
    "from tqdm import tqdm\n",
    "losses = []\n",
    "\n",
    "\n",
    "for i_epoch, epoch in enumerate(range(params['nof_epoch'])):\n",
    "    batch_loss = []\n",
    "    iterator = tqdm(dataloader, unit='Batch')\n",
    "    for i_batch, sample_batched in enumerate(iterator):\n",
    "        # training\n",
    "        model.train()\n",
    "        iterator.set_description('Epoch %i/%i' % (epoch+1, params['nof_epoch']))\n",
    "\n",
    "        x, y, _ = sample_batched\n",
    "        train_batch = Variable(x).float()\n",
    "        target_batch = Variable(y)\n",
    "\n",
    "        if torch.cuda.is_available():\n",
    "            train_batch = train_batch.cuda()\n",
    "            target_batch = target_batch.cuda()\n",
    "\n",
    "        o, p = model(train_batch)\n",
    "        o = o.contiguous().view(-1, o.size()[-1])\n",
    "        target_batch = target_batch.view(-1)\n",
    "        \n",
    "        loss = CCE(o, target_batch)\n",
    "        \n",
    "        losses.append(loss.data)\n",
    "        batch_loss.append(loss.data)\n",
    "\n",
    "        model_optim.zero_grad()\n",
    "        loss.backward()\n",
    "        model_optim.step()\n",
    "        \n",
    "        # evaluation\n",
    "        model.eval()\n",
    "        num_samples = 100\n",
    "        test_dataset = AlphabetSortingDataset(num_samples, min_len=max_len, max_len=min_len) \n",
    "        x, y, z = test_dataset[:]\n",
    "        x = x.cuda().float()\n",
    "        y = y.cuda()\n",
    "\n",
    "        o, p = model(x)\n",
    "\n",
    "        y_pred = []\n",
    "        for pointers, values in zip(p, z):\n",
    "            goal = []\n",
    "            for point in pointers.cpu().numpy():\n",
    "                goal.append(values[point])\n",
    "            y_pred.append(goal)\n",
    "\n",
    "        y_true = []\n",
    "        for pointers, values in zip(y, z):\n",
    "            goal = []\n",
    "            for point in pointers.cpu().numpy():\n",
    "                goal.append(values[point])\n",
    "            y_true.append(goal)\n",
    "        \n",
    "        correct = 0\n",
    "        for seq_pred, seq_true in zip(y_pred, y_true):\n",
    "            correct += all([pred == true for (pred, true) in zip(seq_pred, seq_true)])\n",
    "        accuracy = correct / num_samples\n",
    "\n",
    "        iterator.set_postfix(accuracy='{}'.format(accuracy))\n",
    "        \n",
    "    # each epoch, reduce the learning rate\n",
    "    for param in model_optim.param_groups:\n",
    "            param['lr'] *= 0.95\n",
    "            \n",
    "    batch_loss = torch.Tensor(batch_loss)\n",
    "    iterator.set_postfix(loss=np.average(batch_loss))"
   ]
  },
  {
   "cell_type": "code",
   "execution_count": 6,
   "metadata": {},
   "outputs": [],
   "source": [
    "model.eval()\n",
    "num_samples = 100\n",
    "test_dataset = AlphabetSortingDataset(num_samples, min_len=max_len, max_len=min_len) \n",
    "x, y, z = test_dataset[:]\n",
    "x = x.cuda().float()\n",
    "y = y.cuda()\n",
    "\n",
    "o, p = model(x)\n",
    "\n",
    "y_pred = []\n",
    "for pointers, values in zip(p, z):\n",
    "    goal = []\n",
    "    for point in pointers.cpu().numpy():\n",
    "        goal.append(values[point])\n",
    "    y_pred.append(goal)\n",
    "\n",
    "y_true = []\n",
    "for pointers, values in zip(y, z):\n",
    "    goal = []\n",
    "    for point in pointers.cpu().numpy():\n",
    "        goal.append(values[point])\n",
    "    y_true.append(goal)\n",
    "\n",
    "correct = 0\n",
    "for seq_pred, seq_true in zip(y_pred, y_true):\n",
    "    correct += all([pred == true for (pred, true) in zip(seq_pred, seq_true)])\n",
    "accuracy = correct / num_samples\n",
    "accuracy"
   ]
  },
  {
   "cell_type": "code",
   "execution_count": 10,
   "metadata": {},
   "outputs": [
    {
     "data": {
      "text/plain": [
       "['a',\n",
       " 'b',\n",
       " 'c',\n",
       " 'd',\n",
       " 'e',\n",
       " 'f',\n",
       " 'g',\n",
       " 'h',\n",
       " 'i',\n",
       " 'j',\n",
       " 'k',\n",
       " 'l',\n",
       " 'm',\n",
       " 'n',\n",
       " 'o',\n",
       " 'p',\n",
       " 'q',\n",
       " 's',\n",
       " 't',\n",
       " 'u',\n",
       " 'v',\n",
       " 'w',\n",
       " 'x',\n",
       " 'y',\n",
       " 'z']"
      ]
     },
     "execution_count": 10,
     "metadata": {},
     "output_type": "execute_result"
    }
   ],
   "source": [
    "y_pred[0]"
   ]
  },
  {
   "cell_type": "code",
   "execution_count": 9,
   "metadata": {},
   "outputs": [],
   "source": [
    "model.serialize('serialized/pointer_net.pt')"
   ]
  }
 ],
 "metadata": {
  "kernelspec": {
   "display_name": "Python 3",
   "language": "python",
   "name": "python3"
  },
  "language_info": {
   "codemirror_mode": {
    "name": "ipython",
    "version": 3
   },
   "file_extension": ".py",
   "mimetype": "text/x-python",
   "name": "python",
   "nbconvert_exporter": "python",
   "pygments_lexer": "ipython3",
   "version": "3.7.5"
  }
 },
 "nbformat": 4,
 "nbformat_minor": 2
}

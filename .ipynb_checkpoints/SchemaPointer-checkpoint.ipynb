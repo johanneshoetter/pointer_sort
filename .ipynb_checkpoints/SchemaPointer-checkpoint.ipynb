{
 "cells": [
  {
   "cell_type": "code",
   "execution_count": 1,
   "metadata": {},
   "outputs": [],
   "source": [
    "import torch\n",
    "import torch.optim as optim\n",
    "import torch.backends.cudnn as cudnn\n",
    "from torch.autograd import Variable\n",
    "from torch.utils.data import DataLoader\n",
    "import numpy as np\n",
    "\n",
    "from tqdm import tqdm\n",
    "import pandas as pd\n",
    "import warnings\n",
    "warnings.filterwarnings(\"ignore\")\n",
    "\n",
    "from utils.datasets import SchemaMatchingDataset\n",
    "from models.pointer_net import PointerNet\n",
    "from torch.utils.data import DataLoader"
   ]
  },
  {
   "cell_type": "code",
   "execution_count": 2,
   "metadata": {},
   "outputs": [],
   "source": [
    "params = {\n",
    "    # Data\n",
    "    'batch_size': 64,\n",
    "    'trainsplit': 0.7,\n",
    "    'shuffle': True,\n",
    "    'nof_workers': 0, # must stay at 0\n",
    "    #Train\n",
    "    'nof_epoch': 1000,\n",
    "    'lr': 0.001,\n",
    "    # GPU\n",
    "    'gpu': True,\n",
    "    # Network\n",
    "    'input_size': 300,\n",
    "    'embedding_size': 300,\n",
    "    'hiddens': 256,\n",
    "    'nof_lstms': 2,\n",
    "    'dropout': 0.3,\n",
    "    'bidir': True\n",
    "}"
   ]
  },
  {
   "cell_type": "code",
   "execution_count": 3,
   "metadata": {},
   "outputs": [],
   "source": [
    "def collate(batch):\n",
    "    x, y = [entry[0] for entry in batch], [entry[1] for entry in batch]\n",
    "    max_len = max([len(sequence) for sequence in x])\n",
    "    for idx, (sequence, true) in enumerate(zip(x, y)):\n",
    "        len_padding = max_len - len(sequence)\n",
    "        if len_padding > 0:\n",
    "            target_padding = torch.Tensor([len(sequence) for _ in range(len_padding)]).long()\n",
    "            sequence_padding = torch.zeros(len_padding, params['input_size'])\n",
    "            true = torch.cat([true, target_padding])\n",
    "            sequence = torch.cat([sequence, sequence_padding])\n",
    "            x[idx] = sequence\n",
    "            y[idx] = true\n",
    "    # make tensors out of list of tensors\n",
    "    x = torch.cat([torch.unsqueeze(sequence, dim=0) for sequence in x], dim=0)\n",
    "    y = torch.cat([torch.unsqueeze(targets, dim=0) for targets in y], dim=0)\n",
    "    return x, y"
   ]
  },
  {
   "cell_type": "code",
   "execution_count": 4,
   "metadata": {},
   "outputs": [],
   "source": [
    "dataset = SchemaMatchingDataset(None, from_path=True)\n",
    "dataset.load('data/training')\n",
    "\n",
    "train_dataset, test_dataset = dataset.split(0.8)\n",
    "train_dataloader = DataLoader(train_dataset,\n",
    "                        batch_size=params['batch_size'],\n",
    "                        shuffle=params['shuffle'],\n",
    "                        collate_fn=collate)\n",
    "test_dataloader = DataLoader(test_dataset,\n",
    "                        batch_size=params['batch_size'],\n",
    "                        shuffle=params['shuffle'],\n",
    "                        collate_fn=collate)"
   ]
  },
  {
   "cell_type": "code",
   "execution_count": 5,
   "metadata": {},
   "outputs": [],
   "source": [
    "model = PointerNet(params['input_size'],\n",
    "                   params['embedding_size'],\n",
    "                   params['hiddens'],\n",
    "                   params['nof_lstms'],\n",
    "                   params['dropout'],\n",
    "                   params['bidir'])\n",
    "model.initialize('serialized/alphabet_pointer.pt')\n",
    "\n",
    "if params['gpu'] and torch.cuda.is_available():\n",
    "    model.cuda()\n",
    "    net = torch.nn.DataParallel(model, device_ids=range(torch.cuda.device_count()))\n",
    "    cudnn.benchmark = True\n",
    "\n",
    "CCE = torch.nn.CrossEntropyLoss()\n",
    "model_optim = optim.Adam(filter(lambda p: p.requires_grad,\n",
    "                                model.parameters()),\n",
    "                                 lr=params['lr'])"
   ]
  },
  {
   "cell_type": "code",
   "execution_count": 6,
   "metadata": {},
   "outputs": [],
   "source": [
    "def accuracy(p, y):\n",
    "    correct = 0\n",
    "    for pred, true in zip(p, y):\n",
    "        correct += (pred[0].cpu().numpy() == true[0].cpu().numpy())\n",
    "    accuracy = (correct / len(p))\n",
    "    return accuracy"
   ]
  },
  {
   "cell_type": "code",
   "execution_count": 7,
   "metadata": {},
   "outputs": [
    {
     "name": "stderr",
     "output_type": "stream",
     "text": [
      "Epoch 1/1000: 100%|██████████████████████████████████████████████████| 37/37 [00:12<00:00,  2.95Batch/s, train_acc=0.0]\n",
      "100%|█████████████████████████████████████████████████████████████████| 10/10 [00:01<00:00,  6.84Batch/s, test_acc=0.0]\n",
      "Epoch 2/1000: 100%|██████████████████████████████████████████████████| 37/37 [00:11<00:00,  3.25Batch/s, train_acc=0.0]\n",
      "100%|█████████████████████████████████████████████████████████████████| 10/10 [00:01<00:00,  6.51Batch/s, test_acc=0.0]\n",
      "Epoch 3/1000: 100%|██████████████████████████████████████████████████| 37/37 [00:11<00:00,  3.33Batch/s, train_acc=0.0]\n",
      "100%|█████████████████████████████████████████████████████████████████| 10/10 [00:01<00:00,  6.61Batch/s, test_acc=0.0]\n",
      "Epoch 4/1000: 100%|██████████████████████████████████████████████████| 37/37 [00:10<00:00,  3.48Batch/s, train_acc=0.0]\n",
      "100%|█████████████████████████████████████████████████████████████████| 10/10 [00:01<00:00,  6.67Batch/s, test_acc=0.0]\n",
      "Epoch 5/1000: 100%|██████████████████████████████████████████████████| 37/37 [00:10<00:00,  3.48Batch/s, train_acc=0.0]\n",
      "100%|█████████████████████████████████████████████████████████████████| 10/10 [00:01<00:00,  6.65Batch/s, test_acc=0.0]\n",
      "Epoch 6/1000: 100%|██████████████████████████████████████████████████| 37/37 [00:10<00:00,  3.47Batch/s, train_acc=0.0]\n",
      "100%|█████████████████████████████████████████████████████████████████| 10/10 [00:01<00:00,  7.01Batch/s, test_acc=0.0]\n",
      "Epoch 7/1000:  46%|██████████████████████▉                           | 17/37 [00:04<00:05,  3.62Batch/s, train_acc=0.0]"
     ]
    },
    {
     "ename": "KeyboardInterrupt",
     "evalue": "",
     "output_type": "error",
     "traceback": [
      "\u001b[1;31m---------------------------------------------------------------------------\u001b[0m",
      "\u001b[1;31mKeyboardInterrupt\u001b[0m                         Traceback (most recent call last)",
      "\u001b[1;32m<ipython-input-7-1e2181aa3dce>\u001b[0m in \u001b[0;36m<module>\u001b[1;34m\u001b[0m\n\u001b[0;32m     27\u001b[0m \u001b[1;33m\u001b[0m\u001b[0m\n\u001b[0;32m     28\u001b[0m         \u001b[0mmodel_optim\u001b[0m\u001b[1;33m.\u001b[0m\u001b[0mzero_grad\u001b[0m\u001b[1;33m(\u001b[0m\u001b[1;33m)\u001b[0m\u001b[1;33m\u001b[0m\u001b[1;33m\u001b[0m\u001b[0m\n\u001b[1;32m---> 29\u001b[1;33m         \u001b[0mloss\u001b[0m\u001b[1;33m.\u001b[0m\u001b[0mbackward\u001b[0m\u001b[1;33m(\u001b[0m\u001b[1;33m)\u001b[0m\u001b[1;33m\u001b[0m\u001b[1;33m\u001b[0m\u001b[0m\n\u001b[0m\u001b[0;32m     30\u001b[0m         \u001b[0mmodel_optim\u001b[0m\u001b[1;33m.\u001b[0m\u001b[0mstep\u001b[0m\u001b[1;33m(\u001b[0m\u001b[1;33m)\u001b[0m\u001b[1;33m\u001b[0m\u001b[1;33m\u001b[0m\u001b[0m\n\u001b[0;32m     31\u001b[0m \u001b[1;33m\u001b[0m\u001b[0m\n",
      "\u001b[1;32m~\\AppData\\Local\\Continuum\\anaconda3\\envs\\pointer_sort\\lib\\site-packages\\torch\\tensor.py\u001b[0m in \u001b[0;36mbackward\u001b[1;34m(self, gradient, retain_graph, create_graph)\u001b[0m\n\u001b[0;32m    164\u001b[0m                 \u001b[0mproducts\u001b[0m\u001b[1;33m.\u001b[0m \u001b[0mDefaults\u001b[0m \u001b[0mto\u001b[0m\u001b[0;31m \u001b[0m\u001b[0;31m`\u001b[0m\u001b[0;31m`\u001b[0m\u001b[1;32mFalse\u001b[0m\u001b[0;31m`\u001b[0m\u001b[0;31m`\u001b[0m\u001b[1;33m.\u001b[0m\u001b[1;33m\u001b[0m\u001b[1;33m\u001b[0m\u001b[0m\n\u001b[0;32m    165\u001b[0m         \"\"\"\n\u001b[1;32m--> 166\u001b[1;33m         \u001b[0mtorch\u001b[0m\u001b[1;33m.\u001b[0m\u001b[0mautograd\u001b[0m\u001b[1;33m.\u001b[0m\u001b[0mbackward\u001b[0m\u001b[1;33m(\u001b[0m\u001b[0mself\u001b[0m\u001b[1;33m,\u001b[0m \u001b[0mgradient\u001b[0m\u001b[1;33m,\u001b[0m \u001b[0mretain_graph\u001b[0m\u001b[1;33m,\u001b[0m \u001b[0mcreate_graph\u001b[0m\u001b[1;33m)\u001b[0m\u001b[1;33m\u001b[0m\u001b[1;33m\u001b[0m\u001b[0m\n\u001b[0m\u001b[0;32m    167\u001b[0m \u001b[1;33m\u001b[0m\u001b[0m\n\u001b[0;32m    168\u001b[0m     \u001b[1;32mdef\u001b[0m \u001b[0mregister_hook\u001b[0m\u001b[1;33m(\u001b[0m\u001b[0mself\u001b[0m\u001b[1;33m,\u001b[0m \u001b[0mhook\u001b[0m\u001b[1;33m)\u001b[0m\u001b[1;33m:\u001b[0m\u001b[1;33m\u001b[0m\u001b[1;33m\u001b[0m\u001b[0m\n",
      "\u001b[1;32m~\\AppData\\Local\\Continuum\\anaconda3\\envs\\pointer_sort\\lib\\site-packages\\torch\\autograd\\__init__.py\u001b[0m in \u001b[0;36mbackward\u001b[1;34m(tensors, grad_tensors, retain_graph, create_graph, grad_variables)\u001b[0m\n\u001b[0;32m     97\u001b[0m     Variable._execution_engine.run_backward(\n\u001b[0;32m     98\u001b[0m         \u001b[0mtensors\u001b[0m\u001b[1;33m,\u001b[0m \u001b[0mgrad_tensors\u001b[0m\u001b[1;33m,\u001b[0m \u001b[0mretain_graph\u001b[0m\u001b[1;33m,\u001b[0m \u001b[0mcreate_graph\u001b[0m\u001b[1;33m,\u001b[0m\u001b[1;33m\u001b[0m\u001b[1;33m\u001b[0m\u001b[0m\n\u001b[1;32m---> 99\u001b[1;33m         allow_unreachable=True)  # allow_unreachable flag\n\u001b[0m\u001b[0;32m    100\u001b[0m \u001b[1;33m\u001b[0m\u001b[0m\n\u001b[0;32m    101\u001b[0m \u001b[1;33m\u001b[0m\u001b[0m\n",
      "\u001b[1;31mKeyboardInterrupt\u001b[0m: "
     ]
    }
   ],
   "source": [
    "logs = [] #plotting curve\n",
    "for i_epoch, epoch in enumerate(range(params['nof_epoch'])):\n",
    "    train_accs, test_accs = [], []\n",
    "    \n",
    "    train_iterator = tqdm(train_dataloader, unit='Batch')\n",
    "    for i_batch, sample_batched in enumerate(train_iterator):\n",
    "        # training\n",
    "        model.train()\n",
    "        train_iterator.set_description('Epoch %i/%i' % (epoch+1, params['nof_epoch']))\n",
    "\n",
    "        x, y = sample_batched\n",
    "        train_batch = Variable(x).float()\n",
    "        target_batch = Variable(y)\n",
    "\n",
    "        if torch.cuda.is_available():\n",
    "            train_batch = train_batch.cuda()\n",
    "            target_batch = target_batch.cuda()\n",
    "\n",
    "        o, p = model(train_batch)\n",
    "        train_acc = accuracy(p, target_batch)\n",
    "        train_accs.append(train_acc)\n",
    "        \n",
    "        o = o.contiguous().view(-1, o.size()[-1])\n",
    "        target_batch_pressed = target_batch.view(-1)\n",
    "        \n",
    "        loss = CCE(o, target_batch_pressed)\n",
    "\n",
    "        model_optim.zero_grad()\n",
    "        loss.backward()\n",
    "        model_optim.step()\n",
    "        \n",
    "        train_iterator.set_postfix(train_acc='{}'.format(train_acc))\n",
    "    train_iterator.set_postfix(train_acc='{}'.format(np.average(train_accs)))    \n",
    "    \n",
    "    test_iterator = tqdm(test_dataloader, unit='Batch')\n",
    "    for i_batch, sample_batched in enumerate(test_iterator):\n",
    "        model.eval()\n",
    "        x, y = sample_batched\n",
    "        train_batch = Variable(x).float()\n",
    "        target_batch = Variable(y)\n",
    "\n",
    "        if torch.cuda.is_available():\n",
    "            train_batch = train_batch.cuda()\n",
    "            target_batch = target_batch.cuda()\n",
    "\n",
    "        o, p = model(train_batch)\n",
    "        test_acc = accuracy(p, target_batch)\n",
    "        test_accs.append(test_acc)\n",
    "        test_iterator.set_postfix(test_acc='{}'.format(test_acc))\n",
    "    test_iterator.set_postfix(test_acc='{}'.format(np.average(test_accs)))       \n",
    "    \n",
    "    log = {\n",
    "        'epoch': i_epoch + 1,\n",
    "        'train_acc': np.average(train_accs),\n",
    "        'test_acc': np.average(test_accs)\n",
    "    }\n",
    "    logs.append(log)\n",
    "        \n",
    "    # each epoch, reduce the learning rate\n",
    "    for param in model_optim.param_groups:\n",
    "            param['lr'] *= 0.95"
   ]
  },
  {
   "cell_type": "code",
   "execution_count": null,
   "metadata": {},
   "outputs": [],
   "source": [
    "model.serialize('serialized/schema_pointer.pt')"
   ]
  },
  {
   "cell_type": "code",
   "execution_count": null,
   "metadata": {},
   "outputs": [],
   "source": [
    "logs = pd.DataFrame(logs)\n",
    "logs.to_csv('logging/schema_pointer.txt', index=False)"
   ]
  }
 ],
 "metadata": {
  "kernelspec": {
   "display_name": "Python 3",
   "language": "python",
   "name": "python3"
  },
  "language_info": {
   "codemirror_mode": {
    "name": "ipython",
    "version": 3
   },
   "file_extension": ".py",
   "mimetype": "text/x-python",
   "name": "python",
   "nbconvert_exporter": "python",
   "pygments_lexer": "ipython3",
   "version": "3.7.5"
  }
 },
 "nbformat": 4,
 "nbformat_minor": 2
}

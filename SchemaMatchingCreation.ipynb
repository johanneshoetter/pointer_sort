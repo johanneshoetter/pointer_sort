{
 "cells": [
  {
   "cell_type": "markdown",
   "metadata": {},
   "source": [
    "Mögliche Labels:\n",
    "- eindeutige Positionierung der Zielspalte\n",
    "- mehrfache Positionierungen der Zielspalten sortiert nach derer Kosinus-Ähnlichkeit"
   ]
  },
  {
   "cell_type": "code",
   "execution_count": 8,
   "metadata": {},
   "outputs": [],
   "source": [
    "from utils.preprocessing import WordEmbedding, load_word_emb\n",
    "import random\n",
    "from sklearn.metrics.pairwise import cosine_similarity\n",
    "import pandas as pd\n",
    "import json\n",
    "import numpy as np\n",
    "from tqdm import tqdm\n",
    "from collections import defaultdict\n",
    "\n",
    "import warnings\n",
    "warnings.filterwarnings(\"ignore\")"
   ]
  },
  {
   "cell_type": "code",
   "execution_count": 2,
   "metadata": {},
   "outputs": [],
   "source": [
    "w2v_config = {\n",
    "    'data_dir': 'data/glove',\n",
    "    'word2idx_path': 'word2idx.json',\n",
    "    'usedwordemb_path': 'usedwordemb.npy'\n",
    "}\n",
    "w2v = WordEmbedding(load_word_emb(w2v_config['data_dir'], \n",
    "                                  w2v_config['word2idx_path'],\n",
    "                                  w2v_config['usedwordemb_path']))"
   ]
  },
  {
   "cell_type": "code",
   "execution_count": 3,
   "metadata": {},
   "outputs": [
    {
     "data": {
      "text/html": [
       "<div>\n",
       "<style scoped>\n",
       "    .dataframe tbody tr th:only-of-type {\n",
       "        vertical-align: middle;\n",
       "    }\n",
       "\n",
       "    .dataframe tbody tr th {\n",
       "        vertical-align: top;\n",
       "    }\n",
       "\n",
       "    .dataframe thead th {\n",
       "        text-align: right;\n",
       "    }\n",
       "</style>\n",
       "<table border=\"1\" class=\"dataframe\">\n",
       "  <thead>\n",
       "    <tr style=\"text-align: right;\">\n",
       "      <th></th>\n",
       "      <th>header</th>\n",
       "      <th>fits_1to1</th>\n",
       "      <th>fits_1to0</th>\n",
       "    </tr>\n",
       "  </thead>\n",
       "  <tbody>\n",
       "    <tr>\n",
       "      <th>0</th>\n",
       "      <td>[Date, Time, ACC Team, Big Ten Team, Location,...</td>\n",
       "      <td></td>\n",
       "      <td></td>\n",
       "    </tr>\n",
       "    <tr>\n",
       "      <th>1</th>\n",
       "      <td>[Institution, Wins, Loss, Home Wins, Home Loss...</td>\n",
       "      <td></td>\n",
       "      <td></td>\n",
       "    </tr>\n",
       "    <tr>\n",
       "      <th>2</th>\n",
       "      <td>[Pick #, MLS Team, Player, Position, Affiliation]</td>\n",
       "      <td></td>\n",
       "      <td></td>\n",
       "    </tr>\n",
       "    <tr>\n",
       "      <th>3</th>\n",
       "      <td>[DVD title, Number of Episodes, Region 2, Regi...</td>\n",
       "      <td></td>\n",
       "      <td></td>\n",
       "    </tr>\n",
       "    <tr>\n",
       "      <th>4</th>\n",
       "      <td>[Year, Coach, Crew, Record, Win %]</td>\n",
       "      <td></td>\n",
       "      <td></td>\n",
       "    </tr>\n",
       "  </tbody>\n",
       "</table>\n",
       "</div>"
      ],
      "text/plain": [
       "                                              header fits_1to1 fits_1to0\n",
       "0  [Date, Time, ACC Team, Big Ten Team, Location,...                    \n",
       "1  [Institution, Wins, Loss, Home Wins, Home Loss...                    \n",
       "2  [Pick #, MLS Team, Player, Position, Affiliation]                    \n",
       "3  [DVD title, Number of Episodes, Region 2, Regi...                    \n",
       "4                 [Year, Coach, Crew, Record, Win %]                    "
      ]
     },
     "execution_count": 3,
     "metadata": {},
     "output_type": "execute_result"
    }
   ],
   "source": [
    "# load table schemata\n",
    "with open('data/wikisql/tables.jsonl') as file:\n",
    "    table_schemata = pd.DataFrame([json.loads(line) for line in file.readlines()])\n",
    "table_schemata['fits_1to1'] = ''\n",
    "table_schemata['fits_1to0'] = ''\n",
    "table_schemata['header'] = table_schemata['header'].apply(lambda x: '<|>'.join(x)) # needed to drop duplicates\n",
    "table_schemata = table_schemata[['header', 'fits_1to1', 'fits_1to0']].drop_duplicates().reset_index(drop=True)\n",
    "table_schemata['header'] = table_schemata['header'].apply(lambda x: x.split('<|>')) # rebuild original state\n",
    "table_schemata.head()"
   ]
  },
  {
   "cell_type": "code",
   "execution_count": 4,
   "metadata": {},
   "outputs": [],
   "source": [
    "table_schemata = table_schemata.head(10000)"
   ]
  },
  {
   "cell_type": "code",
   "execution_count": 5,
   "metadata": {},
   "outputs": [],
   "source": [
    "all_headers = []\n",
    "_ = [all_headers.extend(header) for header in table_schemata['header'].values]\n",
    "all_headers = list(set(all_headers))\n",
    "random.shuffle(all_headers)\n",
    "candidates = [column \\\n",
    "              .replace('/', ' ') \\\n",
    "              .replace('_', ' ') \\\n",
    "              for column in all_headers[:1000]]\n",
    "cache = {candidate: np.mean([w2v(word.lower()) for word in candidate.split()], axis=0) for candidate in candidates}\n",
    "if cache.get(''):\n",
    "    del cache['']"
   ]
  },
  {
   "cell_type": "code",
   "execution_count": 11,
   "metadata": {},
   "outputs": [],
   "source": [
    "table_schemata = table_schemata.head(5)"
   ]
  },
  {
   "cell_type": "code",
   "execution_count": 18,
   "metadata": {},
   "outputs": [
    {
     "name": "stderr",
     "output_type": "stream",
     "text": [
      "100%|████████████████████████████████████████████████████████████████████| 5/5 [00:01<00:00,  3.11it/s]\n"
     ]
    }
   ],
   "source": [
    "\n",
    "\n",
    "def calculate_1to1(header, cache):\n",
    "    eps = 0.001\n",
    "    embs = [np.mean([w2v(word.lower()) for word in col.split()], axis=0) for col in header]\n",
    "    fits = defaultdict(list)\n",
    "    for candidate, embedding in cache.items():\n",
    "        try:\n",
    "            vectors = [embedding] + embs\n",
    "            similarity = cosine_similarity(vectors)[0][1:]\n",
    "            max_sim = np.max(similarity)\n",
    "            if abs(max_sim + eps) >= 1.0:\n",
    "                continue\n",
    "            max_pos = np.argmax(similarity)\n",
    "\n",
    "            # append the best candidate with its similarity to the header\n",
    "            # to the lists of candidates for the given header\n",
    "            # i.e. fits['ACC Team'] -> [('Team', 0.75), ('Coach', 0.64), (<new candidate>, <similarity>)]\n",
    "            fits[header[max_pos]].append((candidate, max_sim))\n",
    "        except:\n",
    "            continue\n",
    "    return fits    \n",
    "\n",
    "def calculate_1t0(header, cache, threshold=0.6):\n",
    "    embs = [np.mean([w2v(word.lower()) for word in col.split()], axis=0) for col in header]\n",
    "    fits = defaultdict(list)\n",
    "    for candidate, embedding in cache.items():\n",
    "        try:\n",
    "            vectors = [embedding] + embs\n",
    "            similarity = cosine_similarity(vectors)[0][1:]\n",
    "            max_sim = np.max(similarity)\n",
    "            # if the candidate is not similar to any of the columns, append it to the fits\n",
    "            if max_sim < threshold:\n",
    "                min_sim = np.min(similarity)\n",
    "                min_pos = np.argmin(similarity)\n",
    "                fits[header[min_pos]].append((candidate, min_sim))\n",
    "        except:\n",
    "            continue\n",
    "    return fits\n",
    "\n",
    "def reduce_fits(good_fits, increase_similarity=True, lower_threshold=0.9, upper_threshold=0.3):\n",
    "    best_fits = {}\n",
    "    for column, candidate_tuples in good_fits.items():\n",
    "        best_candidate = sorted(candidate_tuples, key=lambda x: x[1], reverse=True if increase_similarity else False)[0]\n",
    "        similarity = best_candidate[1]\n",
    "        if increase_similarity:\n",
    "            if similarity > lower_threshold:\n",
    "                best_fits[column] = best_candidate[0]\n",
    "        else:\n",
    "            if similarity < upper_threshold:\n",
    "                best_fits[column] = best_candidate[0]\n",
    "    return best_fits\n",
    "\n",
    "for idx, row in tqdm(table_schemata.iterrows(), total=len(table_schemata)):\n",
    "    header = row['header']\n",
    "    fits_1to1 = calculate_1to1(header, cache)\n",
    "    fits_1to1 = reduce_fits(fits_1to1, increase_similarity=True)\n",
    "    \n",
    "    fits_1to0 = calculate_1t0(header, cache)\n",
    "    fits_1to0 = reduce_fits(fits_1to0, increase_similarity=False)\n",
    "    \n",
    "    \n",
    "    row['fits_1to1'] = fits_1to1\n",
    "    row['fits_1to0'] = fits_1to0\n",
    "    table_schemata.loc[idx] = row"
   ]
  },
  {
   "cell_type": "code",
   "execution_count": 19,
   "metadata": {},
   "outputs": [
    {
     "data": {
      "text/html": [
       "<div>\n",
       "<style scoped>\n",
       "    .dataframe tbody tr th:only-of-type {\n",
       "        vertical-align: middle;\n",
       "    }\n",
       "\n",
       "    .dataframe tbody tr th {\n",
       "        vertical-align: top;\n",
       "    }\n",
       "\n",
       "    .dataframe thead th {\n",
       "        text-align: right;\n",
       "    }\n",
       "</style>\n",
       "<table border=\"1\" class=\"dataframe\">\n",
       "  <thead>\n",
       "    <tr style=\"text-align: right;\">\n",
       "      <th></th>\n",
       "      <th>header</th>\n",
       "      <th>fits_1to1</th>\n",
       "      <th>fits_1to0</th>\n",
       "    </tr>\n",
       "  </thead>\n",
       "  <tbody>\n",
       "    <tr>\n",
       "      <th>0</th>\n",
       "      <td>[Date, Time, ACC Team, Big Ten Team, Location,...</td>\n",
       "      <td>{'Time': 'Time   Time Zone'}</td>\n",
       "      <td>{'Attendance': 'Campeonato Paulista', 'Winner'...</td>\n",
       "    </tr>\n",
       "    <tr>\n",
       "      <th>1</th>\n",
       "      <td>[Institution, Wins, Loss, Home Wins, Home Loss...</td>\n",
       "      <td>{}</td>\n",
       "      <td>{'Neutral Wins': 'Phoenician', 'Institution': ...</td>\n",
       "    </tr>\n",
       "    <tr>\n",
       "      <th>2</th>\n",
       "      <td>[Pick #, MLS Team, Player, Position, Affiliation]</td>\n",
       "      <td>{}</td>\n",
       "      <td>{'Affiliation': 'IntelliTrace', 'Player': 'Cho...</td>\n",
       "    </tr>\n",
       "    <tr>\n",
       "      <th>3</th>\n",
       "      <td>[DVD title, Number of Episodes, Region 2, Regi...</td>\n",
       "      <td>{}</td>\n",
       "      <td>{'DVD title': 'Cholim', 'Region 1 (US)': '100-...</td>\n",
       "    </tr>\n",
       "    <tr>\n",
       "      <th>4</th>\n",
       "      <td>[Year, Coach, Crew, Record, Win %]</td>\n",
       "      <td>{'Year': 'Last Year', 'Win %': 'Wins %'}</td>\n",
       "      <td>{'Coach': 'Resultado', 'Crew': '100-yr', 'Year...</td>\n",
       "    </tr>\n",
       "  </tbody>\n",
       "</table>\n",
       "</div>"
      ],
      "text/plain": [
       "                                              header  \\\n",
       "0  [Date, Time, ACC Team, Big Ten Team, Location,...   \n",
       "1  [Institution, Wins, Loss, Home Wins, Home Loss...   \n",
       "2  [Pick #, MLS Team, Player, Position, Affiliation]   \n",
       "3  [DVD title, Number of Episodes, Region 2, Regi...   \n",
       "4                 [Year, Coach, Crew, Record, Win %]   \n",
       "\n",
       "                                  fits_1to1  \\\n",
       "0              {'Time': 'Time   Time Zone'}   \n",
       "1                                        {}   \n",
       "2                                        {}   \n",
       "3                                        {}   \n",
       "4  {'Year': 'Last Year', 'Win %': 'Wins %'}   \n",
       "\n",
       "                                           fits_1to0  \n",
       "0  {'Attendance': 'Campeonato Paulista', 'Winner'...  \n",
       "1  {'Neutral Wins': 'Phoenician', 'Institution': ...  \n",
       "2  {'Affiliation': 'IntelliTrace', 'Player': 'Cho...  \n",
       "3  {'DVD title': 'Cholim', 'Region 1 (US)': '100-...  \n",
       "4  {'Coach': 'Resultado', 'Crew': '100-yr', 'Year...  "
      ]
     },
     "execution_count": 19,
     "metadata": {},
     "output_type": "execute_result"
    }
   ],
   "source": [
    "table_schemata"
   ]
  },
  {
   "cell_type": "code",
   "execution_count": 16,
   "metadata": {},
   "outputs": [
    {
     "name": "stderr",
     "output_type": "stream",
     "text": [
      " 40%|███████████████████████████▏                                        | 2/5 [00:00<00:00,  6.62it/s]"
     ]
    },
    {
     "name": "stdout",
     "output_type": "stream",
     "text": [
      "Date\n",
      "Time\n",
      "Big Ten Team\n",
      "Location\n",
      "Winner\n",
      "ACC Team\n",
      "Challenge Leader\n",
      "Attendance\n",
      "Television\n",
      "\n",
      "Home Losses\n",
      "Current Streak\n",
      "Away Wins\n",
      "Institution\n",
      "Wins\n",
      "Home Wins\n",
      "Away Losses\n",
      "Neutral Wins\n",
      "Neutral Losses\n",
      "Loss\n",
      "\n"
     ]
    },
    {
     "name": "stderr",
     "output_type": "stream",
     "text": [
      "\r",
      " 60%|████████████████████████████████████████▊                           | 3/5 [00:00<00:00,  6.78it/s]"
     ]
    },
    {
     "name": "stdout",
     "output_type": "stream",
     "text": [
      "Pick #\n",
      "Position\n",
      "MLS Team\n",
      "Affiliation\n",
      "Player\n",
      "\n"
     ]
    },
    {
     "name": "stderr",
     "output_type": "stream",
     "text": [
      "100%|████████████████████████████████████████████████████████████████████| 5/5 [00:00<00:00,  6.23it/s]"
     ]
    },
    {
     "name": "stdout",
     "output_type": "stream",
     "text": [
      "Region 1 (US)\n",
      "Number of Episodes\n",
      "Region 4 (AU)\n",
      "Region 2\n",
      "DVD title\n",
      "\n",
      "Year\n",
      "Win %\n",
      "Record\n",
      "Coach\n",
      "Crew\n",
      "\n"
     ]
    },
    {
     "name": "stderr",
     "output_type": "stream",
     "text": [
      "\n"
     ]
    }
   ],
   "source": [
    "# WiP!\n",
    "def calculate_1toN(header, cache):\n",
    "    eps = 0.001\n",
    "    embs = [np.mean([w2v(word.lower()) for word in col.split()], axis=0) for col in header]\n",
    "    fits = defaultdict(list)\n",
    "    for candidate, embedding in cache.items():\n",
    "        try:\n",
    "            vectors = [embedding] + embs\n",
    "            similarity = cosine_similarity(vectors)[0][1:]\n",
    "            max_sim = np.max(similarity)\n",
    "            if abs(max_sim + eps) >= 1.0:\n",
    "                continue\n",
    "            max_pos = np.argmax(similarity)\n",
    "            \n",
    "\n",
    "            # append the best candidate with its similarity to the header\n",
    "            # to the lists of candidates for the given header\n",
    "            # i.e. fits['ACC Team'] -> [('Team', 0.75), ('Coach', 0.64), (<new candidate>, <similarity>)]\n",
    "            fits[header[max_pos]].append((candidate, max_sim))\n",
    "        except:\n",
    "            continue\n",
    "    \n",
    "    return fits\n",
    "\n",
    "for idx, row in tqdm(table_schemata.iterrows(), total=len(table_schemata)):\n",
    "    header = row['header']\n",
    "    fits_1toN = calculate_1toN(header, cache)\n",
    "    for key in fits_1toN.keys():\n",
    "        print(key)\n",
    "    print()\n",
    "    \n",
    "    # wenn einer der Top Kandidaten eine hohe Similarity zu anderen Spalten hat, füge diesen \n",
    "    # Kandidaten den common candidates hinzu\n",
    "    \n",
    "    ##### OLD CODE! ######\n",
    "    #common_candidates = []\n",
    "    #for header_col, candidate_tuples in fits_1toN.items():\n",
    "    #    columns_containing_candidate = [header_col] # indicator which columns contain the candidate\n",
    "    #    other_cols = header[:header.index(header_col)] + header[header.index(header_col) + 1:]\n",
    "    #    for other_col in other_cols:\n",
    "    #        other_candidates = [candidate_tuple[0] for candidate_tuple in fits_1toN[other_col]]\n",
    "    #        this_candidates = [candidate_tuple[0] for candidate_tuple in \\\n",
    "    #                           sorted(candidate_tuples, key=lambda x: x[1], reverse=True)]\n",
    "    #        for candidate in this_candidates:\n",
    "    #            if candidate in other_candidates:\n",
    "    #                print(\"X\")\n",
    "    "
   ]
  },
  {
   "cell_type": "code",
   "execution_count": null,
   "metadata": {},
   "outputs": [],
   "source": [
    "table_schemata.head()"
   ]
  },
  {
   "cell_type": "code",
   "execution_count": null,
   "metadata": {},
   "outputs": [],
   "source": [
    "# Drop rows that have not been tested\n",
    "table_schemata.drop(table_schemata.loc[(table_schemata['fits_1to1'] == '') & \\\n",
    "                                       (table_schemata['fits_1to0'] == '')].index, inplace=True)"
   ]
  },
  {
   "cell_type": "code",
   "execution_count": null,
   "metadata": {},
   "outputs": [],
   "source": [
    "rows = []\n",
    "for idx, ts_row in tqdm(table_schemata.iterrows()):\n",
    "    header, fits_1to1 = ts_row[['header', 'fits_1to1']]\n",
    "    num_words_in_header = len((' '.join(header)).split(' '))\n",
    "    if num_words_in_header > 30:\n",
    "        continue\n",
    "    for target_col, source_col in fits_1to1.items(): \n",
    "        if 'k {\\math' in source_col:\n",
    "            continue\n",
    "        seq_row = {\n",
    "            'source_col': source_col,\n",
    "            'input_cols': '<|>'.join(header),\n",
    "            'target_col': target_col\n",
    "        }\n",
    "        rows.append(seq_row)\n",
    "rows = pd.DataFrame(rows)\n",
    "#rows.to_csv('data/training/schema_matching_raw.txt', index=False)"
   ]
  },
  {
   "cell_type": "code",
   "execution_count": null,
   "metadata": {},
   "outputs": [],
   "source": [
    "rows"
   ]
  },
  {
   "cell_type": "code",
   "execution_count": null,
   "metadata": {},
   "outputs": [],
   "source": [
    "rows.shape"
   ]
  },
  {
   "cell_type": "markdown",
   "metadata": {},
   "source": [
    "Vorgehen:\n",
    "1. für jede Tabelle eine Spalte finden, die aus Quellschema sein könnte -> die als Eingabe  \n",
    "Format: Quellspalte -> [Zielspalte]"
   ]
  }
 ],
 "metadata": {
  "kernelspec": {
   "display_name": "Python 3",
   "language": "python",
   "name": "python3"
  },
  "language_info": {
   "codemirror_mode": {
    "name": "ipython",
    "version": 3
   },
   "file_extension": ".py",
   "mimetype": "text/x-python",
   "name": "python",
   "nbconvert_exporter": "python",
   "pygments_lexer": "ipython3",
   "version": "3.7.5"
  }
 },
 "nbformat": 4,
 "nbformat_minor": 2
}

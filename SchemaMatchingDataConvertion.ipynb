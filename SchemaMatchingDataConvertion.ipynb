{
 "cells": [
  {
   "cell_type": "code",
   "execution_count": 1,
   "metadata": {},
   "outputs": [],
   "source": [
    "from utils.preprocessing import WordEmbedding, load_word_emb\n",
    "import os\n",
    "import pandas as pd\n",
    "import numpy as np\n",
    "import torch\n",
    "from torch.utils.data import Dataset\n",
    "from tqdm import tqdm\n",
    "\n",
    "import warnings\n",
    "warnings.filterwarnings(\"ignore\")\n",
    "\n",
    "from utils.datasets import SchemaMatchingDataset"
   ]
  },
  {
   "cell_type": "code",
   "execution_count": 2,
   "metadata": {},
   "outputs": [],
   "source": [
    "schema_matches = pd.read_csv('data/training/schema_matching_raw_1toN.txt')\n",
    "schema_matches['input_cols'] = schema_matches['input_cols'].apply(lambda x: x.split('<|>'))\n",
    "schema_matches['target_cols'] = schema_matches['target_cols'].apply(lambda x: x.split('<|>'))"
   ]
  },
  {
   "cell_type": "code",
   "execution_count": 3,
   "metadata": {},
   "outputs": [
    {
     "data": {
      "text/html": [
       "<div>\n",
       "<style scoped>\n",
       "    .dataframe tbody tr th:only-of-type {\n",
       "        vertical-align: middle;\n",
       "    }\n",
       "\n",
       "    .dataframe tbody tr th {\n",
       "        vertical-align: top;\n",
       "    }\n",
       "\n",
       "    .dataframe thead th {\n",
       "        text-align: right;\n",
       "    }\n",
       "</style>\n",
       "<table border=\"1\" class=\"dataframe\">\n",
       "  <thead>\n",
       "    <tr style=\"text-align: right;\">\n",
       "      <th></th>\n",
       "      <th>source_col</th>\n",
       "      <th>input_cols</th>\n",
       "      <th>target_cols</th>\n",
       "    </tr>\n",
       "  </thead>\n",
       "  <tbody>\n",
       "    <tr>\n",
       "      <th>0</th>\n",
       "      <td>Year Ended</td>\n",
       "      <td>[Year, Champion, Score, Runner-up, Coach]</td>\n",
       "      <td>[Year]</td>\n",
       "    </tr>\n",
       "    <tr>\n",
       "      <th>1</th>\n",
       "      <td>% Of the population (Censo 2010)</td>\n",
       "      <td>[Contestant, Starting Weight (kg), Final Weigh...</td>\n",
       "      <td>[Position (out of Eliminated Contestants)]</td>\n",
       "    </tr>\n",
       "    <tr>\n",
       "      <th>2</th>\n",
       "      <td>Example name</td>\n",
       "      <td>[Name, Country, Status, Transfer window, Trans...</td>\n",
       "      <td>[Name]</td>\n",
       "    </tr>\n",
       "    <tr>\n",
       "      <th>3</th>\n",
       "      <td>Area (km 2 .)</td>\n",
       "      <td>[Rank, Islands Name, Area (sqmi), Area (km 2 )...</td>\n",
       "      <td>[Area (sqmi)]</td>\n",
       "    </tr>\n",
       "    <tr>\n",
       "      <th>4</th>\n",
       "      <td>Year Ended</td>\n",
       "      <td>[Year, Event, Venue, Driver, Result]</td>\n",
       "      <td>[Year]</td>\n",
       "    </tr>\n",
       "  </tbody>\n",
       "</table>\n",
       "</div>"
      ],
      "text/plain": [
       "                         source_col  \\\n",
       "0                        Year Ended   \n",
       "1  % Of the population (Censo 2010)   \n",
       "2                      Example name   \n",
       "3                     Area (km 2 .)   \n",
       "4                        Year Ended   \n",
       "\n",
       "                                          input_cols  \\\n",
       "0          [Year, Champion, Score, Runner-up, Coach]   \n",
       "1  [Contestant, Starting Weight (kg), Final Weigh...   \n",
       "2  [Name, Country, Status, Transfer window, Trans...   \n",
       "3  [Rank, Islands Name, Area (sqmi), Area (km 2 )...   \n",
       "4               [Year, Event, Venue, Driver, Result]   \n",
       "\n",
       "                                  target_cols  \n",
       "0                                      [Year]  \n",
       "1  [Position (out of Eliminated Contestants)]  \n",
       "2                                      [Name]  \n",
       "3                               [Area (sqmi)]  \n",
       "4                                      [Year]  "
      ]
     },
     "execution_count": 3,
     "metadata": {},
     "output_type": "execute_result"
    }
   ],
   "source": [
    "schema_matches.head()"
   ]
  },
  {
   "cell_type": "code",
   "execution_count": null,
   "metadata": {},
   "outputs": [
    {
     "name": "stderr",
     "output_type": "stream",
     "text": [
      " 45%|███████████████████████████████████▏                                          | 2136/4731 [23:41<20:44,  2.09it/s]"
     ]
    }
   ],
   "source": [
    "dataset = SchemaMatchingDataset(schema_matches)"
   ]
  },
  {
   "cell_type": "code",
   "execution_count": null,
   "metadata": {},
   "outputs": [],
   "source": [
    "dataset.save('data/training')"
   ]
  }
 ],
 "metadata": {
  "kernelspec": {
   "display_name": "Python 3",
   "language": "python",
   "name": "python3"
  },
  "language_info": {
   "codemirror_mode": {
    "name": "ipython",
    "version": 3
   },
   "file_extension": ".py",
   "mimetype": "text/x-python",
   "name": "python",
   "nbconvert_exporter": "python",
   "pygments_lexer": "ipython3",
   "version": "3.7.5"
  }
 },
 "nbformat": 4,
 "nbformat_minor": 2
}

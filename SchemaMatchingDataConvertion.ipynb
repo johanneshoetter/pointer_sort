{
 "cells": [
  {
   "cell_type": "code",
   "execution_count": 1,
   "metadata": {},
   "outputs": [],
   "source": [
    "from utils.preprocessing import WordEmbedding, load_word_emb\n",
    "import os\n",
    "import pandas as pd\n",
    "import numpy as np\n",
    "import torch\n",
    "from torch.utils.data import Dataset\n",
    "from tqdm import tqdm\n",
    "\n",
    "import warnings\n",
    "warnings.filterwarnings(\"ignore\")\n",
    "\n",
    "from utils.datasets import SchemaMatchingDataset\n",
    "from sklearn.model_selection import train_test_split"
   ]
  },
  {
   "cell_type": "code",
   "execution_count": 2,
   "metadata": {},
   "outputs": [],
   "source": [
    "schema_matches = pd.read_csv('data/training/schema_matching_raw_1toN.txt')\n",
    "schema_matches = schema_matches.sample(frac=1).reset_index(drop=True)"
   ]
  },
  {
   "cell_type": "code",
   "execution_count": 3,
   "metadata": {},
   "outputs": [
    {
     "data": {
      "text/html": [
       "<div>\n",
       "<style scoped>\n",
       "    .dataframe tbody tr th:only-of-type {\n",
       "        vertical-align: middle;\n",
       "    }\n",
       "\n",
       "    .dataframe tbody tr th {\n",
       "        vertical-align: top;\n",
       "    }\n",
       "\n",
       "    .dataframe thead th {\n",
       "        text-align: right;\n",
       "    }\n",
       "</style>\n",
       "<table border=\"1\" class=\"dataframe\">\n",
       "  <thead>\n",
       "    <tr style=\"text-align: right;\">\n",
       "      <th></th>\n",
       "      <th>source_col</th>\n",
       "      <th>input_cols</th>\n",
       "      <th>target_cols</th>\n",
       "    </tr>\n",
       "  </thead>\n",
       "  <tbody>\n",
       "    <tr>\n",
       "      <th>0</th>\n",
       "      <td>Lens (35mm equiv) zoom, aperture</td>\n",
       "      <td>Model&lt;|&gt;Sensor res., size&lt;|&gt;Lens(35mmequiv.) z...</td>\n",
       "      <td>Lens(35mmequiv.) zoom, aperture</td>\n",
       "    </tr>\n",
       "    <tr>\n",
       "      <th>1</th>\n",
       "      <td>Biggenden</td>\n",
       "      <td>Series&lt;|&gt;Host&lt;|&gt;Launch date&lt;|&gt;Finale date&lt;|&gt;Da...</td>\n",
       "      <td>&lt;NONE&gt;</td>\n",
       "    </tr>\n",
       "    <tr>\n",
       "      <th>2</th>\n",
       "      <td>2010 Population</td>\n",
       "      <td>2012 rank&lt;|&gt;Municipio&lt;|&gt;2010 land area&lt;|&gt;2010 ...</td>\n",
       "      <td>2010 population density</td>\n",
       "    </tr>\n",
       "    <tr>\n",
       "      <th>3</th>\n",
       "      <td>Density (Pop. per km 2 )</td>\n",
       "      <td>Rank&lt;|&gt;Incorporated place&lt;|&gt;Metropolitan area&lt;...</td>\n",
       "      <td>Population density (people per mi 2 )</td>\n",
       "    </tr>\n",
       "    <tr>\n",
       "      <th>4</th>\n",
       "      <td>% Won</td>\n",
       "      <td>Name&lt;|&gt;Period&lt;|&gt;Managed&lt;|&gt;Drawn&lt;|&gt;Lost&lt;|&gt;Win %</td>\n",
       "      <td>Win %</td>\n",
       "    </tr>\n",
       "  </tbody>\n",
       "</table>\n",
       "</div>"
      ],
      "text/plain": [
       "                         source_col  \\\n",
       "0  Lens (35mm equiv) zoom, aperture   \n",
       "1                         Biggenden   \n",
       "2                   2010 Population   \n",
       "3          Density (Pop. per km 2 )   \n",
       "4                             % Won   \n",
       "\n",
       "                                          input_cols  \\\n",
       "0  Model<|>Sensor res., size<|>Lens(35mmequiv.) z...   \n",
       "1  Series<|>Host<|>Launch date<|>Finale date<|>Da...   \n",
       "2  2012 rank<|>Municipio<|>2010 land area<|>2010 ...   \n",
       "3  Rank<|>Incorporated place<|>Metropolitan area<...   \n",
       "4     Name<|>Period<|>Managed<|>Drawn<|>Lost<|>Win %   \n",
       "\n",
       "                             target_cols  \n",
       "0        Lens(35mmequiv.) zoom, aperture  \n",
       "1                                 <NONE>  \n",
       "2                2010 population density  \n",
       "3  Population density (people per mi 2 )  \n",
       "4                                  Win %  "
      ]
     },
     "execution_count": 3,
     "metadata": {},
     "output_type": "execute_result"
    }
   ],
   "source": [
    "schema_matches.head()"
   ]
  },
  {
   "cell_type": "code",
   "execution_count": 4,
   "metadata": {},
   "outputs": [
    {
     "data": {
      "text/plain": [
       "(27877, 3)"
      ]
     },
     "execution_count": 4,
     "metadata": {},
     "output_type": "execute_result"
    }
   ],
   "source": [
    "schema_matches.shape"
   ]
  },
  {
   "cell_type": "code",
   "execution_count": 5,
   "metadata": {},
   "outputs": [
    {
     "data": {
      "text/plain": [
       "9333"
      ]
     },
     "execution_count": 5,
     "metadata": {},
     "output_type": "execute_result"
    }
   ],
   "source": [
    "len(schema_matches['input_cols'].unique())"
   ]
  },
  {
   "cell_type": "code",
   "execution_count": 6,
   "metadata": {},
   "outputs": [
    {
     "data": {
      "text/plain": [
       "3013"
      ]
     },
     "execution_count": 6,
     "metadata": {},
     "output_type": "execute_result"
    }
   ],
   "source": [
    "len(schema_matches['source_col'].unique())"
   ]
  },
  {
   "cell_type": "code",
   "execution_count": 7,
   "metadata": {},
   "outputs": [],
   "source": [
    "schema_matches['input_cols'] = schema_matches['input_cols'].apply(lambda x: x.split('<|>'))\n",
    "schema_matches['target_cols'] = schema_matches['target_cols'].apply(lambda x: x.split('<|>'))"
   ]
  },
  {
   "cell_type": "code",
   "execution_count": 8,
   "metadata": {},
   "outputs": [],
   "source": [
    "train_matches, test_matches = train_test_split(schema_matches, test_size=0.2)"
   ]
  },
  {
   "cell_type": "code",
   "execution_count": 9,
   "metadata": {},
   "outputs": [
    {
     "name": "stderr",
     "output_type": "stream",
     "text": [
      "100%|██████████████████████████████████████████████████████████████████████████| 22301/22301 [4:05:11<00:00,  1.52it/s]\n",
      "100%|████████████████████████████████████████████████████████████████████████████| 5576/5576 [1:01:23<00:00,  1.51it/s]\n"
     ]
    }
   ],
   "source": [
    "dataset_train = SchemaMatchingDataset(train_matches)\n",
    "dataset_test = SchemaMatchingDataset(test_matches)"
   ]
  },
  {
   "cell_type": "code",
   "execution_count": 10,
   "metadata": {},
   "outputs": [],
   "source": [
    "dataset_train.save('data/training', suffix='train')\n",
    "dataset_test.save('data/training', suffix='test')"
   ]
  }
 ],
 "metadata": {
  "kernelspec": {
   "display_name": "Python 3",
   "language": "python",
   "name": "python3"
  },
  "language_info": {
   "codemirror_mode": {
    "name": "ipython",
    "version": 3
   },
   "file_extension": ".py",
   "mimetype": "text/x-python",
   "name": "python",
   "nbconvert_exporter": "python",
   "pygments_lexer": "ipython3",
   "version": "3.7.5"
  }
 },
 "nbformat": 4,
 "nbformat_minor": 2
}

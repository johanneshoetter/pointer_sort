{
 "cells": [
  {
   "cell_type": "code",
   "execution_count": 1,
   "metadata": {},
   "outputs": [],
   "source": [
    "import torch\n",
    "import torch.optim as optim\n",
    "import torch.backends.cudnn as cudnn\n",
    "from torch.autograd import Variable\n",
    "from torch.utils.data import DataLoader\n",
    "import numpy as np\n",
    "\n",
    "from tqdm import tqdm\n",
    "import pandas as pd\n",
    "import warnings\n",
    "warnings.filterwarnings(\"ignore\")\n",
    "\n",
    "from utils.datasets import SchemaMatchingDataset\n",
    "from models.pointer_net import PointerNet\n",
    "from torch.utils.data import DataLoader"
   ]
  },
  {
   "cell_type": "code",
   "execution_count": 2,
   "metadata": {},
   "outputs": [],
   "source": [
    "params = {\n",
    "    # Data\n",
    "    'batch_size': 128,\n",
    "    'trainsplit': 0.7,\n",
    "    'shuffle': True,\n",
    "    'nof_workers': 0, # must stay at 0\n",
    "    #Train\n",
    "    'nof_epoch': 1000,\n",
    "    'lr': 0.001,\n",
    "    # GPU\n",
    "    'gpu': True,\n",
    "    # Network\n",
    "    'input_size': 300,\n",
    "    'embedding_size': 300,\n",
    "    'hiddens': 256,\n",
    "    'nof_lstms': 2,\n",
    "    'dropout': 0.3,\n",
    "    'bidir': True\n",
    "}"
   ]
  },
  {
   "cell_type": "code",
   "execution_count": 3,
   "metadata": {},
   "outputs": [],
   "source": [
    "def collate(batch):\n",
    "    x, y = [entry[0] for entry in batch], [entry[1] for entry in batch]\n",
    "    max_len = max([len(sequence) for sequence in x])\n",
    "    for idx, (sequence, true) in enumerate(zip(x, y)):\n",
    "        len_padding = max_len - len(sequence)\n",
    "        if len_padding > 0:\n",
    "            target_padding = torch.Tensor([len(sequence) for _ in range(len_padding)]).long()\n",
    "            sequence_padding = torch.zeros(len_padding, params['input_size'])\n",
    "            true = torch.cat([true, target_padding])\n",
    "            sequence = torch.cat([sequence, sequence_padding])\n",
    "            x[idx] = sequence\n",
    "            y[idx] = true\n",
    "    # make tensors out of list of tensors\n",
    "    x = torch.cat([torch.unsqueeze(sequence, dim=0) for sequence in x], dim=0)\n",
    "    y = torch.cat([torch.unsqueeze(targets, dim=0) for targets in y], dim=0)\n",
    "    return x, y"
   ]
  },
  {
   "cell_type": "code",
   "execution_count": 4,
   "metadata": {},
   "outputs": [],
   "source": [
    "dataset = SchemaMatchingDataset(None, from_path=True)\n",
    "dataset.load('data/training')\n",
    "\n",
    "train_dataset, test_dataset = dataset.split(0.8)\n",
    "train_dataloader = DataLoader(train_dataset,\n",
    "                        batch_size=params['batch_size'],\n",
    "                        shuffle=params['shuffle'],\n",
    "                        collate_fn=collate)\n",
    "test_dataloader = DataLoader(test_dataset,\n",
    "                        batch_size=params['batch_size'],\n",
    "                        shuffle=params['shuffle'],\n",
    "                        collate_fn=collate)"
   ]
  },
  {
   "cell_type": "code",
   "execution_count": 5,
   "metadata": {},
   "outputs": [],
   "source": [
    "model = PointerNet(params['input_size'],\n",
    "                   params['embedding_size'],\n",
    "                   params['hiddens'],\n",
    "                   params['nof_lstms'],\n",
    "                   params['dropout'],\n",
    "                   params['bidir'])\n",
    "model.initialize('serialized/alphabet_pointer.pt')\n",
    "\n",
    "if params['gpu'] and torch.cuda.is_available():\n",
    "    model.cuda()\n",
    "    net = torch.nn.DataParallel(model, device_ids=range(torch.cuda.device_count()))\n",
    "    cudnn.benchmark = True\n",
    "\n",
    "CCE = torch.nn.CrossEntropyLoss()\n",
    "model_optim = optim.Adam(filter(lambda p: p.requires_grad,\n",
    "                                model.parameters()),\n",
    "                                 lr=params['lr'])"
   ]
  },
  {
   "cell_type": "code",
   "execution_count": 6,
   "metadata": {},
   "outputs": [],
   "source": [
    "def accuracy(p, y):\n",
    "    correct = 0\n",
    "    for pred, true in zip(p, y):\n",
    "        correct += (pred[0].cpu().numpy() == true[0].cpu().numpy())\n",
    "    accuracy = (correct / len(p))\n",
    "    return accuracy"
   ]
  },
  {
   "cell_type": "code",
   "execution_count": null,
   "metadata": {},
   "outputs": [
    {
     "name": "stderr",
     "output_type": "stream",
     "text": [
      "Epoch 1/1000: 100%|██████████████████████████████████████████████████| 37/37 [00:12<00:00,  2.95Batch/s, train_acc=0.0]\n",
      "100%|█████████████████████████████████████████████████████████████████| 10/10 [00:01<00:00,  6.84Batch/s, test_acc=0.0]\n",
      "Epoch 2/1000:  30%|██████████████▊                                   | 11/37 [00:03<00:07,  3.34Batch/s, train_acc=0.0]"
     ]
    }
   ],
   "source": [
    "logs = [] #plotting curve\n",
    "for i_epoch, epoch in enumerate(range(params['nof_epoch'])):\n",
    "    train_accs, test_accs = [], []\n",
    "    \n",
    "    train_iterator = tqdm(train_dataloader, unit='Batch')\n",
    "    for i_batch, sample_batched in enumerate(train_iterator):\n",
    "        # training\n",
    "        model.train()\n",
    "        train_iterator.set_description('Epoch %i/%i' % (epoch+1, params['nof_epoch']))\n",
    "\n",
    "        x, y = sample_batched\n",
    "        train_batch = Variable(x).float()\n",
    "        target_batch = Variable(y)\n",
    "\n",
    "        if torch.cuda.is_available():\n",
    "            train_batch = train_batch.cuda()\n",
    "            target_batch = target_batch.cuda()\n",
    "\n",
    "        o, p = model(train_batch)\n",
    "        train_acc = accuracy(p, target_batch)\n",
    "        train_accs.append(train_acc)\n",
    "        \n",
    "        o = o.contiguous().view(-1, o.size()[-1])\n",
    "        target_batch_pressed = target_batch.view(-1)\n",
    "        \n",
    "        loss = CCE(o, target_batch_pressed)\n",
    "\n",
    "        model_optim.zero_grad()\n",
    "        loss.backward()\n",
    "        model_optim.step()\n",
    "        \n",
    "        train_iterator.set_postfix(train_acc='{}'.format(train_acc))\n",
    "    train_iterator.set_postfix(train_acc='{}'.format(np.average(train_accs)))    \n",
    "    \n",
    "    test_iterator = tqdm(test_dataloader, unit='Batch')\n",
    "    for i_batch, sample_batched in enumerate(test_iterator):\n",
    "        model.eval()\n",
    "        x, y = sample_batched\n",
    "        train_batch = Variable(x).float()\n",
    "        target_batch = Variable(y)\n",
    "\n",
    "        if torch.cuda.is_available():\n",
    "            train_batch = train_batch.cuda()\n",
    "            target_batch = target_batch.cuda()\n",
    "\n",
    "        o, p = model(train_batch)\n",
    "        test_acc = accuracy(p, target_batch)\n",
    "        test_accs.append(test_acc)\n",
    "        test_iterator.set_postfix(test_acc='{}'.format(test_acc))\n",
    "    test_iterator.set_postfix(test_acc='{}'.format(np.average(test_accs)))       \n",
    "    \n",
    "    log = {\n",
    "        'epoch': i_epoch + 1,\n",
    "        'train_acc': np.average(train_accs),\n",
    "        'test_acc': np.average(test_accs)\n",
    "    }\n",
    "    logs.append(log)\n",
    "        \n",
    "    # each epoch, reduce the learning rate\n",
    "    for param in model_optim.param_groups:\n",
    "            param['lr'] *= 0.95"
   ]
  },
  {
   "cell_type": "code",
   "execution_count": null,
   "metadata": {},
   "outputs": [],
   "source": [
    "model.serialize('serialized/schema_pointer.pt')"
   ]
  },
  {
   "cell_type": "code",
   "execution_count": null,
   "metadata": {},
   "outputs": [],
   "source": [
    "logs = pd.DataFrame(logs)\n",
    "logs.to_csv('logging/schema_pointer.txt', index=False)"
   ]
  }
 ],
 "metadata": {
  "kernelspec": {
   "display_name": "Python 3",
   "language": "python",
   "name": "python3"
  },
  "language_info": {
   "codemirror_mode": {
    "name": "ipython",
    "version": 3
   },
   "file_extension": ".py",
   "mimetype": "text/x-python",
   "name": "python",
   "nbconvert_exporter": "python",
   "pygments_lexer": "ipython3",
   "version": "3.7.5"
  }
 },
 "nbformat": 4,
 "nbformat_minor": 2
}
